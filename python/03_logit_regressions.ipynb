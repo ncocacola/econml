{
 "cells": [
  {
   "cell_type": "markdown",
   "metadata": {},
   "source": [
    "# Logit Regressions"
   ]
  },
  {
   "cell_type": "markdown",
   "metadata": {},
   "source": [
    "## Experimental Setup"
   ]
  },
  {
   "cell_type": "markdown",
   "metadata": {},
   "source": [
    "### Libraries & Settings"
   ]
  },
  {
   "cell_type": "code",
   "execution_count": 1,
   "metadata": {
    "collapsed": true
   },
   "outputs": [],
   "source": [
    "import os              # General OS commands\n",
    "import numpy as np     # NumPy\n",
    "import pandas as pd    # Python Data Analysis Library\n",
    "import zipfile         # Compress/decompress ZIP files\n",
    "import sqlite3         # SQLite3 Database Driver\n",
    "import re              # Regular Expressions"
   ]
  },
  {
   "cell_type": "code",
   "execution_count": 2,
   "metadata": {
    "collapsed": true
   },
   "outputs": [],
   "source": [
    "import statsmodels.api as sm\n",
    "from sklearn import linear_model, metrics\n",
    "import math"
   ]
  },
  {
   "cell_type": "code",
   "execution_count": 3,
   "metadata": {
    "collapsed": false
   },
   "outputs": [],
   "source": [
    "# Never truncate columns, display all the data\n",
    "from IPython.display import display, HTML\n",
    "pd.set_option('display.max_colwidth', -1)\n",
    "\n",
    "# Display floating-point numbers with 4 decimals in `pandas.DataFrame`\n",
    "pd.options.display.float_format = '{:,.4f}'.format\n",
    "\n",
    "import matplotlib.pyplot as plt\n",
    "# Display MatPlotLib stuff inline\n",
    "%matplotlib inline\n",
    "\n",
    "# Temporary files to delete at the end of the experiment\n",
    "temp_files = []"
   ]
  },
  {
   "cell_type": "markdown",
   "metadata": {},
   "source": [
    "### Database"
   ]
  },
  {
   "cell_type": "code",
   "execution_count": 4,
   "metadata": {
    "collapsed": true
   },
   "outputs": [],
   "source": [
    "zip_filename = \"../data/ee-insee-2015_custom-sqlite.zip\"\n",
    "with zipfile.ZipFile(zip_filename) as zip_file:\n",
    "    zip_file.extractall(\"../data/\")\n",
    "\n",
    "eedb = zip_filename.replace(\"-sqlite.zip\", \".sqlite\")\n",
    "temp_files.append(eedb)"
   ]
  },
  {
   "cell_type": "code",
   "execution_count": 5,
   "metadata": {
    "collapsed": true
   },
   "outputs": [],
   "source": [
    "with sqlite3.connect(eedb) as con:\n",
    "    query = \"SELECT * FROM eec15_custom\"\n",
    "    eec15 = pd.read_sql_query(query, con)"
   ]
  },
  {
   "cell_type": "markdown",
   "metadata": {},
   "source": [
    "## Experiment"
   ]
  },
  {
   "cell_type": "code",
   "execution_count": 6,
   "metadata": {
    "collapsed": true
   },
   "outputs": [],
   "source": [
    "# Create a (\"female\" x \"enfant\") interaction variable\n",
    "bool_ = eec15[[\"enfants_\", \"female_\"]].astype(bool)\n",
    "eec15[\"female_enfants_\"] = (bool_.enfants_ & bool_.female_).astype(int)\n",
    "\n",
    "# Drop data we don't need\n",
    "eec15 = eec15[eec15.age60_ == 0]\n",
    "eec15 = eec15.drop(\"age60_\", 1)\n",
    "\n",
    "# TODO (not finished): Create (\"region\" x \"diplome\") interaction variables\n",
    "# parameters = [x for x in eec15.columns if (x.startswith(\"dip\") or x.startswith(\"region\")) and x.endswith(\"_\")]\n",
    "# bool_ = eec15[parameters].astype(bool)\n",
    "# bool_.head()\n",
    "\n",
    "# Merge region3 and region4 to make them significant\n",
    "# df[\"region3\"] = np.where(df[\"region4\"] == 1, 1, np.where(df[\"region3\"] == 1, 1, 0))"
   ]
  },
  {
   "cell_type": "markdown",
   "metadata": {},
   "source": [
    "### Logit Regression"
   ]
  },
  {
   "cell_type": "code",
   "execution_count": 7,
   "metadata": {
    "collapsed": true
   },
   "outputs": [],
   "source": [
    "# Build a list of parameters to include in the model, using regex\n",
    "# https://www.datarobot.com/blog/multiple-regression-using-statsmodels/\n",
    "params = {\n",
    "    \"age\": \"^age[0-9]{2}_$\",\n",
    "    \"diploma\": \"^dip[0-9]{2}_$\",\n",
    "    \"etranger\": \"^etranger_$\",\n",
    "    \"domtom\": \"^domtom_$\",\n",
    "#     \"trim\": \"^trim$\",\n",
    "    \"female\": \"^female_$\",\n",
    "    \"enfants\": \"^enfants_$\",\n",
    "#     \"female_enfants\": \"^female_enfants_$\",\n",
    "    \"region\": \"^region[1-2]_$\"\n",
    "}\n",
    "params = {k: sorted([x for x in eec15.columns if re.match(r, x)]) for (k, r) in params.items()}\n",
    "\n",
    "# Avoid the dummy variable trap\n",
    "params = {k: (v if len(v) == 1 else v[:-1]) for (k, v) in params.items()}\n",
    "\n",
    "# Convert to a list\n",
    "params = sum(params.values(), [])\n",
    "params += [\"region2_\"]"
   ]
  },
  {
   "cell_type": "markdown",
   "metadata": {},
   "source": [
    "#### Train the model using `trim=1` data"
   ]
  },
  {
   "cell_type": "code",
   "execution_count": 8,
   "metadata": {
    "collapsed": true
   },
   "outputs": [],
   "source": [
    "eec15_t1 = eec15[eec15.trim == 1]\n",
    "X_t1 = eec15_t1[params]\n",
    "y_t1 = eec15_t1[\"actop_\"]"
   ]
  },
  {
   "cell_type": "code",
   "execution_count": 9,
   "metadata": {
    "collapsed": false
   },
   "outputs": [],
   "source": [
    "# Fit using `statsmodels`\n",
    "reg_logit_sm = sm.Logit(y_t1, sm.add_constant(X_t1)).fit(disp=False)\n",
    "\n",
    "# Fit using `sklearn`\n",
    "reg_logit_sk = linear_model.LogisticRegression(solver=\"sag\").fit(X_t1, y_t1)"
   ]
  },
  {
   "cell_type": "code",
   "execution_count": 10,
   "metadata": {
    "collapsed": false
   },
   "outputs": [
    {
     "data": {
      "text/html": [
       "<div>\n",
       "<table border=\"1\" class=\"dataframe\">\n",
       "  <thead>\n",
       "    <tr style=\"text-align: right;\">\n",
       "      <th></th>\n",
       "      <th>age15_</th>\n",
       "      <th>age30_</th>\n",
       "      <th>age40_</th>\n",
       "      <th>const</th>\n",
       "      <th>dip10_</th>\n",
       "      <th>dip11_</th>\n",
       "      <th>dip30_</th>\n",
       "      <th>dip31_</th>\n",
       "      <th>dip33_</th>\n",
       "      <th>dip41_</th>\n",
       "      <th>dip42_</th>\n",
       "      <th>dip50_</th>\n",
       "      <th>dip60_</th>\n",
       "      <th>dip70_</th>\n",
       "      <th>domtom_</th>\n",
       "      <th>enfants_</th>\n",
       "      <th>etranger_</th>\n",
       "      <th>female_</th>\n",
       "      <th>region1_</th>\n",
       "      <th>region2_</th>\n",
       "    </tr>\n",
       "  </thead>\n",
       "  <tbody>\n",
       "    <tr>\n",
       "      <th>sm</th>\n",
       "      <td>1.5972</td>\n",
       "      <td>0.3117</td>\n",
       "      <td>-0.0758</td>\n",
       "      <td>-0.6978</td>\n",
       "      <td>-1.9053</td>\n",
       "      <td>-2.3686</td>\n",
       "      <td>-1.0517</td>\n",
       "      <td>-1.8161</td>\n",
       "      <td>-2.1377</td>\n",
       "      <td>-0.5214</td>\n",
       "      <td>-1.3976</td>\n",
       "      <td>-0.9673</td>\n",
       "      <td>0.1498</td>\n",
       "      <td>-0.1829</td>\n",
       "      <td>0.6042</td>\n",
       "      <td>-0.4556</td>\n",
       "      <td>0.6915</td>\n",
       "      <td>0.5176</td>\n",
       "      <td>0.2039</td>\n",
       "      <td>0.2614</td>\n",
       "    </tr>\n",
       "    <tr>\n",
       "      <th>sk</th>\n",
       "      <td>1.5950</td>\n",
       "      <td>0.3095</td>\n",
       "      <td>-0.0767</td>\n",
       "      <td>-0.7008</td>\n",
       "      <td>-1.8974</td>\n",
       "      <td>-2.3517</td>\n",
       "      <td>-1.0374</td>\n",
       "      <td>-1.8078</td>\n",
       "      <td>-2.1186</td>\n",
       "      <td>-0.5150</td>\n",
       "      <td>-1.3906</td>\n",
       "      <td>-0.9616</td>\n",
       "      <td>0.1555</td>\n",
       "      <td>-0.1774</td>\n",
       "      <td>0.6053</td>\n",
       "      <td>-0.4552</td>\n",
       "      <td>0.6924</td>\n",
       "      <td>0.5166</td>\n",
       "      <td>0.2029</td>\n",
       "      <td>0.2607</td>\n",
       "    </tr>\n",
       "    <tr>\n",
       "      <th>diff</th>\n",
       "      <td>0.0022</td>\n",
       "      <td>0.0022</td>\n",
       "      <td>0.0009</td>\n",
       "      <td>0.0030</td>\n",
       "      <td>-0.0079</td>\n",
       "      <td>-0.0170</td>\n",
       "      <td>-0.0143</td>\n",
       "      <td>-0.0083</td>\n",
       "      <td>-0.0191</td>\n",
       "      <td>-0.0064</td>\n",
       "      <td>-0.0070</td>\n",
       "      <td>-0.0057</td>\n",
       "      <td>-0.0057</td>\n",
       "      <td>-0.0055</td>\n",
       "      <td>-0.0011</td>\n",
       "      <td>-0.0004</td>\n",
       "      <td>-0.0010</td>\n",
       "      <td>0.0009</td>\n",
       "      <td>0.0009</td>\n",
       "      <td>0.0007</td>\n",
       "    </tr>\n",
       "  </tbody>\n",
       "</table>\n",
       "</div>"
      ],
      "text/plain": [
       "      age15_  age30_  age40_   const  dip10_  dip11_  dip30_  dip31_  dip33_  \\\n",
       "sm   1.5972  0.3117  -0.0758 -0.6978 -1.9053 -2.3686 -1.0517 -1.8161 -2.1377   \n",
       "sk   1.5950  0.3095  -0.0767 -0.7008 -1.8974 -2.3517 -1.0374 -1.8078 -2.1186   \n",
       "diff 0.0022  0.0022  0.0009  0.0030  -0.0079 -0.0170 -0.0143 -0.0083 -0.0191   \n",
       "\n",
       "      dip41_  dip42_  dip50_  dip60_  dip70_  domtom_  enfants_  etranger_  \\\n",
       "sm   -0.5214 -1.3976 -0.9673 0.1498  -0.1829 0.6042   -0.4556   0.6915       \n",
       "sk   -0.5150 -1.3906 -0.9616 0.1555  -0.1774 0.6053   -0.4552   0.6924       \n",
       "diff -0.0064 -0.0070 -0.0057 -0.0057 -0.0055 -0.0011  -0.0004   -0.0010      \n",
       "\n",
       "      female_  region1_  region2_  \n",
       "sm   0.5176   0.2039    0.2614     \n",
       "sk   0.5166   0.2029    0.2607     \n",
       "diff 0.0009   0.0009    0.0007     "
      ]
     },
     "execution_count": 10,
     "metadata": {},
     "output_type": "execute_result"
    }
   ],
   "source": [
    "# Compare the coefficients from both fits (they should be the same)\n",
    "regressors = list(X_t1.columns) + [\"const\"]\n",
    "\n",
    "coeffs = pd.DataFrame(index=regressors)\n",
    "coeffs[\"sm\"] = reg_logit_sm.params\n",
    "coeffs[\"sk\"] = pd.Series(np.append(reg_logit_sk.coef_, reg_logit_sk.intercept_), index=regressors)\n",
    "coeffs[\"diff\"] = coeffs[\"sm\"] - coeffs[\"sk\"]\n",
    "\n",
    "coeffs.sort_index().transpose()"
   ]
  },
  {
   "cell_type": "code",
   "execution_count": 11,
   "metadata": {
    "collapsed": false
   },
   "outputs": [
    {
     "name": "stdout",
     "output_type": "stream",
     "text": [
      "Accuracy: 0.762417968643\n"
     ]
    }
   ],
   "source": [
    "# Check the accuracy of the model on the training set\n",
    "print \"Accuracy: {}\".format(reg_logit_sk.score(X_t1, y_t1))"
   ]
  },
  {
   "cell_type": "markdown",
   "metadata": {},
   "source": [
    "#### Apply the model to `trim=2` data"
   ]
  },
  {
   "cell_type": "code",
   "execution_count": 12,
   "metadata": {
    "collapsed": true
   },
   "outputs": [],
   "source": [
    "eec15_t2 = eec15[eec15.trim == 2]\n",
    "X_t2 = eec15_t2[params]\n",
    "y_t2 = eec15_t2[\"actop_\"]"
   ]
  },
  {
   "cell_type": "code",
   "execution_count": 13,
   "metadata": {
    "collapsed": false
   },
   "outputs": [
    {
     "name": "stdout",
     "output_type": "stream",
     "text": [
      "Accuracy: 0.767521534847\n"
     ]
    }
   ],
   "source": [
    "# Check the accuracy of the model on the test set\n",
    "predicted = pd.DataFrame(reg_logit_sk.predict_proba(X_t2), columns=[\"p(y=0)\", \"p(y=1)\"])\n",
    "predicted[\"y\"] = reg_logit_sk.predict(X_t2)\n",
    "print \"Accuracy: {}\".format(metrics.accuracy_score(y_t2, predicted[\"y\"]))"
   ]
  },
  {
   "cell_type": "markdown",
   "metadata": {},
   "source": [
    "### Marginal Effects"
   ]
  },
  {
   "cell_type": "code",
   "execution_count": 14,
   "metadata": {
    "collapsed": true
   },
   "outputs": [],
   "source": [
    "marginal_effects = pd.DataFrame()"
   ]
  },
  {
   "cell_type": "markdown",
   "metadata": {},
   "source": [
    "#### By \"rule-of-thumb\"\n",
    "The \"rule-of-thumb\" divides all regression coefficients by 4 to approximate the marginal effect"
   ]
  },
  {
   "cell_type": "code",
   "execution_count": 15,
   "metadata": {
    "collapsed": false
   },
   "outputs": [],
   "source": [
    "marginal_effects[\"rule_of_thumb\"] = coeffs[\"sm\"]/4"
   ]
  },
  {
   "cell_type": "markdown",
   "metadata": {},
   "source": [
    "##### Analytically (using the derivative formula)\n",
    "Recall that:\n",
    "$$EM(x_1) = \\frac{\\partial{\\mathbb{E}[y|x]}}{\\partial{x_1}} = \\beta_1 \\Lambda'(\\beta_0 + \\beta_1 x_1 + ... )$$\n",
    "where\n",
    "$$ \\Lambda(x) = \\frac{e^x}{1+e^x} = P(y=1|x)$$\n",
    "and\n",
    "$$\\Lambda'(x) = \\Lambda(x)\\Lambda(1-x) = \\Lambda(x)\\Lambda(-x)$$\n",
    "\n",
    "**Note**: for each parameter, we calculate the *mean* marginal effect over the entire training dataset"
   ]
  },
  {
   "cell_type": "code",
   "execution_count": 16,
   "metadata": {
    "collapsed": false
   },
   "outputs": [],
   "source": [
    "def lambda_(x):\n",
    "    return math.exp(x)/(1+math.exp(x))\n",
    "\n",
    "def dlambda(x):\n",
    "    return lambda_(x)*lambda_(-x)"
   ]
  },
  {
   "cell_type": "code",
   "execution_count": 17,
   "metadata": {
    "collapsed": false
   },
   "outputs": [],
   "source": [
    "y_fitted = X_t1.dot(coeffs[\"sm\"][:-1])\n",
    "y_fitted += coeffs[\"sm\"][\"const\"]\n",
    "dlambda_y = y_fitted.map(dlambda)"
   ]
  },
  {
   "cell_type": "code",
   "execution_count": 18,
   "metadata": {
    "collapsed": true
   },
   "outputs": [],
   "source": [
    "marginal_effects[\"analytical\"] = coeffs[\"sm\"]*dlambda_y.mean()"
   ]
  },
  {
   "cell_type": "markdown",
   "metadata": {},
   "source": [
    "#### By modifying the dataset (\"passage de tout le monde en licence\")\n",
    "TODO"
   ]
  },
  {
   "cell_type": "code",
   "execution_count": 19,
   "metadata": {
    "collapsed": false
   },
   "outputs": [
    {
     "data": {
      "text/html": [
       "<div>\n",
       "<table border=\"1\" class=\"dataframe\">\n",
       "  <thead>\n",
       "    <tr style=\"text-align: right;\">\n",
       "      <th></th>\n",
       "      <th>rule_of_thumb</th>\n",
       "      <th>analytical</th>\n",
       "    </tr>\n",
       "  </thead>\n",
       "  <tbody>\n",
       "    <tr>\n",
       "      <th>etranger_</th>\n",
       "      <td>0.1729</td>\n",
       "      <td>0.1148</td>\n",
       "    </tr>\n",
       "    <tr>\n",
       "      <th>age15_</th>\n",
       "      <td>0.3993</td>\n",
       "      <td>0.2652</td>\n",
       "    </tr>\n",
       "    <tr>\n",
       "      <th>age30_</th>\n",
       "      <td>0.0779</td>\n",
       "      <td>0.0518</td>\n",
       "    </tr>\n",
       "    <tr>\n",
       "      <th>age40_</th>\n",
       "      <td>-0.0190</td>\n",
       "      <td>-0.0126</td>\n",
       "    </tr>\n",
       "    <tr>\n",
       "      <th>dip10_</th>\n",
       "      <td>-0.4763</td>\n",
       "      <td>-0.3164</td>\n",
       "    </tr>\n",
       "    <tr>\n",
       "      <th>dip11_</th>\n",
       "      <td>-0.5922</td>\n",
       "      <td>-0.3934</td>\n",
       "    </tr>\n",
       "    <tr>\n",
       "      <th>dip30_</th>\n",
       "      <td>-0.2629</td>\n",
       "      <td>-0.1747</td>\n",
       "    </tr>\n",
       "    <tr>\n",
       "      <th>dip31_</th>\n",
       "      <td>-0.4540</td>\n",
       "      <td>-0.3016</td>\n",
       "    </tr>\n",
       "    <tr>\n",
       "      <th>dip33_</th>\n",
       "      <td>-0.5344</td>\n",
       "      <td>-0.3550</td>\n",
       "    </tr>\n",
       "    <tr>\n",
       "      <th>dip41_</th>\n",
       "      <td>-0.1303</td>\n",
       "      <td>-0.0866</td>\n",
       "    </tr>\n",
       "    <tr>\n",
       "      <th>dip42_</th>\n",
       "      <td>-0.3494</td>\n",
       "      <td>-0.2321</td>\n",
       "    </tr>\n",
       "    <tr>\n",
       "      <th>dip50_</th>\n",
       "      <td>-0.2418</td>\n",
       "      <td>-0.1606</td>\n",
       "    </tr>\n",
       "    <tr>\n",
       "      <th>dip60_</th>\n",
       "      <td>0.0374</td>\n",
       "      <td>0.0249</td>\n",
       "    </tr>\n",
       "    <tr>\n",
       "      <th>dip70_</th>\n",
       "      <td>-0.0457</td>\n",
       "      <td>-0.0304</td>\n",
       "    </tr>\n",
       "    <tr>\n",
       "      <th>female_</th>\n",
       "      <td>0.1294</td>\n",
       "      <td>0.0860</td>\n",
       "    </tr>\n",
       "    <tr>\n",
       "      <th>enfants_</th>\n",
       "      <td>-0.1139</td>\n",
       "      <td>-0.0757</td>\n",
       "    </tr>\n",
       "    <tr>\n",
       "      <th>region1_</th>\n",
       "      <td>0.0510</td>\n",
       "      <td>0.0339</td>\n",
       "    </tr>\n",
       "    <tr>\n",
       "      <th>domtom_</th>\n",
       "      <td>0.1510</td>\n",
       "      <td>0.1003</td>\n",
       "    </tr>\n",
       "    <tr>\n",
       "      <th>region2_</th>\n",
       "      <td>0.0653</td>\n",
       "      <td>0.0434</td>\n",
       "    </tr>\n",
       "    <tr>\n",
       "      <th>const</th>\n",
       "      <td>-0.1744</td>\n",
       "      <td>-0.1159</td>\n",
       "    </tr>\n",
       "  </tbody>\n",
       "</table>\n",
       "</div>"
      ],
      "text/plain": [
       "           rule_of_thumb  analytical\n",
       "etranger_ 0.1729         0.1148     \n",
       "age15_    0.3993         0.2652     \n",
       "age30_    0.0779         0.0518     \n",
       "age40_    -0.0190        -0.0126    \n",
       "dip10_    -0.4763        -0.3164    \n",
       "dip11_    -0.5922        -0.3934    \n",
       "dip30_    -0.2629        -0.1747    \n",
       "dip31_    -0.4540        -0.3016    \n",
       "dip33_    -0.5344        -0.3550    \n",
       "dip41_    -0.1303        -0.0866    \n",
       "dip42_    -0.3494        -0.2321    \n",
       "dip50_    -0.2418        -0.1606    \n",
       "dip60_    0.0374         0.0249     \n",
       "dip70_    -0.0457        -0.0304    \n",
       "female_   0.1294         0.0860     \n",
       "enfants_  -0.1139        -0.0757    \n",
       "region1_  0.0510         0.0339     \n",
       "domtom_   0.1510         0.1003     \n",
       "region2_  0.0653         0.0434     \n",
       "const     -0.1744        -0.1159    "
      ]
     },
     "execution_count": 19,
     "metadata": {},
     "output_type": "execute_result"
    }
   ],
   "source": [
    "marginal_effects"
   ]
  },
  {
   "cell_type": "markdown",
   "metadata": {},
   "source": [
    "## Cleanup\n",
    "\n",
    "Now that the experiments have concluded, we delete all the \"temporary\" files."
   ]
  },
  {
   "cell_type": "code",
   "execution_count": 20,
   "metadata": {
    "collapsed": false
   },
   "outputs": [],
   "source": [
    "for temp in temp_files:\n",
    "    os.remove(temp)"
   ]
  }
 ],
 "metadata": {
  "kernelspec": {
   "display_name": "Python 2",
   "language": "python",
   "name": "python2"
  },
  "language_info": {
   "codemirror_mode": {
    "name": "ipython",
    "version": 2
   },
   "file_extension": ".py",
   "mimetype": "text/x-python",
   "name": "python",
   "nbconvert_exporter": "python",
   "pygments_lexer": "ipython2",
   "version": "2.7.13"
  }
 },
 "nbformat": 4,
 "nbformat_minor": 1
}
