{
 "cells": [
  {
   "cell_type": "markdown",
   "metadata": {},
   "source": [
    "# Logit Regressions"
   ]
  },
  {
   "cell_type": "markdown",
   "metadata": {},
   "source": [
    "## Experimental Setup"
   ]
  },
  {
   "cell_type": "markdown",
   "metadata": {},
   "source": [
    "### Libraries & Settings"
   ]
  },
  {
   "cell_type": "code",
   "execution_count": 1,
   "metadata": {
    "collapsed": true
   },
   "outputs": [],
   "source": [
    "import os              # General OS commands\n",
    "import numpy as np     # NumPy\n",
    "import pandas as pd    # Python Data Analysis Library\n",
    "import zipfile         # Compress/decompress ZIP files\n",
    "import sqlite3         # SQLite3 Database Driver\n",
    "import re              # Regular Expressions"
   ]
  },
  {
   "cell_type": "code",
   "execution_count": 2,
   "metadata": {
    "collapsed": true
   },
   "outputs": [],
   "source": [
    "import statsmodels.api as sm\n",
    "from sklearn import linear_model, metrics\n",
    "import math"
   ]
  },
  {
   "cell_type": "code",
   "execution_count": 3,
   "metadata": {
    "collapsed": false
   },
   "outputs": [],
   "source": [
    "# Never truncate columns, display all the data\n",
    "from IPython.display import display, HTML\n",
    "pd.set_option('display.max_colwidth', -1)\n",
    "\n",
    "# Display floating-point numbers with 4 decimals in `pandas.DataFrame`\n",
    "pd.options.display.float_format = '{:,.4f}'.format\n",
    "\n",
    "import matplotlib.pyplot as plt\n",
    "# Display MatPlotLib stuff inline\n",
    "%matplotlib inline\n",
    "\n",
    "# Temporary files to delete at the end of the experiment\n",
    "temp_files = []"
   ]
  },
  {
   "cell_type": "markdown",
   "metadata": {},
   "source": [
    "### Database"
   ]
  },
  {
   "cell_type": "code",
   "execution_count": 4,
   "metadata": {
    "collapsed": true
   },
   "outputs": [],
   "source": [
    "zip_filename = \"../data/ee-insee-2015_custom-sqlite.zip\"\n",
    "with zipfile.ZipFile(zip_filename) as zip_file:\n",
    "    zip_file.extractall(\"../data/\")\n",
    "\n",
    "eedb = zip_filename.replace(\"-sqlite.zip\", \".sqlite\")\n",
    "temp_files.append(eedb)"
   ]
  },
  {
   "cell_type": "code",
   "execution_count": 5,
   "metadata": {
    "collapsed": true
   },
   "outputs": [],
   "source": [
    "with sqlite3.connect(eedb) as con:\n",
    "    query = \"SELECT * FROM eec15_custom\"\n",
    "    eec15 = pd.read_sql_query(query, con)"
   ]
  },
  {
   "cell_type": "markdown",
   "metadata": {},
   "source": [
    "## Experiment"
   ]
  },
  {
   "cell_type": "code",
   "execution_count": 6,
   "metadata": {
    "collapsed": true
   },
   "outputs": [],
   "source": [
    "# Create a (\"female\" x \"enfant\") interaction variable\n",
    "bool_ = eec15[[\"enfants_\", \"female_\"]].astype(bool)\n",
    "eec15[\"female_enfants_\"] = (bool_.enfants_ & bool_.female_).astype(int)\n",
    "\n",
    "# Drop data we don't need\n",
    "eec15 = eec15[eec15.age60_ == 0]\n",
    "eec15 = eec15.drop(\"age60_\", 1)\n",
    "\n",
    "# TODO (not finished): Create (\"region\" x \"diplome\") interaction variables\n",
    "# parameters = [x for x in eec15.columns if (x.startswith(\"dip\") or x.startswith(\"region\")) and x.endswith(\"_\")]\n",
    "# bool_ = eec15[parameters].astype(bool)\n",
    "# bool_.head()\n",
    "\n",
    "# Merge region3 and region4 to make them significant\n",
    "# df[\"region3\"] = np.where(df[\"region4\"] == 1, 1, np.where(df[\"region3\"] == 1, 1, 0))"
   ]
  },
  {
   "cell_type": "markdown",
   "metadata": {},
   "source": [
    "### Logit Regression"
   ]
  },
  {
   "cell_type": "code",
   "execution_count": 7,
   "metadata": {
    "collapsed": true
   },
   "outputs": [],
   "source": [
    "# Build a list of parameters to include in the model, using regex\n",
    "# https://www.datarobot.com/blog/multiple-regression-using-statsmodels/\n",
    "filters = {\n",
    "    \"age\": \"^age[0-9]{2}_$\",\n",
    "    \"diploma\": \"^dip[0-9]{2}_$\",\n",
    "    \"etranger\": \"^etranger_$\",\n",
    "    \"domtom\": \"^domtom_$\",\n",
    "#     \"trim\": \"^trim$\",\n",
    "    \"female\": \"^female_$\",\n",
    "    \"enfants\": \"^enfants_$\",\n",
    "#     \"female_enfants\": \"^female_enfants_$\",\n",
    "    \"region\": \"^region[1-2]_$\"\n",
    "}\n",
    "params = {k: sorted([x for x in eec15.columns if re.match(r, x)]) for (k, r) in filters.items()}\n",
    "\n",
    "# Avoid the dummy variable trap\n",
    "params = {k: (v if len(v) == 1 else v[:-1]) for (k, v) in params.items()}\n",
    "params[\"region\"] += [\"region2_\"]"
   ]
  },
  {
   "cell_type": "code",
   "execution_count": 8,
   "metadata": {
    "collapsed": true
   },
   "outputs": [],
   "source": [
    "trims = [\"t{}\".format(x) for x in sorted(eec15[\"trim\"].unique())]\n",
    "eec15_ = {t: eec15[eec15.trim == int(t[1])] for t in trims}\n",
    "X = {t: eec15_[t][sum(params.values(), [])] for t in eec15_}\n",
    "y = {t: eec15_[t][\"actop_\"] for t in eec15_}"
   ]
  },
  {
   "cell_type": "markdown",
   "metadata": {},
   "source": [
    "#### Train the model using `trim=1` data"
   ]
  },
  {
   "cell_type": "code",
   "execution_count": 9,
   "metadata": {
    "collapsed": false
   },
   "outputs": [
    {
     "data": {
      "text/html": [
       "<table class=\"simpletable\">\n",
       "<caption>Logit Regression Results</caption>\n",
       "<tr>\n",
       "  <th>Dep. Variable:</th>      <td>actop_</td>      <th>  No. Observations:  </th>  <td> 72838</td> \n",
       "</tr>\n",
       "<tr>\n",
       "  <th>Model:</th>               <td>Logit</td>      <th>  Df Residuals:      </th>  <td> 72818</td> \n",
       "</tr>\n",
       "<tr>\n",
       "  <th>Method:</th>               <td>MLE</td>       <th>  Df Model:          </th>  <td>    19</td> \n",
       "</tr>\n",
       "<tr>\n",
       "  <th>Date:</th>          <td>Sat, 04 Feb 2017</td> <th>  Pseudo R-squ.:     </th>  <td>0.2220</td> \n",
       "</tr>\n",
       "<tr>\n",
       "  <th>Time:</th>              <td>13:11:17</td>     <th>  Log-Likelihood:    </th> <td> -36757.</td>\n",
       "</tr>\n",
       "<tr>\n",
       "  <th>converged:</th>           <td>True</td>       <th>  LL-Null:           </th> <td> -47245.</td>\n",
       "</tr>\n",
       "<tr>\n",
       "  <th> </th>                      <td> </td>        <th>  LLR p-value:       </th>  <td> 0.000</td> \n",
       "</tr>\n",
       "</table>\n",
       "<table class=\"simpletable\">\n",
       "<tr>\n",
       "      <td></td>         <th>coef</th>     <th>std err</th>      <th>z</th>      <th>P>|z|</th> <th>[95.0% Conf. Int.]</th> \n",
       "</tr>\n",
       "<tr>\n",
       "  <th>const</th>     <td>   -0.6978</td> <td>    0.041</td> <td>  -17.122</td> <td> 0.000</td> <td>   -0.778    -0.618</td>\n",
       "</tr>\n",
       "<tr>\n",
       "  <th>etranger_</th> <td>    0.6915</td> <td>    0.035</td> <td>   19.827</td> <td> 0.000</td> <td>    0.623     0.760</td>\n",
       "</tr>\n",
       "<tr>\n",
       "  <th>age15_</th>    <td>    1.5972</td> <td>    0.026</td> <td>   62.597</td> <td> 0.000</td> <td>    1.547     1.647</td>\n",
       "</tr>\n",
       "<tr>\n",
       "  <th>age30_</th>    <td>    0.3117</td> <td>    0.029</td> <td>   10.661</td> <td> 0.000</td> <td>    0.254     0.369</td>\n",
       "</tr>\n",
       "<tr>\n",
       "  <th>age40_</th>    <td>   -0.0758</td> <td>    0.028</td> <td>   -2.714</td> <td> 0.007</td> <td>   -0.131    -0.021</td>\n",
       "</tr>\n",
       "<tr>\n",
       "  <th>dip10_</th>    <td>   -1.9053</td> <td>    0.037</td> <td>  -50.911</td> <td> 0.000</td> <td>   -1.979    -1.832</td>\n",
       "</tr>\n",
       "<tr>\n",
       "  <th>dip11_</th>    <td>   -2.3686</td> <td>    0.072</td> <td>  -32.829</td> <td> 0.000</td> <td>   -2.510    -2.227</td>\n",
       "</tr>\n",
       "<tr>\n",
       "  <th>dip30_</th>    <td>   -1.0517</td> <td>    0.095</td> <td>  -11.076</td> <td> 0.000</td> <td>   -1.238    -0.866</td>\n",
       "</tr>\n",
       "<tr>\n",
       "  <th>dip31_</th>    <td>   -1.8161</td> <td>    0.042</td> <td>  -43.478</td> <td> 0.000</td> <td>   -1.898    -1.734</td>\n",
       "</tr>\n",
       "<tr>\n",
       "  <th>dip33_</th>    <td>   -2.1377</td> <td>    0.082</td> <td>  -26.053</td> <td> 0.000</td> <td>   -2.299    -1.977</td>\n",
       "</tr>\n",
       "<tr>\n",
       "  <th>dip41_</th>    <td>   -0.5214</td> <td>    0.038</td> <td>  -13.835</td> <td> 0.000</td> <td>   -0.595    -0.448</td>\n",
       "</tr>\n",
       "<tr>\n",
       "  <th>dip42_</th>    <td>   -1.3976</td> <td>    0.034</td> <td>  -41.453</td> <td> 0.000</td> <td>   -1.464    -1.332</td>\n",
       "</tr>\n",
       "<tr>\n",
       "  <th>dip50_</th>    <td>   -0.9673</td> <td>    0.028</td> <td>  -34.429</td> <td> 0.000</td> <td>   -1.022    -0.912</td>\n",
       "</tr>\n",
       "<tr>\n",
       "  <th>dip60_</th>    <td>    0.1498</td> <td>    0.035</td> <td>    4.321</td> <td> 0.000</td> <td>    0.082     0.218</td>\n",
       "</tr>\n",
       "<tr>\n",
       "  <th>dip70_</th>    <td>   -0.1829</td> <td>    0.069</td> <td>   -2.665</td> <td> 0.008</td> <td>   -0.317    -0.048</td>\n",
       "</tr>\n",
       "<tr>\n",
       "  <th>female_</th>   <td>    0.5176</td> <td>    0.019</td> <td>   27.660</td> <td> 0.000</td> <td>    0.481     0.554</td>\n",
       "</tr>\n",
       "<tr>\n",
       "  <th>enfants_</th>  <td>   -0.4556</td> <td>    0.022</td> <td>  -21.183</td> <td> 0.000</td> <td>   -0.498    -0.413</td>\n",
       "</tr>\n",
       "<tr>\n",
       "  <th>region1_</th>  <td>    0.2039</td> <td>    0.033</td> <td>    6.257</td> <td> 0.000</td> <td>    0.140     0.268</td>\n",
       "</tr>\n",
       "<tr>\n",
       "  <th>domtom_</th>   <td>    0.6042</td> <td>    0.027</td> <td>   21.995</td> <td> 0.000</td> <td>    0.550     0.658</td>\n",
       "</tr>\n",
       "<tr>\n",
       "  <th>region2_</th>  <td>    0.2614</td> <td>    0.045</td> <td>    5.838</td> <td> 0.000</td> <td>    0.174     0.349</td>\n",
       "</tr>\n",
       "</table>"
      ],
      "text/plain": [
       "<class 'statsmodels.iolib.summary.Summary'>\n",
       "\"\"\"\n",
       "                           Logit Regression Results                           \n",
       "==============================================================================\n",
       "Dep. Variable:                 actop_   No. Observations:                72838\n",
       "Model:                          Logit   Df Residuals:                    72818\n",
       "Method:                           MLE   Df Model:                           19\n",
       "Date:                Sat, 04 Feb 2017   Pseudo R-squ.:                  0.2220\n",
       "Time:                        13:11:17   Log-Likelihood:                -36757.\n",
       "converged:                       True   LL-Null:                       -47245.\n",
       "                                        LLR p-value:                     0.000\n",
       "==============================================================================\n",
       "                 coef    std err          z      P>|z|      [95.0% Conf. Int.]\n",
       "------------------------------------------------------------------------------\n",
       "const         -0.6978      0.041    -17.122      0.000        -0.778    -0.618\n",
       "etranger_      0.6915      0.035     19.827      0.000         0.623     0.760\n",
       "age15_         1.5972      0.026     62.597      0.000         1.547     1.647\n",
       "age30_         0.3117      0.029     10.661      0.000         0.254     0.369\n",
       "age40_        -0.0758      0.028     -2.714      0.007        -0.131    -0.021\n",
       "dip10_        -1.9053      0.037    -50.911      0.000        -1.979    -1.832\n",
       "dip11_        -2.3686      0.072    -32.829      0.000        -2.510    -2.227\n",
       "dip30_        -1.0517      0.095    -11.076      0.000        -1.238    -0.866\n",
       "dip31_        -1.8161      0.042    -43.478      0.000        -1.898    -1.734\n",
       "dip33_        -2.1377      0.082    -26.053      0.000        -2.299    -1.977\n",
       "dip41_        -0.5214      0.038    -13.835      0.000        -0.595    -0.448\n",
       "dip42_        -1.3976      0.034    -41.453      0.000        -1.464    -1.332\n",
       "dip50_        -0.9673      0.028    -34.429      0.000        -1.022    -0.912\n",
       "dip60_         0.1498      0.035      4.321      0.000         0.082     0.218\n",
       "dip70_        -0.1829      0.069     -2.665      0.008        -0.317    -0.048\n",
       "female_        0.5176      0.019     27.660      0.000         0.481     0.554\n",
       "enfants_      -0.4556      0.022    -21.183      0.000        -0.498    -0.413\n",
       "region1_       0.2039      0.033      6.257      0.000         0.140     0.268\n",
       "domtom_        0.6042      0.027     21.995      0.000         0.550     0.658\n",
       "region2_       0.2614      0.045      5.838      0.000         0.174     0.349\n",
       "==============================================================================\n",
       "\"\"\""
      ]
     },
     "execution_count": 9,
     "metadata": {},
     "output_type": "execute_result"
    }
   ],
   "source": [
    "# Fit using `sklearn`\n",
    "reg_logit_sk = linear_model.LogisticRegression(solver=\"sag\").fit(X[\"t1\"], y[\"t1\"])\n",
    "\n",
    "# Fit using `statsmodels`\n",
    "reg_logit_sm = sm.Logit(y[\"t1\"], sm.add_constant(X[\"t1\"])).fit(disp=False)\n",
    "\n",
    "# Print the (`statsmodels`) model summary\n",
    "reg_logit_sm.summary()"
   ]
  },
  {
   "cell_type": "code",
   "execution_count": 10,
   "metadata": {
    "collapsed": false
   },
   "outputs": [
    {
     "data": {
      "text/html": [
       "<div>\n",
       "<table border=\"1\" class=\"dataframe\">\n",
       "  <thead>\n",
       "    <tr style=\"text-align: right;\">\n",
       "      <th></th>\n",
       "      <th>age15_</th>\n",
       "      <th>age30_</th>\n",
       "      <th>age40_</th>\n",
       "      <th>const</th>\n",
       "      <th>dip10_</th>\n",
       "      <th>dip11_</th>\n",
       "      <th>dip30_</th>\n",
       "      <th>dip31_</th>\n",
       "      <th>dip33_</th>\n",
       "      <th>dip41_</th>\n",
       "      <th>dip42_</th>\n",
       "      <th>dip50_</th>\n",
       "      <th>dip60_</th>\n",
       "      <th>dip70_</th>\n",
       "      <th>domtom_</th>\n",
       "      <th>enfants_</th>\n",
       "      <th>etranger_</th>\n",
       "      <th>female_</th>\n",
       "      <th>region1_</th>\n",
       "      <th>region2_</th>\n",
       "    </tr>\n",
       "  </thead>\n",
       "  <tbody>\n",
       "    <tr>\n",
       "      <th>sm</th>\n",
       "      <td>1.5972</td>\n",
       "      <td>0.3117</td>\n",
       "      <td>-0.0758</td>\n",
       "      <td>-0.6978</td>\n",
       "      <td>-1.9053</td>\n",
       "      <td>-2.3686</td>\n",
       "      <td>-1.0517</td>\n",
       "      <td>-1.8161</td>\n",
       "      <td>-2.1377</td>\n",
       "      <td>-0.5214</td>\n",
       "      <td>-1.3976</td>\n",
       "      <td>-0.9673</td>\n",
       "      <td>0.1498</td>\n",
       "      <td>-0.1829</td>\n",
       "      <td>0.6042</td>\n",
       "      <td>-0.4556</td>\n",
       "      <td>0.6915</td>\n",
       "      <td>0.5176</td>\n",
       "      <td>0.2039</td>\n",
       "      <td>0.2614</td>\n",
       "    </tr>\n",
       "    <tr>\n",
       "      <th>sk</th>\n",
       "      <td>1.5948</td>\n",
       "      <td>0.3097</td>\n",
       "      <td>-0.0767</td>\n",
       "      <td>-0.7008</td>\n",
       "      <td>-1.8976</td>\n",
       "      <td>-2.3515</td>\n",
       "      <td>-1.0375</td>\n",
       "      <td>-1.8078</td>\n",
       "      <td>-2.1187</td>\n",
       "      <td>-0.5149</td>\n",
       "      <td>-1.3908</td>\n",
       "      <td>-0.9618</td>\n",
       "      <td>0.1556</td>\n",
       "      <td>-0.1776</td>\n",
       "      <td>0.6052</td>\n",
       "      <td>-0.4551</td>\n",
       "      <td>0.6924</td>\n",
       "      <td>0.5167</td>\n",
       "      <td>0.2029</td>\n",
       "      <td>0.2608</td>\n",
       "    </tr>\n",
       "    <tr>\n",
       "      <th>diff</th>\n",
       "      <td>0.0023</td>\n",
       "      <td>0.0021</td>\n",
       "      <td>0.0009</td>\n",
       "      <td>0.0031</td>\n",
       "      <td>-0.0077</td>\n",
       "      <td>-0.0171</td>\n",
       "      <td>-0.0142</td>\n",
       "      <td>-0.0083</td>\n",
       "      <td>-0.0190</td>\n",
       "      <td>-0.0065</td>\n",
       "      <td>-0.0069</td>\n",
       "      <td>-0.0056</td>\n",
       "      <td>-0.0058</td>\n",
       "      <td>-0.0053</td>\n",
       "      <td>-0.0010</td>\n",
       "      <td>-0.0004</td>\n",
       "      <td>-0.0009</td>\n",
       "      <td>0.0009</td>\n",
       "      <td>0.0010</td>\n",
       "      <td>0.0005</td>\n",
       "    </tr>\n",
       "  </tbody>\n",
       "</table>\n",
       "</div>"
      ],
      "text/plain": [
       "      age15_  age30_  age40_   const  dip10_  dip11_  dip30_  dip31_  dip33_  \\\n",
       "sm   1.5972  0.3117  -0.0758 -0.6978 -1.9053 -2.3686 -1.0517 -1.8161 -2.1377   \n",
       "sk   1.5948  0.3097  -0.0767 -0.7008 -1.8976 -2.3515 -1.0375 -1.8078 -2.1187   \n",
       "diff 0.0023  0.0021  0.0009  0.0031  -0.0077 -0.0171 -0.0142 -0.0083 -0.0190   \n",
       "\n",
       "      dip41_  dip42_  dip50_  dip60_  dip70_  domtom_  enfants_  etranger_  \\\n",
       "sm   -0.5214 -1.3976 -0.9673 0.1498  -0.1829 0.6042   -0.4556   0.6915       \n",
       "sk   -0.5149 -1.3908 -0.9618 0.1556  -0.1776 0.6052   -0.4551   0.6924       \n",
       "diff -0.0065 -0.0069 -0.0056 -0.0058 -0.0053 -0.0010  -0.0004   -0.0009      \n",
       "\n",
       "      female_  region1_  region2_  \n",
       "sm   0.5176   0.2039    0.2614     \n",
       "sk   0.5167   0.2029    0.2608     \n",
       "diff 0.0009   0.0010    0.0005     "
      ]
     },
     "execution_count": 10,
     "metadata": {},
     "output_type": "execute_result"
    }
   ],
   "source": [
    "# Compare the coefficients from both fits (they should be the same)\n",
    "regressors = list(X[\"t1\"].columns) + [\"const\"]\n",
    "\n",
    "coeffs = pd.DataFrame(index=regressors)\n",
    "coeffs[\"sm\"] = reg_logit_sm.params\n",
    "coeffs[\"sk\"] = pd.Series(np.append(reg_logit_sk.coef_, reg_logit_sk.intercept_), index=regressors)\n",
    "coeffs[\"diff\"] = coeffs[\"sm\"] - coeffs[\"sk\"]\n",
    "\n",
    "coeffs.sort_index().transpose()"
   ]
  },
  {
   "cell_type": "code",
   "execution_count": 11,
   "metadata": {
    "collapsed": false
   },
   "outputs": [
    {
     "name": "stdout",
     "output_type": "stream",
     "text": [
      "Accuracy: 0.762417968643\n"
     ]
    }
   ],
   "source": [
    "# Check the accuracy of the model on the training set\n",
    "print \"Accuracy: {}\".format(reg_logit_sk.score(X[\"t1\"], y[\"t1\"]))"
   ]
  },
  {
   "cell_type": "markdown",
   "metadata": {},
   "source": [
    "#### Apply the model to test data (`trim=2/3/4`)"
   ]
  },
  {
   "cell_type": "code",
   "execution_count": 12,
   "metadata": {
    "collapsed": false
   },
   "outputs": [
    {
     "name": "stdout",
     "output_type": "stream",
     "text": [
      "Accuracy (t1): 0.762417968643\n",
      "Accuracy (t2): 0.767521534847\n",
      "Accuracy (t3): 0.760154682639\n",
      "Accuracy (t4): 0.763421317923\n"
     ]
    }
   ],
   "source": [
    "# Check the accuracy of the model on the training & test sets\n",
    "\n",
    "for t in trims:\n",
    "#     predicted = reg_logit_sk.predict_proba(X[t]).T[1]\n",
    "#     predicted = np.where(predicted < 0.5, 0, 1)\n",
    "    predicted = reg_logit_sk.predict(X[t])\n",
    "    print \"Accuracy ({}): {}\".format(t, metrics.accuracy_score(y[t], predicted))\n",
    "\n",
    "# Note: the two methods for computing `predicted` are equivalent (THRESHOLD = 0.5)"
   ]
  },
  {
   "cell_type": "markdown",
   "metadata": {},
   "source": [
    "### Marginal Effects"
   ]
  },
  {
   "cell_type": "code",
   "execution_count": 13,
   "metadata": {
    "collapsed": true
   },
   "outputs": [],
   "source": [
    "marginal_effects = pd.DataFrame()"
   ]
  },
  {
   "cell_type": "markdown",
   "metadata": {},
   "source": [
    "#### By \"rule-of-thumb\"\n",
    "The \"rule-of-thumb\" divides all regression coefficients by 4 to approximate the marginal effect"
   ]
  },
  {
   "cell_type": "code",
   "execution_count": 14,
   "metadata": {
    "collapsed": false
   },
   "outputs": [],
   "source": [
    "marginal_effects[\"rule_of_thumb\"] = coeffs[\"sm\"]/4"
   ]
  },
  {
   "cell_type": "markdown",
   "metadata": {},
   "source": [
    "##### Analytically (using the derivative formula)\n",
    "Recall that:\n",
    "$$EM(x_1) = \\frac{\\partial{\\mathbb{E}[y|x]}}{\\partial{x_1}} = \\beta_1 \\Lambda'(\\beta_0 + \\beta_1 x_1 + ... )$$\n",
    "where\n",
    "$$ \\Lambda(x) = \\frac{e^x}{1+e^x} = P(y=1|x)$$\n",
    "and\n",
    "$$\\Lambda'(x) = \\Lambda(x)\\Lambda(1-x) = \\Lambda(x)\\Lambda(-x)$$\n",
    "\n",
    "**Note**: for each parameter, we calculate the *mean* marginal effect over the entire training dataset"
   ]
  },
  {
   "cell_type": "code",
   "execution_count": 15,
   "metadata": {
    "collapsed": false
   },
   "outputs": [],
   "source": [
    "def lambda_(x):\n",
    "    return math.exp(x)/(1+math.exp(x))\n",
    "\n",
    "def dlambda(x):\n",
    "    return lambda_(x)*lambda_(-x)"
   ]
  },
  {
   "cell_type": "code",
   "execution_count": 16,
   "metadata": {
    "collapsed": false
   },
   "outputs": [],
   "source": [
    "y_fitted = X[\"t1\"].dot(coeffs[\"sm\"][:-1])\n",
    "y_fitted += coeffs[\"sm\"][\"const\"]\n",
    "dlambda_y = y_fitted.map(dlambda)"
   ]
  },
  {
   "cell_type": "code",
   "execution_count": 17,
   "metadata": {
    "collapsed": true
   },
   "outputs": [],
   "source": [
    "marginal_effects[\"analytical\"] = coeffs[\"sm\"]*dlambda_y.mean()"
   ]
  },
  {
   "cell_type": "markdown",
   "metadata": {},
   "source": [
    "#### By modifying the dataset (\"passage de tout le monde en licence\")"
   ]
  },
  {
   "cell_type": "code",
   "execution_count": 18,
   "metadata": {
    "collapsed": false
   },
   "outputs": [],
   "source": [
    "brute_force = pd.Series()\n",
    "for category in filters:\n",
    "    for pivot in params[category]:\n",
    "        non_pivots = [x for x in params[category] if x != pivot]\n",
    "        \n",
    "        X_one = X[\"t1\"].copy() \n",
    "        X_one[non_pivots] = 0\n",
    "        X_one[pivot] = 1\n",
    "        \n",
    "        proba_one = reg_logit_sk.predict_proba(X_one).T[1].mean()\n",
    "        proba_t1 = reg_logit_sk.predict_proba(X[\"t1\"]).T[1].mean()\n",
    "        brute_force[pivot] = proba_one - proba_t1"
   ]
  },
  {
   "cell_type": "code",
   "execution_count": 19,
   "metadata": {
    "collapsed": false
   },
   "outputs": [
    {
     "data": {
      "text/html": [
       "<div>\n",
       "<table border=\"1\" class=\"dataframe\">\n",
       "  <thead>\n",
       "    <tr style=\"text-align: right;\">\n",
       "      <th></th>\n",
       "      <th>etranger_</th>\n",
       "      <th>age15_</th>\n",
       "      <th>age30_</th>\n",
       "      <th>age40_</th>\n",
       "      <th>dip10_</th>\n",
       "      <th>dip11_</th>\n",
       "      <th>dip30_</th>\n",
       "      <th>dip31_</th>\n",
       "      <th>dip33_</th>\n",
       "      <th>dip41_</th>\n",
       "      <th>dip42_</th>\n",
       "      <th>dip50_</th>\n",
       "      <th>dip60_</th>\n",
       "      <th>dip70_</th>\n",
       "      <th>female_</th>\n",
       "      <th>enfants_</th>\n",
       "      <th>region1_</th>\n",
       "      <th>region2_</th>\n",
       "      <th>domtom_</th>\n",
       "      <th>const</th>\n",
       "    </tr>\n",
       "  </thead>\n",
       "  <tbody>\n",
       "    <tr>\n",
       "      <th>rule_of_thumb</th>\n",
       "      <td>0.1729</td>\n",
       "      <td>0.3993</td>\n",
       "      <td>0.0779</td>\n",
       "      <td>-0.0190</td>\n",
       "      <td>-0.4763</td>\n",
       "      <td>-0.5922</td>\n",
       "      <td>-0.2629</td>\n",
       "      <td>-0.4540</td>\n",
       "      <td>-0.5344</td>\n",
       "      <td>-0.1303</td>\n",
       "      <td>-0.3494</td>\n",
       "      <td>-0.2418</td>\n",
       "      <td>0.0374</td>\n",
       "      <td>-0.0457</td>\n",
       "      <td>0.1294</td>\n",
       "      <td>-0.1139</td>\n",
       "      <td>0.0510</td>\n",
       "      <td>0.0653</td>\n",
       "      <td>0.1510</td>\n",
       "      <td>-0.1744</td>\n",
       "    </tr>\n",
       "    <tr>\n",
       "      <th>analytical</th>\n",
       "      <td>0.1148</td>\n",
       "      <td>0.2652</td>\n",
       "      <td>0.0518</td>\n",
       "      <td>-0.0126</td>\n",
       "      <td>-0.3164</td>\n",
       "      <td>-0.3934</td>\n",
       "      <td>-0.1747</td>\n",
       "      <td>-0.3016</td>\n",
       "      <td>-0.3550</td>\n",
       "      <td>-0.0866</td>\n",
       "      <td>-0.2321</td>\n",
       "      <td>-0.1606</td>\n",
       "      <td>0.0249</td>\n",
       "      <td>-0.0304</td>\n",
       "      <td>0.0860</td>\n",
       "      <td>-0.0757</td>\n",
       "      <td>0.0339</td>\n",
       "      <td>0.0434</td>\n",
       "      <td>0.1003</td>\n",
       "      <td>-0.1159</td>\n",
       "    </tr>\n",
       "    <tr>\n",
       "      <th>brute_force</th>\n",
       "      <td>0.1128</td>\n",
       "      <td>0.2060</td>\n",
       "      <td>-0.0493</td>\n",
       "      <td>-0.1138</td>\n",
       "      <td>-0.1660</td>\n",
       "      <td>-0.2192</td>\n",
       "      <td>-0.0303</td>\n",
       "      <td>-0.1540</td>\n",
       "      <td>-0.1935</td>\n",
       "      <td>0.0709</td>\n",
       "      <td>-0.0913</td>\n",
       "      <td>-0.0164</td>\n",
       "      <td>0.2107</td>\n",
       "      <td>0.1407</td>\n",
       "      <td>0.0417</td>\n",
       "      <td>-0.0438</td>\n",
       "      <td>0.0022</td>\n",
       "      <td>0.0119</td>\n",
       "      <td>0.0927</td>\n",
       "      <td>nan</td>\n",
       "    </tr>\n",
       "  </tbody>\n",
       "</table>\n",
       "</div>"
      ],
      "text/plain": [
       "               etranger_  age15_  age30_  age40_  dip10_  dip11_  dip30_  \\\n",
       "rule_of_thumb 0.1729     0.3993  0.0779  -0.0190 -0.4763 -0.5922 -0.2629   \n",
       "analytical    0.1148     0.2652  0.0518  -0.0126 -0.3164 -0.3934 -0.1747   \n",
       "brute_force   0.1128     0.2060  -0.0493 -0.1138 -0.1660 -0.2192 -0.0303   \n",
       "\n",
       "               dip31_  dip33_  dip41_  dip42_  dip50_  dip60_  dip70_  \\\n",
       "rule_of_thumb -0.4540 -0.5344 -0.1303 -0.3494 -0.2418 0.0374  -0.0457   \n",
       "analytical    -0.3016 -0.3550 -0.0866 -0.2321 -0.1606 0.0249  -0.0304   \n",
       "brute_force   -0.1540 -0.1935 0.0709  -0.0913 -0.0164 0.2107  0.1407    \n",
       "\n",
       "               female_  enfants_  region1_  region2_  domtom_   const  \n",
       "rule_of_thumb 0.1294   -0.1139   0.0510    0.0653    0.1510   -0.1744  \n",
       "analytical    0.0860   -0.0757   0.0339    0.0434    0.1003   -0.1159  \n",
       "brute_force   0.0417   -0.0438   0.0022    0.0119    0.0927   nan      "
      ]
     },
     "execution_count": 19,
     "metadata": {},
     "output_type": "execute_result"
    }
   ],
   "source": [
    "marginal_effects[\"brute_force\"] = brute_force\n",
    "marginal_effects.transpose()"
   ]
  },
  {
   "cell_type": "code",
   "execution_count": 20,
   "metadata": {
    "collapsed": false
   },
   "outputs": [
    {
     "data": {
      "text/html": [
       "<div>\n",
       "<table border=\"1\" class=\"dataframe\">\n",
       "  <thead>\n",
       "    <tr style=\"text-align: right;\">\n",
       "      <th></th>\n",
       "      <th>etranger_</th>\n",
       "      <th>age15_</th>\n",
       "      <th>age30_</th>\n",
       "      <th>age40_</th>\n",
       "      <th>dip10_</th>\n",
       "      <th>dip11_</th>\n",
       "      <th>dip30_</th>\n",
       "      <th>dip31_</th>\n",
       "      <th>dip33_</th>\n",
       "      <th>dip41_</th>\n",
       "      <th>dip42_</th>\n",
       "      <th>dip50_</th>\n",
       "      <th>dip60_</th>\n",
       "      <th>dip70_</th>\n",
       "      <th>female_</th>\n",
       "      <th>enfants_</th>\n",
       "      <th>region1_</th>\n",
       "      <th>region2_</th>\n",
       "      <th>domtom_</th>\n",
       "      <th>const</th>\n",
       "    </tr>\n",
       "  </thead>\n",
       "  <tbody>\n",
       "    <tr>\n",
       "      <th>rule_of_thumb</th>\n",
       "      <td>1.5054</td>\n",
       "      <td>1.5054</td>\n",
       "      <td>1.5054</td>\n",
       "      <td>1.5054</td>\n",
       "      <td>1.5054</td>\n",
       "      <td>1.5054</td>\n",
       "      <td>1.5054</td>\n",
       "      <td>1.5054</td>\n",
       "      <td>1.5054</td>\n",
       "      <td>1.5054</td>\n",
       "      <td>1.5054</td>\n",
       "      <td>1.5054</td>\n",
       "      <td>1.5054</td>\n",
       "      <td>1.5054</td>\n",
       "      <td>1.5054</td>\n",
       "      <td>1.5054</td>\n",
       "      <td>1.5054</td>\n",
       "      <td>1.5054</td>\n",
       "      <td>1.5054</td>\n",
       "      <td>1.5054</td>\n",
       "    </tr>\n",
       "    <tr>\n",
       "      <th>analytical</th>\n",
       "      <td>1.0000</td>\n",
       "      <td>1.0000</td>\n",
       "      <td>1.0000</td>\n",
       "      <td>1.0000</td>\n",
       "      <td>1.0000</td>\n",
       "      <td>1.0000</td>\n",
       "      <td>1.0000</td>\n",
       "      <td>1.0000</td>\n",
       "      <td>1.0000</td>\n",
       "      <td>1.0000</td>\n",
       "      <td>1.0000</td>\n",
       "      <td>1.0000</td>\n",
       "      <td>1.0000</td>\n",
       "      <td>1.0000</td>\n",
       "      <td>1.0000</td>\n",
       "      <td>1.0000</td>\n",
       "      <td>1.0000</td>\n",
       "      <td>1.0000</td>\n",
       "      <td>1.0000</td>\n",
       "      <td>1.0000</td>\n",
       "    </tr>\n",
       "    <tr>\n",
       "      <th>brute_force</th>\n",
       "      <td>0.9823</td>\n",
       "      <td>0.7767</td>\n",
       "      <td>-0.9528</td>\n",
       "      <td>9.0330</td>\n",
       "      <td>0.5246</td>\n",
       "      <td>0.5571</td>\n",
       "      <td>0.1735</td>\n",
       "      <td>0.5105</td>\n",
       "      <td>0.5451</td>\n",
       "      <td>-0.8187</td>\n",
       "      <td>0.3934</td>\n",
       "      <td>0.1018</td>\n",
       "      <td>8.4692</td>\n",
       "      <td>-4.6329</td>\n",
       "      <td>0.4848</td>\n",
       "      <td>0.5788</td>\n",
       "      <td>0.0662</td>\n",
       "      <td>0.2753</td>\n",
       "      <td>0.9236</td>\n",
       "      <td>nan</td>\n",
       "    </tr>\n",
       "  </tbody>\n",
       "</table>\n",
       "</div>"
      ],
      "text/plain": [
       "               etranger_  age15_  age30_  age40_  dip10_  dip11_  dip30_  \\\n",
       "rule_of_thumb 1.5054     1.5054  1.5054  1.5054  1.5054  1.5054  1.5054    \n",
       "analytical    1.0000     1.0000  1.0000  1.0000  1.0000  1.0000  1.0000    \n",
       "brute_force   0.9823     0.7767  -0.9528 9.0330  0.5246  0.5571  0.1735    \n",
       "\n",
       "               dip31_  dip33_  dip41_  dip42_  dip50_  dip60_  dip70_  \\\n",
       "rule_of_thumb 1.5054  1.5054  1.5054  1.5054  1.5054  1.5054  1.5054    \n",
       "analytical    1.0000  1.0000  1.0000  1.0000  1.0000  1.0000  1.0000    \n",
       "brute_force   0.5105  0.5451  -0.8187 0.3934  0.1018  8.4692  -4.6329   \n",
       "\n",
       "               female_  enfants_  region1_  region2_  domtom_  const  \n",
       "rule_of_thumb 1.5054   1.5054    1.5054    1.5054    1.5054   1.5054  \n",
       "analytical    1.0000   1.0000    1.0000    1.0000    1.0000   1.0000  \n",
       "brute_force   0.4848   0.5788    0.0662    0.2753    0.9236   nan     "
      ]
     },
     "execution_count": 20,
     "metadata": {},
     "output_type": "execute_result"
    }
   ],
   "source": [
    "ratios = marginal_effects.copy()\n",
    "ratios = ratios.div(ratios[\"analytical\"], axis=0)\n",
    "ratios.transpose()"
   ]
  },
  {
   "cell_type": "markdown",
   "metadata": {},
   "source": [
    "## Cleanup\n",
    "\n",
    "Now that the experiments have concluded, we delete all the \"temporary\" files."
   ]
  },
  {
   "cell_type": "code",
   "execution_count": 21,
   "metadata": {
    "collapsed": false
   },
   "outputs": [],
   "source": [
    "for temp in temp_files:\n",
    "    os.remove(temp)"
   ]
  }
 ],
 "metadata": {
  "kernelspec": {
   "display_name": "Python 2",
   "language": "python",
   "name": "python2"
  },
  "language_info": {
   "codemirror_mode": {
    "name": "ipython",
    "version": 2
   },
   "file_extension": ".py",
   "mimetype": "text/x-python",
   "name": "python",
   "nbconvert_exporter": "python",
   "pygments_lexer": "ipython2",
   "version": "2.7.13"
  }
 },
 "nbformat": 4,
 "nbformat_minor": 1
}
