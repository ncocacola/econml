{
 "cells": [
  {
   "cell_type": "markdown",
   "metadata": {},
   "source": [
    "# Template"
   ]
  },
  {
   "cell_type": "markdown",
   "metadata": {},
   "source": [
    "## Experimental Setup"
   ]
  },
  {
   "cell_type": "markdown",
   "metadata": {},
   "source": [
    "### Libraries & Settings"
   ]
  },
  {
   "cell_type": "code",
   "execution_count": 1,
   "metadata": {
    "collapsed": true
   },
   "outputs": [],
   "source": [
    "import os              # General OS commands\n",
    "import numpy as np     # NumPy\n",
    "import pandas as pd    # Python Data Analysis Library\n",
    "import zipfile         # Compress/decompress ZIP files\n",
    "import sqlite3         # SQLite3 Database Driver"
   ]
  },
  {
   "cell_type": "code",
   "execution_count": 2,
   "metadata": {
    "collapsed": true
   },
   "outputs": [],
   "source": [
    "# Never truncate columns, display all the data\n",
    "from IPython.display import display, HTML\n",
    "pd.set_option('display.max_colwidth', -1)\n",
    "\n",
    "# Display floating-point numbers with 4 decimals in `pandas.DataFrame`\n",
    "pd.options.display.float_format = '{:,.4f}'.format\n",
    "\n",
    "import matplotlib.pyplot as plt\n",
    "# Display MatPlotLib stuff inline\n",
    "%matplotlib inline\n",
    "\n",
    "# Temporary files to delete at the end of the experiment\n",
    "temp_files = []"
   ]
  },
  {
   "cell_type": "markdown",
   "metadata": {},
   "source": [
    "### Database"
   ]
  },
  {
   "cell_type": "code",
   "execution_count": 3,
   "metadata": {
    "collapsed": true
   },
   "outputs": [],
   "source": [
    "zip_filename = \"../data/ee-insee-2015_custom-sqlite.zip\"\n",
    "with zipfile.ZipFile(zip_filename) as zip_file:\n",
    "    zip_file.extractall(\"../data/\")\n",
    "\n",
    "eedb = zip_filename.replace(\"-sqlite.zip\", \".sqlite\")\n",
    "temp_files.append(eedb)"
   ]
  },
  {
   "cell_type": "code",
   "execution_count": 4,
   "metadata": {
    "collapsed": true
   },
   "outputs": [],
   "source": [
    "with sqlite3.connect(eedb) as con:\n",
    "    query = \"SELECT * FROM eec15_custom\"\n",
    "    eec15 = pd.read_sql_query(query, con)"
   ]
  },
  {
   "cell_type": "markdown",
   "metadata": {},
   "source": [
    "## Experiment"
   ]
  },
  {
   "cell_type": "code",
   "execution_count": 5,
   "metadata": {
    "collapsed": true
   },
   "outputs": [],
   "source": [
    "# Experiment code goes here."
   ]
  },
  {
   "cell_type": "markdown",
   "metadata": {},
   "source": [
    "## Cleanup\n",
    "\n",
    "Now that the experiments have concluded, we delete all the \"temporary\" files."
   ]
  },
  {
   "cell_type": "code",
   "execution_count": 6,
   "metadata": {
    "collapsed": false
   },
   "outputs": [],
   "source": [
    "for temp in temp_files:\n",
    "    os.remove(temp)"
   ]
  }
 ],
 "metadata": {
  "kernelspec": {
   "display_name": "Python 2",
   "language": "python",
   "name": "python2"
  },
  "language_info": {
   "codemirror_mode": {
    "name": "ipython",
    "version": 2
   },
   "file_extension": ".py",
   "mimetype": "text/x-python",
   "name": "python",
   "nbconvert_exporter": "python",
   "pygments_lexer": "ipython2",
   "version": "2.7.13"
  }
 },
 "nbformat": 4,
 "nbformat_minor": 1
}
