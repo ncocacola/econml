{
 "cells": [
  {
   "cell_type": "markdown",
   "metadata": {},
   "source": [
    "# Logit Regressions"
   ]
  },
  {
   "cell_type": "markdown",
   "metadata": {},
   "source": [
    "---\n",
    "## Experimental Setup"
   ]
  },
  {
   "cell_type": "markdown",
   "metadata": {},
   "source": [
    "### Libraries & Settings"
   ]
  },
  {
   "cell_type": "code",
   "execution_count": 1,
   "metadata": {
    "collapsed": true
   },
   "outputs": [],
   "source": [
    "import os              # General OS commands\n",
    "import numpy as np     # NumPy\n",
    "import pandas as pd    # Python Data Analysis Library\n",
    "import zipfile         # Compress/decompress ZIP files\n",
    "import sqlite3         # SQLite3 Database Driver\n",
    "import re              # Regular Expressions"
   ]
  },
  {
   "cell_type": "code",
   "execution_count": 2,
   "metadata": {
    "collapsed": true
   },
   "outputs": [],
   "source": [
    "import statsmodels.api as sm\n",
    "from sklearn import linear_model, metrics\n",
    "import math"
   ]
  },
  {
   "cell_type": "code",
   "execution_count": 3,
   "metadata": {
    "collapsed": false
   },
   "outputs": [],
   "source": [
    "# Never truncate columns, display all the data\n",
    "from IPython.display import display, HTML\n",
    "pd.set_option('display.max_colwidth', -1)\n",
    "\n",
    "# Display floating-point numbers with 4 decimals in `pandas.DataFrame`\n",
    "pd.options.display.float_format = '{:,.4f}'.format\n",
    "\n",
    "import matplotlib.pyplot as plt\n",
    "# Display MatPlotLib stuff inline\n",
    "%matplotlib inline"
   ]
  },
  {
   "cell_type": "markdown",
   "metadata": {},
   "source": [
    "### Database"
   ]
  },
  {
   "cell_type": "code",
   "execution_count": 4,
   "metadata": {
    "collapsed": true
   },
   "outputs": [],
   "source": [
    "zip_filename = \"../../data/ee-insee-2005_custom-sqlite.zip\"\n",
    "eedb = zip_filename.replace(\"-sqlite.zip\", \".sqlite\")\n",
    "\n",
    "if not os.path.exists(eedb):\n",
    "    with zipfile.ZipFile(zip_filename) as zip_file:\n",
    "        zip_file.extractall(\"../../data/\")"
   ]
  },
  {
   "cell_type": "code",
   "execution_count": 5,
   "metadata": {
    "collapsed": true
   },
   "outputs": [],
   "source": [
    "with sqlite3.connect(eedb) as con:\n",
    "    query = \"SELECT * FROM eec05_custom\"\n",
    "    eec05 = pd.read_sql_query(query, con)"
   ]
  },
  {
   "cell_type": "code",
   "execution_count": 6,
   "metadata": {
    "collapsed": false
   },
   "outputs": [],
   "source": [
    "# # Create a (\"female\" x \"enfant\") interaction variable\n",
    "# bool_ = eec05[[\"enfants_\", \"female_\"]].astype(bool)\n",
    "# eec05[\"female_enfants_\"] = (bool_.enfants_ & bool_.female_).astype(int)\n",
    "\n",
    "# # Drop data we don't need\n",
    "# eec05 = eec05[eec05.age60_ == 0]\n",
    "# eec05 = eec05.drop(\"age60_\", 1)"
   ]
  },
  {
   "cell_type": "markdown",
   "metadata": {},
   "source": [
    "---\n",
    "## Regression"
   ]
  },
  {
   "cell_type": "code",
   "execution_count": 7,
   "metadata": {
    "collapsed": false
   },
   "outputs": [],
   "source": [
    "# Build a list of parameters to include in the model, using regex\n",
    "# https://www.datarobot.com/blog/multiple-regression-using-statsmodels/\n",
    "filters = {\n",
    "#     \"trim\": \"^trim$\",\n",
    "    \"age\": \"^age$\",\n",
    "    \"female\": \"^female_$\",\n",
    "    \n",
    "#     \"nationalite\": \"^nat28_[0-9]*_$\",\n",
    "#     \"matri\": \"^matri_[0-9]*_$\",\n",
    "#     \"enfants\": \"^nbenf18_[0-9]*_$\",\n",
    "    \n",
    "#     \"diploma\": \"^dip_[0-9]*_$\",\n",
    "#     \"specialite\": \"^spe_[0-9]*_$\",\n",
    "    \n",
    "#     \"region\": \"^reg_[0-9]*_$\",\n",
    "    \"unite_urbaine\": \"^tur5_[0-9]*_\",\n",
    "    \n",
    "#     \"csp_pere\": \"^cspp_[0-9]*_$\",\n",
    "#     \"csp\": \"^cstot_[0-9]*_$\"\n",
    "}\n",
    "\n",
    "params = {k: sorted([x for x in eec05.columns if re.match(r, x)]) for (k, r) in filters.items()}\n",
    "\n",
    "# Avoid the dummy variable trap\n",
    "params = {k: (v if len(v) == 1 else v[:-1]) for (k, v) in params.items()}\n",
    "# params[\"region\"] += [\"region2_\"]"
   ]
  },
  {
   "cell_type": "code",
   "execution_count": 8,
   "metadata": {
    "collapsed": true
   },
   "outputs": [],
   "source": [
    "trims = [\"t{}\".format(x) for x in sorted(eec05[\"trim\"].unique())]\n",
    "eec05_ = {t: eec05[eec05.trim == int(t[1])] for t in trims}\n",
    "X = {t: eec05_[t][sum(params.values(), [])] for t in eec05_}\n",
    "y = {t: eec05_[t][\"actop_\"] for t in eec05_}"
   ]
  },
  {
   "cell_type": "markdown",
   "metadata": {},
   "source": [
    "### Train the model using `trim=1` data"
   ]
  },
  {
   "cell_type": "code",
   "execution_count": 9,
   "metadata": {
    "collapsed": false
   },
   "outputs": [
    {
     "data": {
      "text/html": [
       "<table class=\"simpletable\">\n",
       "<caption>Logit Regression Results</caption>\n",
       "<tr>\n",
       "  <th>Dep. Variable:</th>      <td>actop_</td>      <th>  No. Observations:  </th>  <td> 71800</td> \n",
       "</tr>\n",
       "<tr>\n",
       "  <th>Model:</th>               <td>Logit</td>      <th>  Df Residuals:      </th>  <td> 71793</td> \n",
       "</tr>\n",
       "<tr>\n",
       "  <th>Method:</th>               <td>MLE</td>       <th>  Df Model:          </th>  <td>     6</td> \n",
       "</tr>\n",
       "<tr>\n",
       "  <th>Date:</th>          <td>Mon, 27 Feb 2017</td> <th>  Pseudo R-squ.:     </th>  <td>0.06665</td>\n",
       "</tr>\n",
       "<tr>\n",
       "  <th>Time:</th>              <td>12:09:14</td>     <th>  Log-Likelihood:    </th> <td> -46404.</td>\n",
       "</tr>\n",
       "<tr>\n",
       "  <th>converged:</th>           <td>True</td>       <th>  LL-Null:           </th> <td> -49718.</td>\n",
       "</tr>\n",
       "<tr>\n",
       "  <th> </th>                      <td> </td>        <th>  LLR p-value:       </th>  <td> 0.000</td> \n",
       "</tr>\n",
       "</table>\n",
       "<table class=\"simpletable\">\n",
       "<tr>\n",
       "     <td></td>        <th>coef</th>     <th>std err</th>      <th>z</th>      <th>P>|z|</th> <th>[95.0% Conf. Int.]</th> \n",
       "</tr>\n",
       "<tr>\n",
       "  <th>const</th>   <td>   -1.6437</td> <td>    0.029</td> <td>  -56.382</td> <td> 0.000</td> <td>   -1.701    -1.587</td>\n",
       "</tr>\n",
       "<tr>\n",
       "  <th>age</th>     <td>    0.0301</td> <td>    0.000</td> <td>   71.585</td> <td> 0.000</td> <td>    0.029     0.031</td>\n",
       "</tr>\n",
       "<tr>\n",
       "  <th>tur5_1_</th> <td>   -0.0229</td> <td>    0.027</td> <td>   -0.854</td> <td> 0.393</td> <td>   -0.076     0.030</td>\n",
       "</tr>\n",
       "<tr>\n",
       "  <th>tur5_2_</th> <td>    0.1419</td> <td>    0.029</td> <td>    4.966</td> <td> 0.000</td> <td>    0.086     0.198</td>\n",
       "</tr>\n",
       "<tr>\n",
       "  <th>tur5_3_</th> <td>    0.2440</td> <td>    0.026</td> <td>    9.265</td> <td> 0.000</td> <td>    0.192     0.296</td>\n",
       "</tr>\n",
       "<tr>\n",
       "  <th>tur5_4_</th> <td>    0.2476</td> <td>    0.026</td> <td>    9.378</td> <td> 0.000</td> <td>    0.196     0.299</td>\n",
       "</tr>\n",
       "<tr>\n",
       "  <th>female_</th> <td>    0.3989</td> <td>    0.016</td> <td>   25.452</td> <td> 0.000</td> <td>    0.368     0.430</td>\n",
       "</tr>\n",
       "</table>"
      ],
      "text/plain": [
       "<class 'statsmodels.iolib.summary.Summary'>\n",
       "\"\"\"\n",
       "                           Logit Regression Results                           \n",
       "==============================================================================\n",
       "Dep. Variable:                 actop_   No. Observations:                71800\n",
       "Model:                          Logit   Df Residuals:                    71793\n",
       "Method:                           MLE   Df Model:                            6\n",
       "Date:                Mon, 27 Feb 2017   Pseudo R-squ.:                 0.06665\n",
       "Time:                        12:09:14   Log-Likelihood:                -46404.\n",
       "converged:                       True   LL-Null:                       -49718.\n",
       "                                        LLR p-value:                     0.000\n",
       "==============================================================================\n",
       "                 coef    std err          z      P>|z|      [95.0% Conf. Int.]\n",
       "------------------------------------------------------------------------------\n",
       "const         -1.6437      0.029    -56.382      0.000        -1.701    -1.587\n",
       "age            0.0301      0.000     71.585      0.000         0.029     0.031\n",
       "tur5_1_       -0.0229      0.027     -0.854      0.393        -0.076     0.030\n",
       "tur5_2_        0.1419      0.029      4.966      0.000         0.086     0.198\n",
       "tur5_3_        0.2440      0.026      9.265      0.000         0.192     0.296\n",
       "tur5_4_        0.2476      0.026      9.378      0.000         0.196     0.299\n",
       "female_        0.3989      0.016     25.452      0.000         0.368     0.430\n",
       "==============================================================================\n",
       "\"\"\""
      ]
     },
     "execution_count": 9,
     "metadata": {},
     "output_type": "execute_result"
    }
   ],
   "source": [
    "# Fit using `sklearn`\n",
    "reg_logit_sk = linear_model.LogisticRegression(solver=\"sag\").fit(X[\"t1\"], y[\"t1\"])\n",
    "\n",
    "# Fit using `statsmodels`\n",
    "reg_logit_sm = sm.Logit(y[\"t1\"], sm.add_constant(X[\"t1\"])).fit(disp=False)\n",
    "\n",
    "# Print the (`statsmodels`) model summary\n",
    "reg_logit_sm.summary()"
   ]
  },
  {
   "cell_type": "code",
   "execution_count": 10,
   "metadata": {
    "collapsed": false
   },
   "outputs": [
    {
     "data": {
      "text/html": [
       "<div>\n",
       "<table border=\"1\" class=\"dataframe\">\n",
       "  <thead>\n",
       "    <tr style=\"text-align: right;\">\n",
       "      <th></th>\n",
       "      <th>age</th>\n",
       "      <th>const</th>\n",
       "      <th>female_</th>\n",
       "      <th>tur5_1_</th>\n",
       "      <th>tur5_2_</th>\n",
       "      <th>tur5_3_</th>\n",
       "      <th>tur5_4_</th>\n",
       "    </tr>\n",
       "  </thead>\n",
       "  <tbody>\n",
       "    <tr>\n",
       "      <th>sm</th>\n",
       "      <td>0.0301</td>\n",
       "      <td>-1.6437</td>\n",
       "      <td>0.3989</td>\n",
       "      <td>-0.0229</td>\n",
       "      <td>0.1419</td>\n",
       "      <td>0.2440</td>\n",
       "      <td>0.2476</td>\n",
       "    </tr>\n",
       "    <tr>\n",
       "      <th>sk</th>\n",
       "      <td>0.0301</td>\n",
       "      <td>-1.6432</td>\n",
       "      <td>0.3988</td>\n",
       "      <td>-0.0233</td>\n",
       "      <td>0.1414</td>\n",
       "      <td>0.2435</td>\n",
       "      <td>0.2471</td>\n",
       "    </tr>\n",
       "    <tr>\n",
       "      <th>diff</th>\n",
       "      <td>0.0000</td>\n",
       "      <td>-0.0005</td>\n",
       "      <td>0.0001</td>\n",
       "      <td>0.0004</td>\n",
       "      <td>0.0005</td>\n",
       "      <td>0.0005</td>\n",
       "      <td>0.0005</td>\n",
       "    </tr>\n",
       "  </tbody>\n",
       "</table>\n",
       "</div>"
      ],
      "text/plain": [
       "        age   const  female_  tur5_1_  tur5_2_  tur5_3_  tur5_4_\n",
       "sm   0.0301 -1.6437 0.3989   -0.0229  0.1419   0.2440   0.2476  \n",
       "sk   0.0301 -1.6432 0.3988   -0.0233  0.1414   0.2435   0.2471  \n",
       "diff 0.0000 -0.0005 0.0001   0.0004   0.0005   0.0005   0.0005  "
      ]
     },
     "execution_count": 10,
     "metadata": {},
     "output_type": "execute_result"
    }
   ],
   "source": [
    "# Compare the coefficients from both fits (they should be the same)\n",
    "regressors = list(X[\"t1\"].columns) + [\"const\"]\n",
    "\n",
    "coeffs = pd.DataFrame(index=regressors)\n",
    "coeffs[\"sm\"] = reg_logit_sm.params\n",
    "coeffs[\"sk\"] = pd.Series(np.append(reg_logit_sk.coef_, reg_logit_sk.intercept_), index=regressors)\n",
    "coeffs[\"diff\"] = coeffs[\"sm\"] - coeffs[\"sk\"]\n",
    "\n",
    "coeffs.sort_index().transpose()"
   ]
  },
  {
   "cell_type": "code",
   "execution_count": 11,
   "metadata": {
    "collapsed": false
   },
   "outputs": [
    {
     "name": "stdout",
     "output_type": "stream",
     "text": [
      "Accuracy: 0.621587743733\n"
     ]
    }
   ],
   "source": [
    "# Check the accuracy of the model on the training set\n",
    "predicted = np.where(reg_logit_sm.predict() < 0.5, 0, 1)\n",
    "print \"Accuracy: {}\".format(metrics.accuracy_score(y[\"t1\"], predicted))"
   ]
  },
  {
   "cell_type": "markdown",
   "metadata": {},
   "source": [
    "### Apply the model to test data (`trim=2/3/4`)"
   ]
  },
  {
   "cell_type": "code",
   "execution_count": 12,
   "metadata": {
    "collapsed": false
   },
   "outputs": [
    {
     "name": "stdout",
     "output_type": "stream",
     "text": [
      "Accuracy (t1): 0.621587743733\n",
      "Accuracy (t2): 0.62790205349\n",
      "Accuracy (t3): 0.635073655261\n",
      "Accuracy (t4): 0.63317104088\n"
     ]
    }
   ],
   "source": [
    "# Check the accuracy of the model on the training & test sets\n",
    "\n",
    "for t in trims:\n",
    "#     predicted = np.where(reg_logit_sk.predict_proba(X[t]).T[1] < 0.5, 0, 1)\n",
    "#     predicted = reg_logit_sk.predict(X[t])\n",
    "    predicted = np.where(reg_logit_sm.predict(sm.add_constant(X[t])) < 0.5, 0, 1)\n",
    "    print \"Accuracy ({}): {}\".format(t, metrics.accuracy_score(y[t], predicted))\n",
    "\n",
    "# Note: the three methods for computing `predicted` are equivalent (THRESHOLD = 0.5)"
   ]
  },
  {
   "cell_type": "markdown",
   "metadata": {},
   "source": [
    "---\n",
    "## Marginal Effects"
   ]
  },
  {
   "cell_type": "code",
   "execution_count": 13,
   "metadata": {
    "collapsed": true
   },
   "outputs": [],
   "source": [
    "marginal_effects = pd.DataFrame()"
   ]
  },
  {
   "cell_type": "markdown",
   "metadata": {},
   "source": [
    "### Analytically (using the derivative formula)\n",
    "Recall that:\n",
    "$$EM(x_1) = \\frac{\\partial{\\mathbb{E}[y|x]}}{\\partial{x_1}} = \\beta_1 \\Lambda'(\\beta_0 + \\beta_1 x_1 + ... )$$\n",
    "where\n",
    "$$\\Lambda(x^T\\beta) = \\frac{e^{x^T\\beta}}{1+e^{x^T\\beta}} = P(y=1|x) = \\mathbb{E}[y|x]$$\n",
    "and\n",
    "$$\\Lambda'(x) = \\frac{e^x}{(1+e^x)^2} = \\Lambda(x)\\Lambda(1-x) = \\Lambda(x)\\Lambda(-x)$$\n",
    "\n",
    "**Note**: for each parameter, we calculate the *mean* marginal effect over the entire training dataset"
   ]
  },
  {
   "cell_type": "code",
   "execution_count": 14,
   "metadata": {
    "collapsed": true
   },
   "outputs": [],
   "source": [
    "def lambda_(x):\n",
    "    return math.exp(x)/(1+math.exp(x))\n",
    "\n",
    "def dlambda(x):\n",
    "    return lambda_(x)*lambda_(-x)"
   ]
  },
  {
   "cell_type": "code",
   "execution_count": 15,
   "metadata": {
    "collapsed": false
   },
   "outputs": [],
   "source": [
    "y_fitted = X[\"t1\"].dot(coeffs[\"sm\"][:-1])\n",
    "y_fitted += coeffs[\"sm\"][\"const\"]\n",
    "dlambda_y = y_fitted.map(dlambda)"
   ]
  },
  {
   "cell_type": "code",
   "execution_count": 16,
   "metadata": {
    "collapsed": true
   },
   "outputs": [],
   "source": [
    "marginal_effects[\"analytical\"] = coeffs[\"sm\"]*dlambda_y.mean()"
   ]
  },
  {
   "cell_type": "markdown",
   "metadata": {},
   "source": [
    "### By \"rule-of-thumb\"\n",
    "Note (from above) that:\n",
    "$$EM(x_1) = \\beta_1 \\Lambda'(\\beta_0 + \\beta_1 x_1 + ... )$$\n",
    "and \n",
    "$$\\max \\Lambda'(x) = \\Lambda'(0) = \\max \\frac{e^0}{(1+e^0)^2} = \\frac{1}{4}$$\n",
    "Therefore, we have that:\n",
    "$$EM(x_1) \\approx \\frac{\\beta_1}{4}$$\n",
    "\n",
    "The \"rule-of-thumb\" thus divides all regression coefficients by 4 to approximate the marginal effect."
   ]
  },
  {
   "cell_type": "code",
   "execution_count": 17,
   "metadata": {
    "collapsed": false
   },
   "outputs": [],
   "source": [
    "marginal_effects[\"rule_of_thumb\"] = coeffs[\"sm\"]/4"
   ]
  },
  {
   "cell_type": "markdown",
   "metadata": {},
   "source": [
    "### By modifying the dataset (\"passage de tout le monde en licence\")"
   ]
  },
  {
   "cell_type": "code",
   "execution_count": 18,
   "metadata": {
    "collapsed": false
   },
   "outputs": [],
   "source": [
    "brute_force = pd.Series()\n",
    "for category in filters:\n",
    "    for pivot in params[category]:\n",
    "        non_pivots = [x for x in params[category] if x != pivot]\n",
    "        \n",
    "        X_one = X[\"t1\"].copy() \n",
    "        X_one[non_pivots] = 0\n",
    "        X_one[pivot] = 1\n",
    "\n",
    "#         proba_one = reg_logit_sk.predict_proba(X_one).T[1].mean()\n",
    "#         proba_t1 = reg_logit_sk.predict_proba(X[\"t1\"]).T[1].mean()\n",
    "        proba_one = reg_logit_sm.predict(sm.add_constant(X_one, has_constant=\"add\")).mean()\n",
    "        proba_t1 = reg_logit_sm.predict(sm.add_constant(X[\"t1\"])).mean()\n",
    "        brute_force[pivot] = proba_one - proba_t1"
   ]
  },
  {
   "cell_type": "code",
   "execution_count": 19,
   "metadata": {
    "collapsed": false
   },
   "outputs": [
    {
     "data": {
      "text/html": [
       "<div>\n",
       "<table border=\"1\" class=\"dataframe\">\n",
       "  <thead>\n",
       "    <tr style=\"text-align: right;\">\n",
       "      <th></th>\n",
       "      <th>age</th>\n",
       "      <th>tur5_1_</th>\n",
       "      <th>tur5_2_</th>\n",
       "      <th>tur5_3_</th>\n",
       "      <th>tur5_4_</th>\n",
       "      <th>female_</th>\n",
       "      <th>const</th>\n",
       "    </tr>\n",
       "  </thead>\n",
       "  <tbody>\n",
       "    <tr>\n",
       "      <th>analytical</th>\n",
       "      <td>0.0068</td>\n",
       "      <td>-0.0052</td>\n",
       "      <td>0.0323</td>\n",
       "      <td>0.0555</td>\n",
       "      <td>0.0563</td>\n",
       "      <td>0.0907</td>\n",
       "      <td>-0.3738</td>\n",
       "    </tr>\n",
       "    <tr>\n",
       "      <th>rule_of_thumb</th>\n",
       "      <td>0.0075</td>\n",
       "      <td>-0.0057</td>\n",
       "      <td>0.0355</td>\n",
       "      <td>0.0610</td>\n",
       "      <td>0.0619</td>\n",
       "      <td>0.0997</td>\n",
       "      <td>-0.4109</td>\n",
       "    </tr>\n",
       "    <tr>\n",
       "      <th>brute_force</th>\n",
       "      <td>-0.2964</td>\n",
       "      <td>-0.0362</td>\n",
       "      <td>0.0014</td>\n",
       "      <td>0.0246</td>\n",
       "      <td>0.0254</td>\n",
       "      <td>0.0435</td>\n",
       "      <td>nan</td>\n",
       "    </tr>\n",
       "  </tbody>\n",
       "</table>\n",
       "</div>"
      ],
      "text/plain": [
       "                  age  tur5_1_  tur5_2_  tur5_3_  tur5_4_  female_   const\n",
       "analytical    0.0068  -0.0052  0.0323   0.0555   0.0563   0.0907   -0.3738\n",
       "rule_of_thumb 0.0075  -0.0057  0.0355   0.0610   0.0619   0.0997   -0.4109\n",
       "brute_force   -0.2964 -0.0362  0.0014   0.0246   0.0254   0.0435   nan    "
      ]
     },
     "execution_count": 19,
     "metadata": {},
     "output_type": "execute_result"
    }
   ],
   "source": [
    "marginal_effects[\"brute_force\"] = brute_force\n",
    "marginal_effects.transpose()"
   ]
  },
  {
   "cell_type": "code",
   "execution_count": 20,
   "metadata": {
    "collapsed": false
   },
   "outputs": [
    {
     "data": {
      "text/html": [
       "<div>\n",
       "<table border=\"1\" class=\"dataframe\">\n",
       "  <thead>\n",
       "    <tr style=\"text-align: right;\">\n",
       "      <th></th>\n",
       "      <th>age</th>\n",
       "      <th>tur5_1_</th>\n",
       "      <th>tur5_2_</th>\n",
       "      <th>tur5_3_</th>\n",
       "      <th>tur5_4_</th>\n",
       "      <th>female_</th>\n",
       "      <th>const</th>\n",
       "    </tr>\n",
       "  </thead>\n",
       "  <tbody>\n",
       "    <tr>\n",
       "      <th>analytical</th>\n",
       "      <td>1.0000</td>\n",
       "      <td>1.0000</td>\n",
       "      <td>1.0000</td>\n",
       "      <td>1.0000</td>\n",
       "      <td>1.0000</td>\n",
       "      <td>1.0000</td>\n",
       "      <td>1.0000</td>\n",
       "    </tr>\n",
       "    <tr>\n",
       "      <th>rule_of_thumb</th>\n",
       "      <td>1.0993</td>\n",
       "      <td>1.0993</td>\n",
       "      <td>1.0993</td>\n",
       "      <td>1.0993</td>\n",
       "      <td>1.0993</td>\n",
       "      <td>1.0993</td>\n",
       "      <td>1.0993</td>\n",
       "    </tr>\n",
       "    <tr>\n",
       "      <th>brute_force</th>\n",
       "      <td>-43.3718</td>\n",
       "      <td>6.9393</td>\n",
       "      <td>0.0438</td>\n",
       "      <td>0.4437</td>\n",
       "      <td>0.4518</td>\n",
       "      <td>0.4797</td>\n",
       "      <td>nan</td>\n",
       "    </tr>\n",
       "  </tbody>\n",
       "</table>\n",
       "</div>"
      ],
      "text/plain": [
       "                   age  tur5_1_  tur5_2_  tur5_3_  tur5_4_  female_  const\n",
       "analytical    1.0000   1.0000   1.0000   1.0000   1.0000   1.0000   1.0000\n",
       "rule_of_thumb 1.0993   1.0993   1.0993   1.0993   1.0993   1.0993   1.0993\n",
       "brute_force   -43.3718 6.9393   0.0438   0.4437   0.4518   0.4797   nan   "
      ]
     },
     "execution_count": 20,
     "metadata": {},
     "output_type": "execute_result"
    }
   ],
   "source": [
    "ratios = marginal_effects.copy()\n",
    "ratios = ratios.div(ratios[\"analytical\"], axis=0)\n",
    "ratios.transpose()"
   ]
  }
 ],
 "metadata": {
  "kernelspec": {
   "display_name": "Python 2",
   "language": "python",
   "name": "python2"
  },
  "language_info": {
   "codemirror_mode": {
    "name": "ipython",
    "version": 2
   },
   "file_extension": ".py",
   "mimetype": "text/x-python",
   "name": "python",
   "nbconvert_exporter": "python",
   "pygments_lexer": "ipython2",
   "version": "2.7.13"
  }
 },
 "nbformat": 4,
 "nbformat_minor": 1
}
