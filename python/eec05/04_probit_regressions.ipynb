{
 "cells": [
  {
   "cell_type": "markdown",
   "metadata": {},
   "source": [
    "# Probit Regressions"
   ]
  },
  {
   "cell_type": "markdown",
   "metadata": {},
   "source": [
    "---\n",
    "## Experimental Setup"
   ]
  },
  {
   "cell_type": "markdown",
   "metadata": {},
   "source": [
    "### Libraries & Settings"
   ]
  },
  {
   "cell_type": "code",
   "execution_count": 1,
   "metadata": {
    "collapsed": true
   },
   "outputs": [],
   "source": [
    "import os              # General OS commands\n",
    "import numpy as np     # NumPy\n",
    "import pandas as pd    # Python Data Analysis Library\n",
    "import zipfile         # Compress/decompress ZIP files\n",
    "import sqlite3         # SQLite3 Database Driver\n",
    "import re              # Regular Expressions"
   ]
  },
  {
   "cell_type": "code",
   "execution_count": 2,
   "metadata": {
    "collapsed": true
   },
   "outputs": [],
   "source": [
    "import statsmodels.api as sm\n",
    "from sklearn import metrics\n",
    "import math"
   ]
  },
  {
   "cell_type": "code",
   "execution_count": 3,
   "metadata": {
    "collapsed": false
   },
   "outputs": [],
   "source": [
    "# Never truncate columns, display all the data\n",
    "from IPython.display import display, HTML\n",
    "pd.set_option('display.max_colwidth', -1)\n",
    "\n",
    "# Display floating-point numbers with 4 decimals in `pandas.DataFrame`\n",
    "pd.options.display.float_format = '{:,.4f}'.format\n",
    "\n",
    "import matplotlib.pyplot as plt\n",
    "# Display MatPlotLib stuff inline\n",
    "%matplotlib inline"
   ]
  },
  {
   "cell_type": "markdown",
   "metadata": {},
   "source": [
    "### Database"
   ]
  },
  {
   "cell_type": "code",
   "execution_count": 4,
   "metadata": {
    "collapsed": true
   },
   "outputs": [],
   "source": [
    "zip_filename = \"../../data/ee-insee-2005_custom-sqlite.zip\"\n",
    "eedb = zip_filename.replace(\"-sqlite.zip\", \".sqlite\")\n",
    "\n",
    "if not os.path.exists(eedb):\n",
    "    with zipfile.ZipFile(zip_filename) as zip_file:\n",
    "        zip_file.extractall(\"../../data/\")"
   ]
  },
  {
   "cell_type": "code",
   "execution_count": 5,
   "metadata": {
    "collapsed": true
   },
   "outputs": [],
   "source": [
    "with sqlite3.connect(eedb) as con:\n",
    "    query = \"SELECT * FROM eec05_custom\"\n",
    "    eec05 = pd.read_sql_query(query, con)"
   ]
  },
  {
   "cell_type": "code",
   "execution_count": 6,
   "metadata": {
    "collapsed": false
   },
   "outputs": [],
   "source": [
    "# # Create a (\"female\" x \"enfant\") interaction variable\n",
    "# bool_ = eec05[[\"enfants_\", \"female_\"]].astype(bool)\n",
    "# eec05[\"female_enfants_\"] = (bool_.enfants_ & bool_.female_).astype(int)\n",
    "\n",
    "# # Drop data we don't need\n",
    "# eec05 = eec05[eec05.age60_ == 0]\n",
    "# eec05 = eec05.drop(\"age60_\", 1)"
   ]
  },
  {
   "cell_type": "markdown",
   "metadata": {},
   "source": [
    "---\n",
    "## Regression"
   ]
  },
  {
   "cell_type": "code",
   "execution_count": 7,
   "metadata": {
    "collapsed": false
   },
   "outputs": [],
   "source": [
    "# Build a list of parameters to include in the model, using regex\n",
    "# https://www.datarobot.com/blog/multiple-regression-using-statsmodels/\n",
    "filters = {\n",
    "#     \"trim\": \"^trim$\",\n",
    "    \"age\": \"^age$\",\n",
    "    \"female\": \"^female_$\",\n",
    "    \n",
    "#     \"nationalite\": \"^nat28_[0-9]*_$\",\n",
    "#     \"matri\": \"^matri_[0-9]*_$\",\n",
    "#     \"enfants\": \"^nbenf18_[0-9]*_$\",\n",
    "    \n",
    "#     \"diploma\": \"^dip_[0-9]*_$\",\n",
    "#     \"specialite\": \"^spe_[0-9]*_$\",\n",
    "    \n",
    "#     \"region\": \"^reg_[0-9]*_$\",\n",
    "    \"unite_urbaine\": \"^tur5_[0-9]*_\",\n",
    "    \n",
    "#     \"csp_pere\": \"^cspp_[0-9]*_$\",\n",
    "#     \"csp\": \"^cstot_[0-9]*_$\"\n",
    "}\n",
    "\n",
    "params = {k: sorted([x for x in eec05.columns if re.match(r, x)]) for (k, r) in filters.items()}\n",
    "\n",
    "# Avoid the dummy variable trap\n",
    "params = {k: (v if len(v) == 1 else v[:-1]) for (k, v) in params.items()}\n",
    "# params[\"region\"] += [\"region2_\"]"
   ]
  },
  {
   "cell_type": "code",
   "execution_count": 8,
   "metadata": {
    "collapsed": false
   },
   "outputs": [],
   "source": [
    "trims = [\"t{}\".format(x) for x in sorted(eec05[\"trim\"].unique())]\n",
    "eec05_ = {t: eec05[eec05.trim == int(t[1])] for t in trims}\n",
    "X = {t: eec05_[t][sum(params.values(), [])] for t in eec05_}\n",
    "y = {t: eec05_[t][\"actop_\"] for t in eec05_}"
   ]
  },
  {
   "cell_type": "markdown",
   "metadata": {},
   "source": [
    "### Train the model using `trim=1` data"
   ]
  },
  {
   "cell_type": "code",
   "execution_count": 9,
   "metadata": {
    "collapsed": false
   },
   "outputs": [
    {
     "data": {
      "text/html": [
       "<table class=\"simpletable\">\n",
       "<caption>Probit Regression Results</caption>\n",
       "<tr>\n",
       "  <th>Dep. Variable:</th>      <td>actop_</td>      <th>  No. Observations:  </th>  <td> 71800</td> \n",
       "</tr>\n",
       "<tr>\n",
       "  <th>Model:</th>              <td>Probit</td>      <th>  Df Residuals:      </th>  <td> 71793</td> \n",
       "</tr>\n",
       "<tr>\n",
       "  <th>Method:</th>               <td>MLE</td>       <th>  Df Model:          </th>  <td>     6</td> \n",
       "</tr>\n",
       "<tr>\n",
       "  <th>Date:</th>          <td>Mon, 27 Feb 2017</td> <th>  Pseudo R-squ.:     </th>  <td>0.06704</td>\n",
       "</tr>\n",
       "<tr>\n",
       "  <th>Time:</th>              <td>12:12:00</td>     <th>  Log-Likelihood:    </th> <td> -46385.</td>\n",
       "</tr>\n",
       "<tr>\n",
       "  <th>converged:</th>           <td>True</td>       <th>  LL-Null:           </th> <td> -49718.</td>\n",
       "</tr>\n",
       "<tr>\n",
       "  <th> </th>                      <td> </td>        <th>  LLR p-value:       </th>  <td> 0.000</td> \n",
       "</tr>\n",
       "</table>\n",
       "<table class=\"simpletable\">\n",
       "<tr>\n",
       "     <td></td>        <th>coef</th>     <th>std err</th>      <th>z</th>      <th>P>|z|</th> <th>[95.0% Conf. Int.]</th> \n",
       "</tr>\n",
       "<tr>\n",
       "  <th>const</th>   <td>   -1.0070</td> <td>    0.017</td> <td>  -57.583</td> <td> 0.000</td> <td>   -1.041    -0.973</td>\n",
       "</tr>\n",
       "<tr>\n",
       "  <th>age</th>     <td>    0.0187</td> <td>    0.000</td> <td>   73.361</td> <td> 0.000</td> <td>    0.018     0.019</td>\n",
       "</tr>\n",
       "<tr>\n",
       "  <th>tur5_1_</th> <td>   -0.0148</td> <td>    0.017</td> <td>   -0.894</td> <td> 0.371</td> <td>   -0.047     0.018</td>\n",
       "</tr>\n",
       "<tr>\n",
       "  <th>tur5_2_</th> <td>    0.0869</td> <td>    0.018</td> <td>    4.950</td> <td> 0.000</td> <td>    0.053     0.121</td>\n",
       "</tr>\n",
       "<tr>\n",
       "  <th>tur5_3_</th> <td>    0.1490</td> <td>    0.016</td> <td>    9.224</td> <td> 0.000</td> <td>    0.117     0.181</td>\n",
       "</tr>\n",
       "<tr>\n",
       "  <th>tur5_4_</th> <td>    0.1513</td> <td>    0.016</td> <td>    9.349</td> <td> 0.000</td> <td>    0.120     0.183</td>\n",
       "</tr>\n",
       "<tr>\n",
       "  <th>female_</th> <td>    0.2441</td> <td>    0.010</td> <td>   25.315</td> <td> 0.000</td> <td>    0.225     0.263</td>\n",
       "</tr>\n",
       "</table>"
      ],
      "text/plain": [
       "<class 'statsmodels.iolib.summary.Summary'>\n",
       "\"\"\"\n",
       "                          Probit Regression Results                           \n",
       "==============================================================================\n",
       "Dep. Variable:                 actop_   No. Observations:                71800\n",
       "Model:                         Probit   Df Residuals:                    71793\n",
       "Method:                           MLE   Df Model:                            6\n",
       "Date:                Mon, 27 Feb 2017   Pseudo R-squ.:                 0.06704\n",
       "Time:                        12:12:00   Log-Likelihood:                -46385.\n",
       "converged:                       True   LL-Null:                       -49718.\n",
       "                                        LLR p-value:                     0.000\n",
       "==============================================================================\n",
       "                 coef    std err          z      P>|z|      [95.0% Conf. Int.]\n",
       "------------------------------------------------------------------------------\n",
       "const         -1.0070      0.017    -57.583      0.000        -1.041    -0.973\n",
       "age            0.0187      0.000     73.361      0.000         0.018     0.019\n",
       "tur5_1_       -0.0148      0.017     -0.894      0.371        -0.047     0.018\n",
       "tur5_2_        0.0869      0.018      4.950      0.000         0.053     0.121\n",
       "tur5_3_        0.1490      0.016      9.224      0.000         0.117     0.181\n",
       "tur5_4_        0.1513      0.016      9.349      0.000         0.120     0.183\n",
       "female_        0.2441      0.010     25.315      0.000         0.225     0.263\n",
       "==============================================================================\n",
       "\"\"\""
      ]
     },
     "execution_count": 9,
     "metadata": {},
     "output_type": "execute_result"
    }
   ],
   "source": [
    "# Fit using `statsmodels`\n",
    "reg_logit_sm = sm.Probit(y[\"t1\"], sm.add_constant(X[\"t1\"])).fit(disp=False)\n",
    "\n",
    "# Print the (`statsmodels`) model summary\n",
    "reg_logit_sm.summary()"
   ]
  },
  {
   "cell_type": "code",
   "execution_count": 10,
   "metadata": {
    "collapsed": false
   },
   "outputs": [],
   "source": [
    "# Create a DataFrame of coefficients\n",
    "regressors = list(X[\"t1\"].columns) + [\"const\"]\n",
    "coeffs = pd.DataFrame(index=regressors)\n",
    "coeffs[\"sm\"] = reg_logit_sm.params\n",
    "\n",
    "# Note: in the Logit notebook, the purpose of this DataFrame was to compare the results\n",
    "# from the `sklearn` and `statsmodels` regressions – we cannot do that here since `sklearn`\n",
    "# cannot perform Probit regressions – we keep the `coeffs` variable for consistency"
   ]
  },
  {
   "cell_type": "code",
   "execution_count": 11,
   "metadata": {
    "collapsed": false
   },
   "outputs": [
    {
     "name": "stdout",
     "output_type": "stream",
     "text": [
      "Accuracy: 0.614679665738\n"
     ]
    }
   ],
   "source": [
    "# Check the accuracy of the model on the training set\n",
    "predicted = np.where(reg_logit_sm.predict() < 0.5, 0, 1)\n",
    "print \"Accuracy: {}\".format(metrics.accuracy_score(y[\"t1\"], predicted))"
   ]
  },
  {
   "cell_type": "markdown",
   "metadata": {},
   "source": [
    "### Apply the model to test data (`trim=2/3/4`)"
   ]
  },
  {
   "cell_type": "code",
   "execution_count": 12,
   "metadata": {
    "collapsed": false
   },
   "outputs": [
    {
     "name": "stdout",
     "output_type": "stream",
     "text": [
      "Accuracy (t1): 0.614679665738\n",
      "Accuracy (t2): 0.620379648578\n",
      "Accuracy (t3): 0.627715443468\n",
      "Accuracy (t4): 0.625363717554\n"
     ]
    }
   ],
   "source": [
    "# Check the accuracy of the model on the training & test sets\n",
    "\n",
    "for t in trims:\n",
    "#     predicted = np.where(reg_logit_sk.predict_proba(X[t]).T[1] < 0.5, 0, 1)\n",
    "#     predicted = reg_logit_sk.predict(X[t])\n",
    "    predicted = np.where(reg_logit_sm.predict(sm.add_constant(X[t])) < 0.5, 0, 1)\n",
    "    print \"Accuracy ({}): {}\".format(t, metrics.accuracy_score(y[t], predicted))\n",
    "\n",
    "# Note: the three methods for computing `predicted` are equivalent (THRESHOLD = 0.5)"
   ]
  },
  {
   "cell_type": "markdown",
   "metadata": {},
   "source": [
    "---\n",
    "## Marginal Effects"
   ]
  },
  {
   "cell_type": "code",
   "execution_count": 13,
   "metadata": {
    "collapsed": true
   },
   "outputs": [],
   "source": [
    "marginal_effects = pd.DataFrame()"
   ]
  },
  {
   "cell_type": "markdown",
   "metadata": {},
   "source": [
    "### Analytically (using the derivative formula)\n",
    "Recall that:\n",
    "$$EM(x_1) = \\frac{\\partial{\\mathbb{E}[y|x]}}{\\partial{x_1}} = \\beta_1 \\Phi'(\\beta_0 + \\beta_1 x_1 + ... ) = \\beta_1 \\phi(\\beta_0 + \\beta_1 x_1 + ... )$$\n",
    "where\n",
    "$$\\Phi(x^T\\beta) = P(y=1|x) = \\mathbb{E}[y|x]$$\n",
    "is the *cumulative distribution function* and\n",
    "$$\\Phi'(x) = \\phi(x) = \\frac{1}{\\sqrt{2\\pi}}\\, e^{-\\frac{x^2}{2}}$$\n",
    "the *probability density function* of a **standard** normal distribution ($\\mu = 0, \\sigma = 1$)\n",
    "\n",
    "**Note**: for each parameter, we calculate the *mean* marginal effect over the entire training dataset"
   ]
  },
  {
   "cell_type": "code",
   "execution_count": 14,
   "metadata": {
    "collapsed": false
   },
   "outputs": [],
   "source": [
    "def phi(x):\n",
    "    return 1/math.sqrt(2*math.pi) * math.exp(-x**2/2)"
   ]
  },
  {
   "cell_type": "code",
   "execution_count": 15,
   "metadata": {
    "collapsed": false
   },
   "outputs": [],
   "source": [
    "y_fitted = X[\"t1\"].dot(coeffs[\"sm\"][:-1])\n",
    "y_fitted += coeffs[\"sm\"][\"const\"]\n",
    "dlambda_y = y_fitted.map(phi)"
   ]
  },
  {
   "cell_type": "code",
   "execution_count": 16,
   "metadata": {
    "collapsed": true
   },
   "outputs": [],
   "source": [
    "marginal_effects[\"analytical\"] = coeffs[\"sm\"]*dlambda_y.mean()"
   ]
  },
  {
   "cell_type": "markdown",
   "metadata": {},
   "source": [
    "### By \"rule-of-thumb\"\n",
    "Note (from above) that:\n",
    "$$EM(x_1) = \\beta_1 \\phi(\\beta_0 + \\beta_1 x_1 + ... )$$\n",
    "and \n",
    "$$\\max \\phi(x) = \\phi(0) = \\frac{1}{\\sqrt{2\\pi}} \\approx \\frac{1}{2.5}$$\n",
    "Therefore, we have that:\n",
    "$$EM(x_1) \\approx \\frac{\\beta_1}{2.5}$$\n",
    "\n",
    "The \"rule-of-thumb\" thus divides all regression coefficients by 2.5 to approximate the marginal effect."
   ]
  },
  {
   "cell_type": "code",
   "execution_count": 17,
   "metadata": {
    "collapsed": true
   },
   "outputs": [],
   "source": [
    "marginal_effects[\"rule_of_thumb\"] = coeffs[\"sm\"]/2.5"
   ]
  },
  {
   "cell_type": "markdown",
   "metadata": {},
   "source": [
    "### By modifying the dataset (\"passage de tout le monde en licence\")"
   ]
  },
  {
   "cell_type": "code",
   "execution_count": 18,
   "metadata": {
    "collapsed": false
   },
   "outputs": [],
   "source": [
    "brute_force = pd.Series()\n",
    "for category in filters:\n",
    "    for pivot in params[category]:\n",
    "        non_pivots = [x for x in params[category] if x != pivot]\n",
    "        \n",
    "        X_one = X[\"t1\"].copy() \n",
    "        X_one[non_pivots] = 0\n",
    "        X_one[pivot] = 1\n",
    "\n",
    "#         proba_one = reg_logit_sk.predict_proba(X_one).T[1].mean()\n",
    "#         proba_t1 = reg_logit_sk.predict_proba(X[\"t1\"]).T[1].mean()\n",
    "        proba_one = reg_logit_sm.predict(sm.add_constant(X_one, has_constant=\"add\")).mean()\n",
    "        proba_t1 = reg_logit_sm.predict(sm.add_constant(X[\"t1\"])).mean()\n",
    "        brute_force[pivot] = proba_one - proba_t1"
   ]
  },
  {
   "cell_type": "code",
   "execution_count": 19,
   "metadata": {
    "collapsed": false
   },
   "outputs": [
    {
     "data": {
      "text/html": [
       "<div>\n",
       "<table border=\"1\" class=\"dataframe\">\n",
       "  <thead>\n",
       "    <tr style=\"text-align: right;\">\n",
       "      <th></th>\n",
       "      <th>age</th>\n",
       "      <th>tur5_1_</th>\n",
       "      <th>tur5_2_</th>\n",
       "      <th>tur5_3_</th>\n",
       "      <th>tur5_4_</th>\n",
       "      <th>female_</th>\n",
       "      <th>const</th>\n",
       "    </tr>\n",
       "  </thead>\n",
       "  <tbody>\n",
       "    <tr>\n",
       "      <th>analytical</th>\n",
       "      <td>0.0069</td>\n",
       "      <td>-0.0054</td>\n",
       "      <td>0.0321</td>\n",
       "      <td>0.0550</td>\n",
       "      <td>0.0559</td>\n",
       "      <td>0.0901</td>\n",
       "      <td>-0.3719</td>\n",
       "    </tr>\n",
       "    <tr>\n",
       "      <th>rule_of_thumb</th>\n",
       "      <td>0.0075</td>\n",
       "      <td>-0.0059</td>\n",
       "      <td>0.0348</td>\n",
       "      <td>0.0596</td>\n",
       "      <td>0.0605</td>\n",
       "      <td>0.0976</td>\n",
       "      <td>-0.4028</td>\n",
       "    </tr>\n",
       "    <tr>\n",
       "      <th>brute_force</th>\n",
       "      <td>-0.3023</td>\n",
       "      <td>-0.0361</td>\n",
       "      <td>0.0015</td>\n",
       "      <td>0.0244</td>\n",
       "      <td>0.0253</td>\n",
       "      <td>0.0432</td>\n",
       "      <td>nan</td>\n",
       "    </tr>\n",
       "  </tbody>\n",
       "</table>\n",
       "</div>"
      ],
      "text/plain": [
       "                  age  tur5_1_  tur5_2_  tur5_3_  tur5_4_  female_   const\n",
       "analytical    0.0069  -0.0054  0.0321   0.0550   0.0559   0.0901   -0.3719\n",
       "rule_of_thumb 0.0075  -0.0059  0.0348   0.0596   0.0605   0.0976   -0.4028\n",
       "brute_force   -0.3023 -0.0361  0.0015   0.0244   0.0253   0.0432   nan    "
      ]
     },
     "execution_count": 19,
     "metadata": {},
     "output_type": "execute_result"
    }
   ],
   "source": [
    "marginal_effects[\"brute_force\"] = brute_force\n",
    "marginal_effects.transpose()"
   ]
  },
  {
   "cell_type": "code",
   "execution_count": 20,
   "metadata": {
    "collapsed": false
   },
   "outputs": [
    {
     "data": {
      "text/html": [
       "<div>\n",
       "<table border=\"1\" class=\"dataframe\">\n",
       "  <thead>\n",
       "    <tr style=\"text-align: right;\">\n",
       "      <th></th>\n",
       "      <th>age</th>\n",
       "      <th>tur5_1_</th>\n",
       "      <th>tur5_2_</th>\n",
       "      <th>tur5_3_</th>\n",
       "      <th>tur5_4_</th>\n",
       "      <th>female_</th>\n",
       "      <th>const</th>\n",
       "    </tr>\n",
       "  </thead>\n",
       "  <tbody>\n",
       "    <tr>\n",
       "      <th>analytical</th>\n",
       "      <td>1.0000</td>\n",
       "      <td>1.0000</td>\n",
       "      <td>1.0000</td>\n",
       "      <td>1.0000</td>\n",
       "      <td>1.0000</td>\n",
       "      <td>1.0000</td>\n",
       "      <td>1.0000</td>\n",
       "    </tr>\n",
       "    <tr>\n",
       "      <th>rule_of_thumb</th>\n",
       "      <td>1.0831</td>\n",
       "      <td>1.0831</td>\n",
       "      <td>1.0831</td>\n",
       "      <td>1.0831</td>\n",
       "      <td>1.0831</td>\n",
       "      <td>1.0831</td>\n",
       "      <td>1.0831</td>\n",
       "    </tr>\n",
       "    <tr>\n",
       "      <th>brute_force</th>\n",
       "      <td>-43.8046</td>\n",
       "      <td>6.6303</td>\n",
       "      <td>0.0479</td>\n",
       "      <td>0.4441</td>\n",
       "      <td>0.4524</td>\n",
       "      <td>0.4789</td>\n",
       "      <td>nan</td>\n",
       "    </tr>\n",
       "  </tbody>\n",
       "</table>\n",
       "</div>"
      ],
      "text/plain": [
       "                   age  tur5_1_  tur5_2_  tur5_3_  tur5_4_  female_  const\n",
       "analytical    1.0000   1.0000   1.0000   1.0000   1.0000   1.0000   1.0000\n",
       "rule_of_thumb 1.0831   1.0831   1.0831   1.0831   1.0831   1.0831   1.0831\n",
       "brute_force   -43.8046 6.6303   0.0479   0.4441   0.4524   0.4789   nan   "
      ]
     },
     "execution_count": 20,
     "metadata": {},
     "output_type": "execute_result"
    }
   ],
   "source": [
    "ratios = marginal_effects.copy()\n",
    "ratios = ratios.div(ratios[\"analytical\"], axis=0)\n",
    "ratios.transpose()"
   ]
  }
 ],
 "metadata": {
  "kernelspec": {
   "display_name": "Python 2",
   "language": "python",
   "name": "python2"
  },
  "language_info": {
   "codemirror_mode": {
    "name": "ipython",
    "version": 2
   },
   "file_extension": ".py",
   "mimetype": "text/x-python",
   "name": "python",
   "nbconvert_exporter": "python",
   "pygments_lexer": "ipython2",
   "version": "2.7.13"
  }
 },
 "nbformat": 4,
 "nbformat_minor": 1
}
