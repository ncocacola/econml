{
 "cells": [
  {
   "cell_type": "markdown",
   "metadata": {},
   "source": [
    "# Linear Regressions"
   ]
  },
  {
   "cell_type": "markdown",
   "metadata": {},
   "source": [
    "---\n",
    "## Experimental Setup"
   ]
  },
  {
   "cell_type": "markdown",
   "metadata": {},
   "source": [
    "### Libraries & Settings"
   ]
  },
  {
   "cell_type": "code",
   "execution_count": 1,
   "metadata": {
    "collapsed": true
   },
   "outputs": [],
   "source": [
    "import os              # General OS commands\n",
    "import numpy as np     # NumPy\n",
    "import pandas as pd    # Python Data Analysis Library\n",
    "import zipfile         # Compress/decompress ZIP files\n",
    "import sqlite3         # SQLite3 Database Driver\n",
    "import re              # Regular Expressions"
   ]
  },
  {
   "cell_type": "code",
   "execution_count": 2,
   "metadata": {
    "collapsed": true
   },
   "outputs": [],
   "source": [
    "import statsmodels.api as sm\n",
    "from sklearn import linear_model, metrics"
   ]
  },
  {
   "cell_type": "code",
   "execution_count": 3,
   "metadata": {
    "collapsed": true
   },
   "outputs": [],
   "source": [
    "# Never truncate columns, display all the data\n",
    "from IPython.display import display, HTML\n",
    "pd.set_option('display.max_colwidth', -1)\n",
    "\n",
    "# Display floating-point numbers with 4 decimals in `pandas.DataFrame`\n",
    "pd.options.display.float_format = '{:,.4f}'.format\n",
    "\n",
    "import matplotlib.pyplot as plt\n",
    "# Display MatPlotLib stuff inline\n",
    "%matplotlib inline"
   ]
  },
  {
   "cell_type": "markdown",
   "metadata": {},
   "source": [
    "### Database"
   ]
  },
  {
   "cell_type": "code",
   "execution_count": 4,
   "metadata": {
    "collapsed": true
   },
   "outputs": [],
   "source": [
    "zip_filename = \"../../data/ee-insee-2005_custom-sqlite.zip\"\n",
    "eedb = zip_filename.replace(\"-sqlite.zip\", \".sqlite\")\n",
    "\n",
    "if not os.path.exists(eedb):\n",
    "    with zipfile.ZipFile(zip_filename) as zip_file:\n",
    "        zip_file.extractall(\"../../data/\")"
   ]
  },
  {
   "cell_type": "code",
   "execution_count": 5,
   "metadata": {
    "collapsed": false
   },
   "outputs": [],
   "source": [
    "with sqlite3.connect(eedb) as con:\n",
    "    query = \"SELECT * FROM eec05_custom\"\n",
    "    eec05 = pd.read_sql_query(query, con)"
   ]
  },
  {
   "cell_type": "code",
   "execution_count": 6,
   "metadata": {
    "collapsed": false
   },
   "outputs": [],
   "source": [
    "# # Create a (\"female\" x \"enfant\") interaction variable\n",
    "# bool_ = eec05[[\"enfants_\", \"female_\"]].astype(bool)\n",
    "# eec05[\"female_enfants_\"] = (bool_.enfants_ & bool_.female_).astype(int)\n",
    "\n",
    "# # Drop data we don't need\n",
    "# eec05 = eec05[eec05.age60_ == 0]\n",
    "# eec05 = eec05.drop(\"age60_\", 1)"
   ]
  },
  {
   "cell_type": "markdown",
   "metadata": {},
   "source": [
    "### Data"
   ]
  },
  {
   "cell_type": "code",
   "execution_count": 7,
   "metadata": {
    "collapsed": false
   },
   "outputs": [
    {
     "data": {
      "text/plain": [
       "<matplotlib.axes._subplots.AxesSubplot at 0x7f943567e710>"
      ]
     },
     "execution_count": 7,
     "metadata": {},
     "output_type": "execute_result"
    },
    {
     "data": {
      "image/png": "[encoded data removed]",
      "text/plain": [
       "<matplotlib.figure.Figure at 0x7f94356dde90>"
      ]
     },
     "metadata": {},
     "output_type": "display_data"
    }
   ],
   "source": [
    "pd.crosstab(eec05.actop_, eec05.female_).plot(kind='bar', stacked=True)"
   ]
  },
  {
   "cell_type": "code",
   "execution_count": 8,
   "metadata": {
    "collapsed": false
   },
   "outputs": [
    {
     "name": "stdout",
     "output_type": "stream",
     "text": [
      "Probability of employment: 0.514734199603\n"
     ]
    }
   ],
   "source": [
    "print \"Probability of employment:\", eec05[\"actop_\"].mean()"
   ]
  },
  {
   "cell_type": "markdown",
   "metadata": {},
   "source": [
    "---\n",
    "## Regression"
   ]
  },
  {
   "cell_type": "code",
   "execution_count": 9,
   "metadata": {
    "collapsed": false
   },
   "outputs": [],
   "source": [
    "# Build a list of parameters to include in the model, using regex\n",
    "# https://www.datarobot.com/blog/multiple-regression-using-statsmodels/\n",
    "filters = {\n",
    "#     \"trim\": \"^trim$\",\n",
    "    \"age\": \"^age$\",\n",
    "    \"female\": \"^female_$\",\n",
    "    \n",
    "#     \"nationalite\": \"^nat28_[0-9]*_$\",\n",
    "#     \"matri\": \"^matri_[0-9]*_$\",\n",
    "#     \"enfants\": \"^nbenf18_[0-9]*_$\",\n",
    "    \n",
    "#     \"diploma\": \"^dip_[0-9]*_$\",\n",
    "#     \"specialite\": \"^spe_[0-9]*_$\",\n",
    "    \n",
    "#     \"region\": \"^reg_[0-9]*_$\",\n",
    "    \"unite_urbaine\": \"^tur5_[0-9]*_\",\n",
    "    \n",
    "#     \"csp_pere\": \"^cspp_[0-9]*_$\",\n",
    "#     \"csp\": \"^cstot_[0-9]*_$\"\n",
    "}\n",
    "\n",
    "params = {k: sorted([x for x in eec05.columns if re.match(r, x)]) for (k, r) in filters.items()}\n",
    "\n",
    "# Avoid the dummy variable trap\n",
    "params = {k: (v if len(v) == 1 else v[:-1]) for (k, v) in params.items()}\n",
    "# params[\"region\"] += [\"region2_\"]"
   ]
  },
  {
   "cell_type": "code",
   "execution_count": 10,
   "metadata": {
    "collapsed": false
   },
   "outputs": [],
   "source": [
    "trims = [\"t{}\".format(x) for x in sorted(eec05[\"trim\"].unique())]\n",
    "eec05_ = {t: eec05[eec05.trim == int(t[1])] for t in trims}\n",
    "X = {t: eec05_[t][sum(params.values(), [])] for t in eec05_}\n",
    "y = {t: eec05_[t][\"actop_\"] for t in eec05_}"
   ]
  },
  {
   "cell_type": "markdown",
   "metadata": {},
   "source": [
    "### Train the model using `trim=1` data"
   ]
  },
  {
   "cell_type": "code",
   "execution_count": 11,
   "metadata": {
    "collapsed": false
   },
   "outputs": [
    {
     "data": {
      "text/html": [
       "<table class=\"simpletable\">\n",
       "<caption>OLS Regression Results</caption>\n",
       "<tr>\n",
       "  <th>Dep. Variable:</th>         <td>actop_</td>      <th>  R-squared:         </th> <td>   0.089</td> \n",
       "</tr>\n",
       "<tr>\n",
       "  <th>Model:</th>                   <td>OLS</td>       <th>  Adj. R-squared:    </th> <td>   0.089</td> \n",
       "</tr>\n",
       "<tr>\n",
       "  <th>Method:</th>             <td>Least Squares</td>  <th>  F-statistic:       </th> <td>   1167.</td> \n",
       "</tr>\n",
       "<tr>\n",
       "  <th>Date:</th>             <td>Mon, 27 Feb 2017</td> <th>  Prob (F-statistic):</th>  <td>  0.00</td>  \n",
       "</tr>\n",
       "<tr>\n",
       "  <th>Time:</th>                 <td>12:05:08</td>     <th>  Log-Likelihood:    </th> <td> -48722.</td> \n",
       "</tr>\n",
       "<tr>\n",
       "  <th>No. Observations:</th>      <td> 71800</td>      <th>  AIC:               </th> <td>9.746e+04</td>\n",
       "</tr>\n",
       "<tr>\n",
       "  <th>Df Residuals:</th>          <td> 71793</td>      <th>  BIC:               </th> <td>9.752e+04</td>\n",
       "</tr>\n",
       "<tr>\n",
       "  <th>Df Model:</th>              <td>     6</td>      <th>                     </th>     <td> </td>    \n",
       "</tr>\n",
       "<tr>\n",
       "  <th>Covariance Type:</th>      <td>nonrobust</td>    <th>                     </th>     <td> </td>    \n",
       "</tr>\n",
       "</table>\n",
       "<table class=\"simpletable\">\n",
       "<tr>\n",
       "     <td></td>        <th>coef</th>     <th>std err</th>      <th>t</th>      <th>P>|t|</th> <th>[95.0% Conf. Int.]</th> \n",
       "</tr>\n",
       "<tr>\n",
       "  <th>const</th>   <td>    0.1187</td> <td>    0.006</td> <td>   18.431</td> <td> 0.000</td> <td>    0.106     0.131</td>\n",
       "</tr>\n",
       "<tr>\n",
       "  <th>age</th>     <td>    0.0070</td> <td> 9.09e-05</td> <td>   76.594</td> <td> 0.000</td> <td>    0.007     0.007</td>\n",
       "</tr>\n",
       "<tr>\n",
       "  <th>tur5_1_</th> <td>   -0.0047</td> <td>    0.006</td> <td>   -0.767</td> <td> 0.443</td> <td>   -0.017     0.007</td>\n",
       "</tr>\n",
       "<tr>\n",
       "  <th>tur5_2_</th> <td>    0.0329</td> <td>    0.007</td> <td>    5.054</td> <td> 0.000</td> <td>    0.020     0.046</td>\n",
       "</tr>\n",
       "<tr>\n",
       "  <th>tur5_3_</th> <td>    0.0559</td> <td>    0.006</td> <td>    9.322</td> <td> 0.000</td> <td>    0.044     0.068</td>\n",
       "</tr>\n",
       "<tr>\n",
       "  <th>tur5_4_</th> <td>    0.0565</td> <td>    0.006</td> <td>    9.404</td> <td> 0.000</td> <td>    0.045     0.068</td>\n",
       "</tr>\n",
       "<tr>\n",
       "  <th>female_</th> <td>    0.0911</td> <td>    0.004</td> <td>   25.503</td> <td> 0.000</td> <td>    0.084     0.098</td>\n",
       "</tr>\n",
       "</table>\n",
       "<table class=\"simpletable\">\n",
       "<tr>\n",
       "  <th>Omnibus:</th>       <td>76.210</td> <th>  Durbin-Watson:     </th> <td>   1.750</td>\n",
       "</tr>\n",
       "<tr>\n",
       "  <th>Prob(Omnibus):</th> <td> 0.000</td> <th>  Jarque-Bera (JB):  </th> <td>8279.524</td>\n",
       "</tr>\n",
       "<tr>\n",
       "  <th>Skew:</th>          <td> 0.080</td> <th>  Prob(JB):          </th> <td>    0.00</td>\n",
       "</tr>\n",
       "<tr>\n",
       "  <th>Kurtosis:</th>      <td> 1.344</td> <th>  Cond. No.          </th> <td>    320.</td>\n",
       "</tr>\n",
       "</table>"
      ],
      "text/plain": [
       "<class 'statsmodels.iolib.summary.Summary'>\n",
       "\"\"\"\n",
       "                            OLS Regression Results                            \n",
       "==============================================================================\n",
       "Dep. Variable:                 actop_   R-squared:                       0.089\n",
       "Model:                            OLS   Adj. R-squared:                  0.089\n",
       "Method:                 Least Squares   F-statistic:                     1167.\n",
       "Date:                Mon, 27 Feb 2017   Prob (F-statistic):               0.00\n",
       "Time:                        12:05:08   Log-Likelihood:                -48722.\n",
       "No. Observations:               71800   AIC:                         9.746e+04\n",
       "Df Residuals:                   71793   BIC:                         9.752e+04\n",
       "Df Model:                           6                                         \n",
       "Covariance Type:            nonrobust                                         \n",
       "==============================================================================\n",
       "                 coef    std err          t      P>|t|      [95.0% Conf. Int.]\n",
       "------------------------------------------------------------------------------\n",
       "const          0.1187      0.006     18.431      0.000         0.106     0.131\n",
       "age            0.0070   9.09e-05     76.594      0.000         0.007     0.007\n",
       "tur5_1_       -0.0047      0.006     -0.767      0.443        -0.017     0.007\n",
       "tur5_2_        0.0329      0.007      5.054      0.000         0.020     0.046\n",
       "tur5_3_        0.0559      0.006      9.322      0.000         0.044     0.068\n",
       "tur5_4_        0.0565      0.006      9.404      0.000         0.045     0.068\n",
       "female_        0.0911      0.004     25.503      0.000         0.084     0.098\n",
       "==============================================================================\n",
       "Omnibus:                       76.210   Durbin-Watson:                   1.750\n",
       "Prob(Omnibus):                  0.000   Jarque-Bera (JB):             8279.524\n",
       "Skew:                           0.080   Prob(JB):                         0.00\n",
       "Kurtosis:                       1.344   Cond. No.                         320.\n",
       "==============================================================================\n",
       "\n",
       "Warnings:\n",
       "[1] Standard Errors assume that the covariance matrix of the errors is correctly specified.\n",
       "\"\"\""
      ]
     },
     "execution_count": 11,
     "metadata": {},
     "output_type": "execute_result"
    }
   ],
   "source": [
    "# Fit using `sklearn` (`fit_intercept`: whether to calculate the constant or not)\n",
    "reg_ols_sk = linear_model.LinearRegression(fit_intercept=True).fit(X[\"t1\"], y[\"t1\"])\n",
    "\n",
    "# Fit using `statsmodels`\n",
    "reg_ols_sm = sm.OLS(y[\"t1\"], sm.add_constant(X[\"t1\"])).fit(disp=False)\n",
    "\n",
    "# Print the (`statsmodels`) model summary\n",
    "reg_ols_sm.summary()"
   ]
  },
  {
   "cell_type": "code",
   "execution_count": 12,
   "metadata": {
    "collapsed": false
   },
   "outputs": [
    {
     "data": {
      "text/html": [
       "<div>\n",
       "<table border=\"1\" class=\"dataframe\">\n",
       "  <thead>\n",
       "    <tr style=\"text-align: right;\">\n",
       "      <th></th>\n",
       "      <th>age</th>\n",
       "      <th>const</th>\n",
       "      <th>female_</th>\n",
       "      <th>tur5_1_</th>\n",
       "      <th>tur5_2_</th>\n",
       "      <th>tur5_3_</th>\n",
       "      <th>tur5_4_</th>\n",
       "    </tr>\n",
       "  </thead>\n",
       "  <tbody>\n",
       "    <tr>\n",
       "      <th>sm</th>\n",
       "      <td>0.0070</td>\n",
       "      <td>0.1187</td>\n",
       "      <td>0.0911</td>\n",
       "      <td>-0.0047</td>\n",
       "      <td>0.0329</td>\n",
       "      <td>0.0559</td>\n",
       "      <td>0.0565</td>\n",
       "    </tr>\n",
       "    <tr>\n",
       "      <th>sk</th>\n",
       "      <td>0.0070</td>\n",
       "      <td>0.1187</td>\n",
       "      <td>0.0911</td>\n",
       "      <td>-0.0047</td>\n",
       "      <td>0.0329</td>\n",
       "      <td>0.0559</td>\n",
       "      <td>0.0565</td>\n",
       "    </tr>\n",
       "    <tr>\n",
       "      <th>diff</th>\n",
       "      <td>0.0000</td>\n",
       "      <td>0.0000</td>\n",
       "      <td>-0.0000</td>\n",
       "      <td>-0.0000</td>\n",
       "      <td>-0.0000</td>\n",
       "      <td>-0.0000</td>\n",
       "      <td>-0.0000</td>\n",
       "    </tr>\n",
       "  </tbody>\n",
       "</table>\n",
       "</div>"
      ],
      "text/plain": [
       "        age  const  female_  tur5_1_  tur5_2_  tur5_3_  tur5_4_\n",
       "sm   0.0070 0.1187 0.0911   -0.0047  0.0329   0.0559   0.0565  \n",
       "sk   0.0070 0.1187 0.0911   -0.0047  0.0329   0.0559   0.0565  \n",
       "diff 0.0000 0.0000 -0.0000  -0.0000  -0.0000  -0.0000  -0.0000 "
      ]
     },
     "execution_count": 12,
     "metadata": {},
     "output_type": "execute_result"
    }
   ],
   "source": [
    "# Compare the coefficients from both fits (they should be the same)\n",
    "regressors = list(X[\"t1\"].columns) + [\"const\"]\n",
    "\n",
    "coeffs = pd.DataFrame(index=regressors)\n",
    "coeffs[\"sm\"] = reg_ols_sm.params\n",
    "coeffs[\"sk\"] = pd.Series(np.append(reg_ols_sk.coef_, reg_ols_sk.intercept_), index=regressors)\n",
    "coeffs[\"diff\"] = coeffs[\"sm\"] - coeffs[\"sk\"]\n",
    "\n",
    "coeffs.sort_index().transpose()"
   ]
  },
  {
   "cell_type": "code",
   "execution_count": 13,
   "metadata": {
    "collapsed": false
   },
   "outputs": [
    {
     "name": "stdout",
     "output_type": "stream",
     "text": [
      "Accuracy: 0.08883525024\n"
     ]
    }
   ],
   "source": [
    "# Check the accuracy of the model on the training set\n",
    "print \"Accuracy: {}\".format(reg_ols_sk.score(X[\"t1\"], y[\"t1\"]))\n",
    "\n",
    "# Note: this is useless as the score() function does not take into account that `y` is a binary variable."
   ]
  },
  {
   "cell_type": "markdown",
   "metadata": {},
   "source": [
    "### Apply the model to test data (`trim=2/3/4`)"
   ]
  },
  {
   "cell_type": "code",
   "execution_count": 14,
   "metadata": {
    "collapsed": false
   },
   "outputs": [
    {
     "name": "stdout",
     "output_type": "stream",
     "text": [
      "Accuracy (t1): 0.622506963788\n",
      "Accuracy (t2): 0.628904099922\n",
      "Accuracy (t3): 0.636053774924\n",
      "Accuracy (t4): 0.634136152805\n"
     ]
    }
   ],
   "source": [
    "# Check the accuracy of the model on the training & test sets\n",
    "\n",
    "# To avoid the pitfall from the above calculation, we need to map [0, 1] -> {0, 1}\n",
    "# We define a threshold probability above which we consider an individual to be employed\n",
    "THRESHOLD = 0.5\n",
    "\n",
    "for t in trims:\n",
    "    predicted = reg_ols_sk.predict(X[t])\n",
    "    predicted = np.where(predicted < THRESHOLD, 0, 1)\n",
    "    print \"Accuracy ({}): {}\".format(t, metrics.accuracy_score(y[t], predicted))"
   ]
  }
 ],
 "metadata": {
  "kernelspec": {
   "display_name": "Python 2",
   "language": "python",
   "name": "python2"
  },
  "language_info": {
   "codemirror_mode": {
    "name": "ipython",
    "version": 2
   },
   "file_extension": ".py",
   "mimetype": "text/x-python",
   "name": "python",
   "nbconvert_exporter": "python",
   "pygments_lexer": "ipython2",
   "version": "2.7.13"
  }
 },
 "nbformat": 4,
 "nbformat_minor": 1
}
