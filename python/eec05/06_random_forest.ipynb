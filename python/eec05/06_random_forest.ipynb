{
 "cells": [
  {
   "cell_type": "markdown",
   "metadata": {},
   "source": [
    "# Random Forest"
   ]
  },
  {
   "cell_type": "markdown",
   "metadata": {},
   "source": [
    "---\n",
    "## Experimental Setup"
   ]
  },
  {
   "cell_type": "markdown",
   "metadata": {},
   "source": [
    "### Libraries & Settings"
   ]
  },
  {
   "cell_type": "code",
   "execution_count": 1,
   "metadata": {
    "collapsed": true
   },
   "outputs": [],
   "source": [
    "import os              # General OS commands\n",
    "import numpy as np     # NumPy\n",
    "import pandas as pd    # Python Data Analysis Library\n",
    "import zipfile         # Compress/decompress ZIP files\n",
    "import sqlite3         # SQLite3 Database Driver\n",
    "import re              # Regular Expressions"
   ]
  },
  {
   "cell_type": "code",
   "execution_count": 2,
   "metadata": {
    "collapsed": true
   },
   "outputs": [],
   "source": [
    "from sklearn import ensemble, metrics"
   ]
  },
  {
   "cell_type": "code",
   "execution_count": 3,
   "metadata": {
    "collapsed": true
   },
   "outputs": [],
   "source": [
    "# Never truncate columns, display all the data\n",
    "from IPython.display import display, HTML\n",
    "pd.set_option('display.max_colwidth', -1)\n",
    "\n",
    "# Display floating-point numbers with 4 decimals in `pandas.DataFrame`\n",
    "pd.options.display.float_format = '{:,.4f}'.format\n",
    "\n",
    "import matplotlib.pyplot as plt\n",
    "# Display MatPlotLib stuff inline\n",
    "%matplotlib inline"
   ]
  },
  {
   "cell_type": "markdown",
   "metadata": {},
   "source": [
    "### Database"
   ]
  },
  {
   "cell_type": "code",
   "execution_count": 4,
   "metadata": {
    "collapsed": true
   },
   "outputs": [],
   "source": [
    "zip_filename = \"../../data/ee-insee-2005_custom-sqlite.zip\"\n",
    "eedb = zip_filename.replace(\"-sqlite.zip\", \".sqlite\")\n",
    "\n",
    "if not os.path.exists(eedb):\n",
    "    with zipfile.ZipFile(zip_filename) as zip_file:\n",
    "        zip_file.extractall(\"../../data/\")"
   ]
  },
  {
   "cell_type": "code",
   "execution_count": 5,
   "metadata": {
    "collapsed": true
   },
   "outputs": [],
   "source": [
    "with sqlite3.connect(eedb) as con:\n",
    "    query = \"SELECT * FROM eec05_custom\"\n",
    "    eec05 = pd.read_sql_query(query, con)"
   ]
  },
  {
   "cell_type": "code",
   "execution_count": 6,
   "metadata": {
    "collapsed": true
   },
   "outputs": [],
   "source": [
    "# # Create a (\"female\" x \"enfant\") interaction variable\n",
    "# bool_ = eec05[[\"enfants_\", \"female_\"]].astype(bool)\n",
    "# eec05[\"female_enfants_\"] = (bool_.enfants_ & bool_.female_).astype(int)\n",
    "\n",
    "# # Drop data we don't need\n",
    "# eec05 = eec05[eec05.age60_ == 0]\n",
    "# eec05 = eec05.drop(\"age60_\", 1)"
   ]
  },
  {
   "cell_type": "markdown",
   "metadata": {},
   "source": [
    "---\n",
    "## Random Forest"
   ]
  },
  {
   "cell_type": "code",
   "execution_count": 7,
   "metadata": {
    "collapsed": false
   },
   "outputs": [],
   "source": [
    "# Build a list of parameters to include in the model, using regex\n",
    "# https://www.datarobot.com/blog/multiple-regression-using-statsmodels/\n",
    "filters = {\n",
    "#     \"trim\": \"^trim$\",\n",
    "    \"age\": \"^age$\",\n",
    "    \"female\": \"^female_$\",\n",
    "    \n",
    "#     \"nationalite\": \"^nat28_[0-9]*_$\",\n",
    "#     \"matri\": \"^matri_[0-9]*_$\",\n",
    "#     \"enfants\": \"^nbenf18_[0-9]*_$\",\n",
    "    \n",
    "#     \"diploma\": \"^dip_[0-9]*_$\",\n",
    "#     \"specialite\": \"^spe_[0-9]*_$\",\n",
    "    \n",
    "#     \"region\": \"^reg_[0-9]*_$\",\n",
    "    \"unite_urbaine\": \"^tur5_[0-9]*_\",\n",
    "    \n",
    "#     \"csp_pere\": \"^cspp_[0-9]*_$\",\n",
    "#     \"csp\": \"^cstot_[0-9]*_$\"\n",
    "}\n",
    "\n",
    "params = {k: sorted([x for x in eec05.columns if re.match(r, x)]) for (k, r) in filters.items()}\n",
    "\n",
    "# Avoid the dummy variable trap\n",
    "params = {k: (v if len(v) == 1 else v[:-1]) for (k, v) in params.items()}\n",
    "# params[\"region\"] += [\"region2_\"]"
   ]
  },
  {
   "cell_type": "code",
   "execution_count": 8,
   "metadata": {
    "collapsed": false
   },
   "outputs": [],
   "source": [
    "trims = [\"t{}\".format(x) for x in sorted(eec05[\"trim\"].unique())]\n",
    "eec05_ = {t: eec05[eec05.trim == int(t[1])] for t in trims}\n",
    "X = {t: eec05_[t][sum(params.values(), [])] for t in eec05_}\n",
    "y = {t: eec05_[t][\"actop_\"] for t in eec05_}"
   ]
  },
  {
   "cell_type": "markdown",
   "metadata": {},
   "source": [
    "### Train the model using `trim=1` data"
   ]
  },
  {
   "cell_type": "code",
   "execution_count": 9,
   "metadata": {
    "collapsed": false
   },
   "outputs": [],
   "source": [
    "# Create & fit the forest\n",
    "random_forest_sk = ensemble.RandomForestClassifier(\n",
    "    criterion='gini',\n",
    "    n_estimators=100,\n",
    "    max_features=4,\n",
    "    max_depth=12,\n",
    "    random_state=1,\n",
    "    n_jobs=-1\n",
    ").fit(X[\"t1\"], y[\"t1\"])"
   ]
  },
  {
   "cell_type": "code",
   "execution_count": 10,
   "metadata": {
    "collapsed": false
   },
   "outputs": [
    {
     "name": "stdout",
     "output_type": "stream",
     "text": [
      "Accuracy: 0.822493036212\n"
     ]
    }
   ],
   "source": [
    "# Check the accuracy of the model on the training set\n",
    "print \"Accuracy: {}\".format(random_forest_sk.score(X[\"t1\"], y[\"t1\"]))"
   ]
  },
  {
   "cell_type": "markdown",
   "metadata": {},
   "source": [
    "### Apply the model to test data (`trim=2/3/4`)"
   ]
  },
  {
   "cell_type": "code",
   "execution_count": 11,
   "metadata": {
    "collapsed": false
   },
   "outputs": [
    {
     "name": "stdout",
     "output_type": "stream",
     "text": [
      "Accuracy (t1): 0.822493036212\n",
      "ROC Area-Under-Curve (t1): 0.891215112582\n",
      "Accuracy (t2): 0.82119822172\n",
      "ROC Area-Under-Curve (t2): 0.889983633811\n",
      "Accuracy (t3): 0.816366535496\n",
      "ROC Area-Under-Curve (t3): 0.885738897542\n",
      "Accuracy (t4): 0.816052548184\n",
      "ROC Area-Under-Curve (t4): 0.885801370369\n"
     ]
    }
   ],
   "source": [
    "# Check the accuracy of the model on the training & test sets\n",
    "\n",
    "for t in trims:\n",
    "#     predicted = random_forest_sk.predict_proba(X[t]).T[1]\n",
    "#     predicted = np.where(predicted < 0.5, 0, 1)\n",
    "    predicted = random_forest_sk.predict(X[t])\n",
    "    print \"Accuracy ({}): {}\".format(t, metrics.accuracy_score(y[t], predicted))\n",
    "\n",
    "    predicted_proba = random_forest_sk.predict_proba(X[t]).T[1]\n",
    "    print \"ROC Area-Under-Curve ({}): {}\".format(t, metrics.roc_auc_score(y[t], predicted_proba))\n",
    "\n",
    "# Note: the two methods for computing `predicted` are equivalent (THRESHOLD = 0.5)"
   ]
  },
  {
   "cell_type": "markdown",
   "metadata": {},
   "source": [
    "---\n",
    "## Marginal Effects"
   ]
  },
  {
   "cell_type": "code",
   "execution_count": 12,
   "metadata": {
    "collapsed": true
   },
   "outputs": [],
   "source": [
    "marginal_effects = pd.DataFrame()"
   ]
  },
  {
   "cell_type": "markdown",
   "metadata": {},
   "source": [
    "### By modifying the dataset (\"passage de tout le monde en licence\")"
   ]
  },
  {
   "cell_type": "code",
   "execution_count": 13,
   "metadata": {
    "collapsed": false
   },
   "outputs": [],
   "source": [
    "brute_force = pd.Series()\n",
    "for category in filters:\n",
    "    for pivot in params[category]:\n",
    "        non_pivots = [x for x in params[category] if x != pivot]\n",
    "        \n",
    "        X_one = X[\"t1\"].copy() \n",
    "        X_one[non_pivots] = 0\n",
    "        X_one[pivot] = 1\n",
    "        \n",
    "        proba_one = random_forest_sk.predict_proba(X_one).T[1].mean()\n",
    "        proba_t1 = random_forest_sk.predict_proba(X[\"t1\"]).T[1].mean()\n",
    "        brute_force[pivot] = proba_one - proba_t1"
   ]
  },
  {
   "cell_type": "code",
   "execution_count": 14,
   "metadata": {
    "collapsed": false
   },
   "outputs": [
    {
     "data": {
      "text/html": [
       "<div>\n",
       "<table border=\"1\" class=\"dataframe\">\n",
       "  <thead>\n",
       "    <tr style=\"text-align: right;\">\n",
       "      <th></th>\n",
       "      <th>age</th>\n",
       "      <th>tur5_1_</th>\n",
       "      <th>tur5_2_</th>\n",
       "      <th>tur5_3_</th>\n",
       "      <th>tur5_4_</th>\n",
       "      <th>female_</th>\n",
       "    </tr>\n",
       "  </thead>\n",
       "  <tbody>\n",
       "    <tr>\n",
       "      <th>brute_force</th>\n",
       "      <td>0.4814</td>\n",
       "      <td>-0.0323</td>\n",
       "      <td>-0.0045</td>\n",
       "      <td>0.0166</td>\n",
       "      <td>0.0151</td>\n",
       "      <td>0.0417</td>\n",
       "    </tr>\n",
       "  </tbody>\n",
       "</table>\n",
       "</div>"
      ],
      "text/plain": [
       "               age  tur5_1_  tur5_2_  tur5_3_  tur5_4_  female_\n",
       "brute_force 0.4814 -0.0323  -0.0045  0.0166   0.0151   0.0417  "
      ]
     },
     "execution_count": 14,
     "metadata": {},
     "output_type": "execute_result"
    }
   ],
   "source": [
    "marginal_effects[\"brute_force\"] = brute_force\n",
    "marginal_effects.transpose()"
   ]
  },
  {
   "cell_type": "markdown",
   "metadata": {},
   "source": [
    "---\n",
    "## Most important parameters\n",
    "_ranked by **entropy importance**_ (**TODO**: where did Bastien get this?!)"
   ]
  },
  {
   "cell_type": "code",
   "execution_count": 15,
   "metadata": {
    "collapsed": false
   },
   "outputs": [
    {
     "data": {
      "text/html": [
       "<div>\n",
       "<table border=\"1\" class=\"dataframe\">\n",
       "  <thead>\n",
       "    <tr style=\"text-align: right;\">\n",
       "      <th></th>\n",
       "      <th>age</th>\n",
       "      <th>female_</th>\n",
       "      <th>tur5_1_</th>\n",
       "      <th>tur5_2_</th>\n",
       "      <th>tur5_4_</th>\n",
       "      <th>tur5_3_</th>\n",
       "    </tr>\n",
       "  </thead>\n",
       "  <tbody>\n",
       "    <tr>\n",
       "      <th>entropy</th>\n",
       "      <td>0.9674</td>\n",
       "      <td>0.0215</td>\n",
       "      <td>0.0043</td>\n",
       "      <td>0.0024</td>\n",
       "      <td>0.0024</td>\n",
       "      <td>0.0021</td>\n",
       "    </tr>\n",
       "  </tbody>\n",
       "</table>\n",
       "</div>"
      ],
      "text/plain": [
       "           age  female_  tur5_1_  tur5_2_  tur5_4_  tur5_3_\n",
       "entropy 0.9674 0.0215   0.0043   0.0024   0.0024   0.0021  "
      ]
     },
     "execution_count": 15,
     "metadata": {},
     "output_type": "execute_result"
    }
   ],
   "source": [
    "entropy = pd.DataFrame(random_forest_sk.feature_importances_, index=X[\"t1\"].columns, columns=[\"entropy\"])\n",
    "entropy.sort_values(by=\"entropy\", ascending=False).transpose()"
   ]
  }
 ],
 "metadata": {
  "kernelspec": {
   "display_name": "Python 2",
   "language": "python",
   "name": "python2"
  },
  "language_info": {
   "codemirror_mode": {
    "name": "ipython",
    "version": 2
   },
   "file_extension": ".py",
   "mimetype": "text/x-python",
   "name": "python",
   "nbconvert_exporter": "python",
   "pygments_lexer": "ipython2",
   "version": "2.7.13"
  }
 },
 "nbformat": 4,
 "nbformat_minor": 1
}
