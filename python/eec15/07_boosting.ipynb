{
 "cells": [
  {
   "cell_type": "markdown",
   "metadata": {},
   "source": [
    "# Boosting"
   ]
  },
  {
   "cell_type": "markdown",
   "metadata": {},
   "source": [
    "---\n",
    "## Experimental Setup"
   ]
  },
  {
   "cell_type": "markdown",
   "metadata": {},
   "source": [
    "### Libraries & Settings"
   ]
  },
  {
   "cell_type": "code",
   "execution_count": 1,
   "metadata": {
    "collapsed": true
   },
   "outputs": [],
   "source": [
    "import os              # General OS commands\n",
    "import numpy as np     # NumPy\n",
    "import pandas as pd    # Python Data Analysis Library\n",
    "import zipfile         # Compress/decompress ZIP files\n",
    "import sqlite3         # SQLite3 Database Driver\n",
    "import re              # Regular Expressions\n",
    "import datetime        # Date/Time functions"
   ]
  },
  {
   "cell_type": "code",
   "execution_count": 2,
   "metadata": {
    "collapsed": true
   },
   "outputs": [],
   "source": [
    "from sklearn import ensemble, metrics, tree"
   ]
  },
  {
   "cell_type": "code",
   "execution_count": 3,
   "metadata": {
    "collapsed": true
   },
   "outputs": [],
   "source": [
    "# Never truncate columns, display all the data\n",
    "from IPython.display import display, HTML\n",
    "pd.set_option('display.max_colwidth', -1)\n",
    "\n",
    "# Display floating-point numbers with 4 decimals in `pandas.DataFrame`\n",
    "pd.options.display.float_format = '{:,.4f}'.format\n",
    "\n",
    "import matplotlib.pyplot as plt\n",
    "# Display MatPlotLib stuff inline\n",
    "%matplotlib inline"
   ]
  },
  {
   "cell_type": "markdown",
   "metadata": {},
   "source": [
    "### Database"
   ]
  },
  {
   "cell_type": "code",
   "execution_count": 4,
   "metadata": {
    "collapsed": false
   },
   "outputs": [],
   "source": [
    "zip_filename = \"../../data/ee-insee-2015_custom-sqlite.zip\"\n",
    "eedb = zip_filename.replace(\"-sqlite.zip\", \".sqlite\")\n",
    "\n",
    "if not os.path.exists(eedb):\n",
    "    with zipfile.ZipFile(zip_filename) as zip_file:\n",
    "        zip_file.extractall(\"../../data/\")"
   ]
  },
  {
   "cell_type": "code",
   "execution_count": 5,
   "metadata": {
    "collapsed": true
   },
   "outputs": [],
   "source": [
    "with sqlite3.connect(eedb) as con:\n",
    "    query = \"SELECT * FROM eec15_custom\"\n",
    "    eec15 = pd.read_sql_query(query, con)"
   ]
  },
  {
   "cell_type": "code",
   "execution_count": 6,
   "metadata": {
    "collapsed": true
   },
   "outputs": [],
   "source": [
    "# Create a (\"female\" x \"enfant\") interaction variable\n",
    "bool_ = eec15[[\"enfants_\", \"female_\"]].astype(bool)\n",
    "eec15[\"female_enfants_\"] = (bool_.enfants_ & bool_.female_).astype(int)\n",
    "\n",
    "# Drop data we don't need\n",
    "eec15 = eec15[eec15.age60_ == 0]\n",
    "eec15 = eec15.drop(\"age60_\", 1)"
   ]
  },
  {
   "cell_type": "markdown",
   "metadata": {},
   "source": [
    "---\n",
    "## Boosting\n"
   ]
  },
  {
   "cell_type": "code",
   "execution_count": 7,
   "metadata": {
    "collapsed": true
   },
   "outputs": [],
   "source": [
    "# Build a list of parameters to include in the model, using regex\n",
    "# https://www.datarobot.com/blog/multiple-regression-using-statsmodels/\n",
    "filters = {\n",
    "    \"age\": \"^age[0-9]{2}_$\",\n",
    "    \"diploma\": \"^dip[0-9]{2}_$\",\n",
    "    \"etranger\": \"^etranger_$\",\n",
    "    \"domtom\": \"^domtom_$\",\n",
    "#     \"trim\": \"^trim$\",\n",
    "    \"female\": \"^female_$\",\n",
    "    \"enfants\": \"^enfants_$\",\n",
    "#     \"female_enfants\": \"^female_enfants_$\",\n",
    "    \"region\": \"^region[1-2]_$\"\n",
    "}\n",
    "params = {k: sorted([x for x in eec15.columns if re.match(r, x)]) for (k, r) in filters.items()}\n",
    "\n",
    "# Avoid the dummy variable trap\n",
    "params = {k: (v if len(v) == 1 else v[:-1]) for (k, v) in params.items()}\n",
    "params[\"region\"] += [\"region2_\"]"
   ]
  },
  {
   "cell_type": "code",
   "execution_count": 8,
   "metadata": {
    "collapsed": true
   },
   "outputs": [],
   "source": [
    "trims = [\"t{}\".format(x) for x in sorted(eec15[\"trim\"].unique())]\n",
    "eec15_ = {t: eec15[eec15.trim == int(t[1])] for t in trims}\n",
    "X = {t: eec15_[t][sum(params.values(), [])] for t in eec15_}\n",
    "y = {t: eec15_[t][\"actop_\"] for t in eec15_}"
   ]
  },
  {
   "cell_type": "markdown",
   "metadata": {},
   "source": [
    "### Train the model using `trim=1` data"
   ]
  },
  {
   "cell_type": "code",
   "execution_count": 9,
   "metadata": {
    "collapsed": false
   },
   "outputs": [],
   "source": [
    "simple_tree_sk = tree.DecisionTreeClassifier(criterion='entropy', max_depth=10,random_state=0).fit(X[\"t1\"], y[\"t1\"])\n",
    "boost_sk = ensemble.AdaBoostClassifier(\n",
    "    base_estimator=simple_tree_sk,\n",
    "    n_estimators=100,\n",
    "    learning_rate=0.1,\n",
    "    random_state=0\n",
    ").fit(X[\"t1\"], y[\"t1\"])"
   ]
  },
  {
   "cell_type": "markdown",
   "metadata": {},
   "source": [
    "### Apply the model to test data (`trim=2/3/4`)"
   ]
  },
  {
   "cell_type": "code",
   "execution_count": 10,
   "metadata": {
    "collapsed": false
   },
   "outputs": [
    {
     "name": "stdout",
     "output_type": "stream",
     "text": [
      "Accuracy (t1): 0.777410143057\n",
      "Accuracy (t2): 0.780638214565\n",
      "Accuracy (t3): 0.772162940133\n",
      "Accuracy (t4): 0.773814763805\n"
     ]
    }
   ],
   "source": [
    "for t in trims:\n",
    "#     predicted = random_forest_sk.predict_proba(X[t]).T[1]\n",
    "#     predicted = np.where(predicted < 0.5, 0, 1)\n",
    "    predicted = boost_sk.predict(X[t])\n",
    "    print \"Accuracy ({}): {}\".format(t, metrics.accuracy_score(y[t], predicted))\n",
    "\n",
    "# Note: the two methods for computing `predicted` are equivalent (THRESHOLD = 0.5)"
   ]
  },
  {
   "cell_type": "code",
   "execution_count": 11,
   "metadata": {
    "collapsed": false
   },
   "outputs": [
    {
     "name": "stdout",
     "output_type": "stream",
     "text": [
      "ROC Area-Under-Curve (t1): 0.820594780348\n",
      "ROC Area-Under-Curve (t2): 0.818967354886\n",
      "ROC Area-Under-Curve (t3): 0.809582476961\n",
      "ROC Area-Under-Curve (t4): 0.812174478218\n"
     ]
    }
   ],
   "source": [
    "for t in trims:\n",
    "    predicted_proba = boost_sk.predict_proba(X[t]).T[1]\n",
    "    print \"ROC Area-Under-Curve ({}): {}\".format(t, metrics.roc_auc_score(y[t], predicted_proba))"
   ]
  },
  {
   "cell_type": "markdown",
   "metadata": {},
   "source": [
    "### Accuracy of prediction of `1` and `0`"
   ]
  },
  {
   "cell_type": "code",
   "execution_count": 12,
   "metadata": {
    "collapsed": false
   },
   "outputs": [
    {
     "name": "stdout",
     "output_type": "stream",
     "text": [
      "===== actop_ = 0 =====\n",
      "Accuracy (t1): 0.916532497246\n",
      "Accuracy (t2): 0.91491410111\n",
      "Accuracy (t3): 0.912762233889\n",
      "Accuracy (t4): 0.915493570636\n",
      "\n",
      "===== actop_ = 1 =====\n",
      "Accuracy (t1): 0.521221814777\n",
      "Accuracy (t2): 0.527269791288\n",
      "Accuracy (t3): 0.503742863185\n",
      "Accuracy (t4): 0.507683504986\n",
      "\n"
     ]
    }
   ],
   "source": [
    "for actop_ in [0, 1]:\n",
    "    print \"===== actop_ = {} =====\".format(actop_)\n",
    "    for t in trims:\n",
    "        y_zero = y[t][y[t] == actop_]\n",
    "        X_zero = X[t][X[t].index.map(lambda x: x in y_zero)]\n",
    "    \n",
    "        predicted = boost_sk.predict(X_zero)\n",
    "        print \"Accuracy ({}): {}\".format(t, metrics.accuracy_score(y_zero, predicted))\n",
    "    print"
   ]
  },
  {
   "cell_type": "markdown",
   "metadata": {
    "collapsed": true
   },
   "source": [
    "---\n",
    "## Marginal Effects"
   ]
  },
  {
   "cell_type": "markdown",
   "metadata": {},
   "source": [
    "###  By modifying the dataset (\"passage de tout le monde en licence\")"
   ]
  },
  {
   "cell_type": "code",
   "execution_count": 13,
   "metadata": {
    "collapsed": true
   },
   "outputs": [],
   "source": [
    "brute_force = pd.DataFrame()\n",
    "for category in filters:\n",
    "    for pivot in params[category]:\n",
    "        non_pivots = [x for x in params[category] if x != pivot]\n",
    "        \n",
    "        X_one = X[\"t1\"].copy() \n",
    "        X_one[non_pivots] = 0\n",
    "        X_one[pivot] = 1\n",
    "        \n",
    "        # Note mean() on the other dimension as compared to simple tree\n",
    "        # This makes no difference on the mean(), but gives us the right std()\n",
    "        proba_one = boost_sk.predict_proba(X_one).T[1]\n",
    "        proba_t1 = boost_sk.predict_proba(X[\"t1\"]).T[1]\n",
    "        \n",
    "        brute_force[pivot] = proba_one - proba_t1    # these are now vectors"
   ]
  },
  {
   "cell_type": "code",
   "execution_count": 14,
   "metadata": {
    "collapsed": false
   },
   "outputs": [
    {
     "data": {
      "text/html": [
       "<div>\n",
       "<table border=\"1\" class=\"dataframe\">\n",
       "  <thead>\n",
       "    <tr style=\"text-align: right;\">\n",
       "      <th></th>\n",
       "      <th>etranger_</th>\n",
       "      <th>age15_</th>\n",
       "      <th>age30_</th>\n",
       "      <th>age40_</th>\n",
       "      <th>dip10_</th>\n",
       "      <th>dip11_</th>\n",
       "      <th>dip30_</th>\n",
       "      <th>dip31_</th>\n",
       "      <th>dip33_</th>\n",
       "      <th>dip41_</th>\n",
       "      <th>dip42_</th>\n",
       "      <th>dip50_</th>\n",
       "      <th>dip60_</th>\n",
       "      <th>dip70_</th>\n",
       "      <th>female_</th>\n",
       "      <th>enfants_</th>\n",
       "      <th>region1_</th>\n",
       "      <th>region2_</th>\n",
       "      <th>domtom_</th>\n",
       "    </tr>\n",
       "  </thead>\n",
       "  <tbody>\n",
       "    <tr>\n",
       "      <th>brute_force_mean</th>\n",
       "      <td>0.0134</td>\n",
       "      <td>0.0116</td>\n",
       "      <td>-0.0133</td>\n",
       "      <td>-0.0223</td>\n",
       "      <td>-0.0369</td>\n",
       "      <td>-0.0996</td>\n",
       "      <td>-0.0611</td>\n",
       "      <td>-0.0279</td>\n",
       "      <td>-0.1678</td>\n",
       "      <td>-0.0023</td>\n",
       "      <td>-0.0107</td>\n",
       "      <td>0.0015</td>\n",
       "      <td>0.0251</td>\n",
       "      <td>0.0395</td>\n",
       "      <td>0.0096</td>\n",
       "      <td>-0.0196</td>\n",
       "      <td>0.0032</td>\n",
       "      <td>-0.0232</td>\n",
       "      <td>-0.0067</td>\n",
       "    </tr>\n",
       "    <tr>\n",
       "      <th>brute_force_std</th>\n",
       "      <td>0.1633</td>\n",
       "      <td>0.0950</td>\n",
       "      <td>0.0844</td>\n",
       "      <td>0.0823</td>\n",
       "      <td>0.1063</td>\n",
       "      <td>0.1817</td>\n",
       "      <td>0.2027</td>\n",
       "      <td>0.1060</td>\n",
       "      <td>0.2280</td>\n",
       "      <td>0.1114</td>\n",
       "      <td>0.0809</td>\n",
       "      <td>0.0753</td>\n",
       "      <td>0.1015</td>\n",
       "      <td>0.1839</td>\n",
       "      <td>0.0535</td>\n",
       "      <td>0.0843</td>\n",
       "      <td>0.0510</td>\n",
       "      <td>0.1434</td>\n",
       "      <td>0.1411</td>\n",
       "    </tr>\n",
       "  </tbody>\n",
       "</table>\n",
       "</div>"
      ],
      "text/plain": [
       "                  etranger_  age15_  age30_  age40_  dip10_  dip11_  dip30_  \\\n",
       "brute_force_mean 0.0134     0.0116  -0.0133 -0.0223 -0.0369 -0.0996 -0.0611   \n",
       "brute_force_std  0.1633     0.0950  0.0844  0.0823  0.1063  0.1817  0.2027    \n",
       "\n",
       "                  dip31_  dip33_  dip41_  dip42_  dip50_  dip60_  dip70_  \\\n",
       "brute_force_mean -0.0279 -0.1678 -0.0023 -0.0107 0.0015  0.0251  0.0395    \n",
       "brute_force_std  0.1060  0.2280  0.1114  0.0809  0.0753  0.1015  0.1839    \n",
       "\n",
       "                  female_  enfants_  region1_  region2_  domtom_  \n",
       "brute_force_mean 0.0096   -0.0196   0.0032    -0.0232   -0.0067   \n",
       "brute_force_std  0.0535   0.0843    0.0510    0.1434    0.1411    "
      ]
     },
     "execution_count": 14,
     "metadata": {},
     "output_type": "execute_result"
    }
   ],
   "source": [
    "marginal_effects = pd.DataFrame()\n",
    "marginal_effects[\"brute_force_mean\"] = brute_force.mean()\n",
    "marginal_effects[\"brute_force_std\"] = brute_force.std()\n",
    "marginal_effects.transpose()"
   ]
  },
  {
   "cell_type": "markdown",
   "metadata": {},
   "source": [
    "---\n",
    "## Mean Marginal Effects (*bootstrap*)"
   ]
  },
  {
   "cell_type": "markdown",
   "metadata": {},
   "source": [
    "We use the *bootstrap* method to calculate a confidence interval for our marginal effects. The *bootstrap* method consists in successive **random samplings with replacement** of the original database.\n",
    "\n",
    "**Note: this is computationally very intensive – be careful or else**"
   ]
  },
  {
   "cell_type": "markdown",
   "metadata": {},
   "source": [
    "### Computation"
   ]
  },
  {
   "cell_type": "code",
   "execution_count": 15,
   "metadata": {
    "collapsed": true
   },
   "outputs": [],
   "source": [
    "n = 1                           # number of iterations\n",
    "k = eec15.index.size              # number of samples per iteration"
   ]
  },
  {
   "cell_type": "code",
   "execution_count": 21,
   "metadata": {
    "collapsed": false
   },
   "outputs": [
    {
     "name": "stdout",
     "output_type": "stream",
     "text": [
      "start: 2017-03-01 18:31:33.432421\n",
      "1\n",
      "ran 1 iterations in 0:03:40.498502\n"
     ]
    }
   ],
   "source": [
    "index = sum(params.values(), [])\n",
    "marginal_effects_iterations = pd.DataFrame(index=index)\n",
    "\n",
    "start = datetime.datetime.now()\n",
    "print \"start: {}\".format(start)\n",
    "\n",
    "for i in range(n):  \n",
    "    # take a sample of the DataFrame\n",
    "    eec15_sample = eec15.sample(k, replace=True)\n",
    "\n",
    "    # separate parameters and output\n",
    "    X_sample = eec15_sample[index]\n",
    "    y_sample = eec15_sample[\"actop_\"]\n",
    "\n",
    "    # build the boost for the sample\n",
    "    sample_boost_sk = ensemble.AdaBoostClassifier(\n",
    "        base_estimator=simple_tree_sk,\n",
    "        n_estimators=100,\n",
    "        learning_rate=0.1,\n",
    "        random_state=0\n",
    "    ).fit(X_sample, y_sample)\n",
    "\n",
    "    # calculate marginal effects for that sample\n",
    "    brute_force = pd.Series()\n",
    "    for category in filters:\n",
    "        for pivot in params[category]:\n",
    "            non_pivots = [x for x in params[category] if x != pivot]\n",
    "        \n",
    "            X_one = X_sample.copy() \n",
    "            X_one[non_pivots] = 0\n",
    "            X_one[pivot] = 1\n",
    "        \n",
    "            proba_one = sample_boost_sk.predict_proba(X_one).T[1].mean()\n",
    "            proba_base = sample_boost_sk.predict_proba(X_sample).T[1].mean()\n",
    "            brute_force[pivot] = proba_one - proba_base\n",
    "    \n",
    "    # store the results in the dataframe\n",
    "    marginal_effects_iterations[i] = brute_force\n",
    "    \n",
    "    # dump 50 just to be safe\n",
    "    if not i % 50:\n",
    "        marginal_effects_iterations.to_csv(\"csv/boosting_{}_{}.csv\".format(n, i))\n",
    "\n",
    "    # print completed iteration\n",
    "    print i+1,\n",
    "\n",
    "    with open(\"csv/boosting_log\", \"w\") as f:\n",
    "        f.write(str(i+1)+\"\\n\")\n",
    "    \n",
    "print\n",
    "end = datetime.datetime.now()\n",
    "print \"ran {} iterations in {}\".format(n, end-start)"
   ]
  },
  {
   "cell_type": "code",
   "execution_count": 17,
   "metadata": {
    "collapsed": true
   },
   "outputs": [],
   "source": [
    "marginal_effects_iterations.to_csv(\"csv/boosting_{}.csv\".format(n))"
   ]
  },
  {
   "cell_type": "markdown",
   "metadata": {},
   "source": [
    "### Mean/Standard Deviation (across iterations)"
   ]
  },
  {
   "cell_type": "code",
   "execution_count": 18,
   "metadata": {
    "collapsed": false
   },
   "outputs": [
    {
     "data": {
      "text/html": [
       "<div>\n",
       "<table border=\"1\" class=\"dataframe\">\n",
       "  <thead>\n",
       "    <tr style=\"text-align: right;\">\n",
       "      <th></th>\n",
       "      <th>etranger_</th>\n",
       "      <th>age15_</th>\n",
       "      <th>age30_</th>\n",
       "      <th>age40_</th>\n",
       "      <th>dip10_</th>\n",
       "      <th>dip11_</th>\n",
       "      <th>dip30_</th>\n",
       "      <th>dip31_</th>\n",
       "      <th>dip33_</th>\n",
       "      <th>dip41_</th>\n",
       "      <th>dip42_</th>\n",
       "      <th>dip50_</th>\n",
       "      <th>dip60_</th>\n",
       "      <th>dip70_</th>\n",
       "      <th>female_</th>\n",
       "      <th>enfants_</th>\n",
       "      <th>region1_</th>\n",
       "      <th>region2_</th>\n",
       "      <th>domtom_</th>\n",
       "    </tr>\n",
       "  </thead>\n",
       "  <tbody>\n",
       "    <tr>\n",
       "      <th>mean</th>\n",
       "      <td>nan</td>\n",
       "      <td>nan</td>\n",
       "      <td>nan</td>\n",
       "      <td>nan</td>\n",
       "      <td>nan</td>\n",
       "      <td>nan</td>\n",
       "      <td>nan</td>\n",
       "      <td>nan</td>\n",
       "      <td>nan</td>\n",
       "      <td>nan</td>\n",
       "      <td>nan</td>\n",
       "      <td>nan</td>\n",
       "      <td>nan</td>\n",
       "      <td>nan</td>\n",
       "      <td>nan</td>\n",
       "      <td>nan</td>\n",
       "      <td>nan</td>\n",
       "      <td>nan</td>\n",
       "      <td>nan</td>\n",
       "    </tr>\n",
       "    <tr>\n",
       "      <th>std</th>\n",
       "      <td>nan</td>\n",
       "      <td>nan</td>\n",
       "      <td>nan</td>\n",
       "      <td>nan</td>\n",
       "      <td>nan</td>\n",
       "      <td>nan</td>\n",
       "      <td>nan</td>\n",
       "      <td>nan</td>\n",
       "      <td>nan</td>\n",
       "      <td>nan</td>\n",
       "      <td>nan</td>\n",
       "      <td>nan</td>\n",
       "      <td>nan</td>\n",
       "      <td>nan</td>\n",
       "      <td>nan</td>\n",
       "      <td>nan</td>\n",
       "      <td>nan</td>\n",
       "      <td>nan</td>\n",
       "      <td>nan</td>\n",
       "    </tr>\n",
       "  </tbody>\n",
       "</table>\n",
       "</div>"
      ],
      "text/plain": [
       "      etranger_  age15_  age30_  age40_  dip10_  dip11_  dip30_  dip31_  \\\n",
       "mean nan        nan     nan     nan     nan     nan     nan     nan       \n",
       "std  nan        nan     nan     nan     nan     nan     nan     nan       \n",
       "\n",
       "      dip33_  dip41_  dip42_  dip50_  dip60_  dip70_  female_  enfants_  \\\n",
       "mean nan     nan     nan     nan     nan     nan     nan      nan         \n",
       "std  nan     nan     nan     nan     nan     nan     nan      nan         \n",
       "\n",
       "      region1_  region2_  domtom_  \n",
       "mean nan       nan       nan       \n",
       "std  nan       nan       nan       "
      ]
     },
     "execution_count": 18,
     "metadata": {},
     "output_type": "execute_result"
    }
   ],
   "source": [
    "marginal_effects_summary = pd.DataFrame()\n",
    "marginal_effects_summary[\"mean\"] = marginal_effects_iterations.mean(axis=1)\n",
    "marginal_effects_summary[\"std\"] = marginal_effects_iterations.std(axis=1)\n",
    "\n",
    "marginal_effects_summary.transpose()"
   ]
  },
  {
   "cell_type": "markdown",
   "metadata": {},
   "source": [
    "### 95% Confidence Interval"
   ]
  },
  {
   "cell_type": "code",
   "execution_count": 19,
   "metadata": {
    "collapsed": false
   },
   "outputs": [
    {
     "ename": "IndexError",
     "evalue": "single positional indexer is out-of-bounds",
     "output_type": "error",
     "traceback": [
      "\u001b[0;31m---------------------------------------------------------------------------\u001b[0m",
      "\u001b[0;31mIndexError\u001b[0m                                Traceback (most recent call last)",
      "\u001b[0;32m<ipython-input-19-ce7f0c8c47b4>\u001b[0m in \u001b[0;36m<module>\u001b[0;34m()\u001b[0m\n\u001b[1;32m      7\u001b[0m     \u001b[0;32mfor\u001b[0m \u001b[0mpivot\u001b[0m \u001b[0;32min\u001b[0m \u001b[0mparams\u001b[0m\u001b[0;34m[\u001b[0m\u001b[0mcategory\u001b[0m\u001b[0;34m]\u001b[0m\u001b[0;34m:\u001b[0m\u001b[0;34m\u001b[0m\u001b[0m\n\u001b[1;32m      8\u001b[0m         \u001b[0mme_pivot\u001b[0m \u001b[0;34m=\u001b[0m \u001b[0mmarginal_effects_iterations\u001b[0m\u001b[0;34m.\u001b[0m\u001b[0mloc\u001b[0m\u001b[0;34m[\u001b[0m\u001b[0mpivot\u001b[0m\u001b[0;34m]\u001b[0m\u001b[0;34m.\u001b[0m\u001b[0msort_values\u001b[0m\u001b[0;34m(\u001b[0m\u001b[0;34m)\u001b[0m\u001b[0;34m\u001b[0m\u001b[0m\n\u001b[0;32m----> 9\u001b[0;31m         \u001b[0minterval\u001b[0m\u001b[0;34m[\u001b[0m\u001b[0mpivot\u001b[0m\u001b[0;34m]\u001b[0m \u001b[0;34m=\u001b[0m \u001b[0;34m[\u001b[0m\u001b[0mme_pivot\u001b[0m\u001b[0;34m.\u001b[0m\u001b[0miloc\u001b[0m\u001b[0;34m[\u001b[0m\u001b[0mix\u001b[0m\u001b[0;34m]\u001b[0m\u001b[0;34m,\u001b[0m \u001b[0mme_pivot\u001b[0m\u001b[0;34m.\u001b[0m\u001b[0miloc\u001b[0m\u001b[0;34m[\u001b[0m\u001b[0;34m-\u001b[0m\u001b[0mix\u001b[0m\u001b[0;34m]\u001b[0m\u001b[0;34m]\u001b[0m\u001b[0;34m\u001b[0m\u001b[0m\n\u001b[0m\u001b[1;32m     10\u001b[0m \u001b[0;34m\u001b[0m\u001b[0m\n\u001b[1;32m     11\u001b[0m \u001b[0minterval\u001b[0m\u001b[0;34m\u001b[0m\u001b[0m\n",
      "\u001b[0;32m/usr/local/lib/python2.7/dist-packages/pandas/core/indexing.pyc\u001b[0m in \u001b[0;36m__getitem__\u001b[0;34m(self, key)\u001b[0m\n\u001b[1;32m   1309\u001b[0m             \u001b[0;32mreturn\u001b[0m \u001b[0mself\u001b[0m\u001b[0;34m.\u001b[0m\u001b[0m_getitem_tuple\u001b[0m\u001b[0;34m(\u001b[0m\u001b[0mkey\u001b[0m\u001b[0;34m)\u001b[0m\u001b[0;34m\u001b[0m\u001b[0m\n\u001b[1;32m   1310\u001b[0m         \u001b[0;32melse\u001b[0m\u001b[0;34m:\u001b[0m\u001b[0;34m\u001b[0m\u001b[0m\n\u001b[0;32m-> 1311\u001b[0;31m             \u001b[0;32mreturn\u001b[0m \u001b[0mself\u001b[0m\u001b[0;34m.\u001b[0m\u001b[0m_getitem_axis\u001b[0m\u001b[0;34m(\u001b[0m\u001b[0mkey\u001b[0m\u001b[0;34m,\u001b[0m \u001b[0maxis\u001b[0m\u001b[0;34m=\u001b[0m\u001b[0;36m0\u001b[0m\u001b[0;34m)\u001b[0m\u001b[0;34m\u001b[0m\u001b[0m\n\u001b[0m\u001b[1;32m   1312\u001b[0m \u001b[0;34m\u001b[0m\u001b[0m\n\u001b[1;32m   1313\u001b[0m     \u001b[0;32mdef\u001b[0m \u001b[0m_getitem_axis\u001b[0m\u001b[0;34m(\u001b[0m\u001b[0mself\u001b[0m\u001b[0;34m,\u001b[0m \u001b[0mkey\u001b[0m\u001b[0;34m,\u001b[0m \u001b[0maxis\u001b[0m\u001b[0;34m=\u001b[0m\u001b[0;36m0\u001b[0m\u001b[0;34m)\u001b[0m\u001b[0;34m:\u001b[0m\u001b[0;34m\u001b[0m\u001b[0m\n",
      "\u001b[0;32m/usr/local/lib/python2.7/dist-packages/pandas/core/indexing.pyc\u001b[0m in \u001b[0;36m_getitem_axis\u001b[0;34m(self, key, axis)\u001b[0m\n\u001b[1;32m   1625\u001b[0m \u001b[0;34m\u001b[0m\u001b[0m\n\u001b[1;32m   1626\u001b[0m                 \u001b[0;31m# validate the location\u001b[0m\u001b[0;34m\u001b[0m\u001b[0;34m\u001b[0m\u001b[0m\n\u001b[0;32m-> 1627\u001b[0;31m                 \u001b[0mself\u001b[0m\u001b[0;34m.\u001b[0m\u001b[0m_is_valid_integer\u001b[0m\u001b[0;34m(\u001b[0m\u001b[0mkey\u001b[0m\u001b[0;34m,\u001b[0m \u001b[0maxis\u001b[0m\u001b[0;34m)\u001b[0m\u001b[0;34m\u001b[0m\u001b[0m\n\u001b[0m\u001b[1;32m   1628\u001b[0m \u001b[0;34m\u001b[0m\u001b[0m\n\u001b[1;32m   1629\u001b[0m             \u001b[0;32mreturn\u001b[0m \u001b[0mself\u001b[0m\u001b[0;34m.\u001b[0m\u001b[0m_get_loc\u001b[0m\u001b[0;34m(\u001b[0m\u001b[0mkey\u001b[0m\u001b[0;34m,\u001b[0m \u001b[0maxis\u001b[0m\u001b[0;34m=\u001b[0m\u001b[0maxis\u001b[0m\u001b[0;34m)\u001b[0m\u001b[0;34m\u001b[0m\u001b[0m\n",
      "\u001b[0;32m/usr/local/lib/python2.7/dist-packages/pandas/core/indexing.pyc\u001b[0m in \u001b[0;36m_is_valid_integer\u001b[0;34m(self, key, axis)\u001b[0m\n\u001b[1;32m   1539\u001b[0m         \u001b[0ml\u001b[0m \u001b[0;34m=\u001b[0m \u001b[0mlen\u001b[0m\u001b[0;34m(\u001b[0m\u001b[0max\u001b[0m\u001b[0;34m)\u001b[0m\u001b[0;34m\u001b[0m\u001b[0m\n\u001b[1;32m   1540\u001b[0m         \u001b[0;32mif\u001b[0m \u001b[0mkey\u001b[0m \u001b[0;34m>=\u001b[0m \u001b[0ml\u001b[0m \u001b[0;32mor\u001b[0m \u001b[0mkey\u001b[0m \u001b[0;34m<\u001b[0m \u001b[0;34m-\u001b[0m\u001b[0ml\u001b[0m\u001b[0;34m:\u001b[0m\u001b[0;34m\u001b[0m\u001b[0m\n\u001b[0;32m-> 1541\u001b[0;31m             \u001b[0;32mraise\u001b[0m \u001b[0mIndexError\u001b[0m\u001b[0;34m(\u001b[0m\u001b[0;34m\"single positional indexer is out-of-bounds\"\u001b[0m\u001b[0;34m)\u001b[0m\u001b[0;34m\u001b[0m\u001b[0m\n\u001b[0m\u001b[1;32m   1542\u001b[0m         \u001b[0;32mreturn\u001b[0m \u001b[0mTrue\u001b[0m\u001b[0;34m\u001b[0m\u001b[0m\n\u001b[1;32m   1543\u001b[0m \u001b[0;34m\u001b[0m\u001b[0m\n",
      "\u001b[0;31mIndexError\u001b[0m: single positional indexer is out-of-bounds"
     ]
    }
   ],
   "source": [
    "interval_size = 0.99\n",
    "alpha = (1 - interval_size)/2\n",
    "ix = int(round(alpha*n))      # ix has to be an integer\n",
    "\n",
    "interval = pd.DataFrame(index=[\"lower\", \"upper\"])\n",
    "for category in filters:\n",
    "    for pivot in params[category]:\n",
    "        me_pivot = marginal_effects_iterations.loc[pivot].sort_values()\n",
    "        interval[pivot] = [me_pivot.iloc[ix], me_pivot.iloc[-ix]]\n",
    "\n",
    "interval"
   ]
  },
  {
   "cell_type": "markdown",
   "metadata": {},
   "source": [
    "---\n",
    "## Most important parameters\n",
    "_ranked by **entropy importance**_ (**TODO**: where did Bastien get this?!)"
   ]
  },
  {
   "cell_type": "code",
   "execution_count": null,
   "metadata": {
    "collapsed": false
   },
   "outputs": [],
   "source": [
    "entropy = pd.DataFrame(boost_sk.feature_importances_, index=X[\"t1\"].columns, columns=[\"entropy\"])\n",
    "#entropy_sorted = entropy.sort_values(by=\"entropy\", ascending=False).transpose()\n",
    "entropy.transpose()"
   ]
  },
  {
   "cell_type": "markdown",
   "metadata": {},
   "source": [
    "---\n",
    "# Odds Ratios"
   ]
  },
  {
   "cell_type": "markdown",
   "metadata": {},
   "source": [
    "The odds ratios formula is:\n",
    "$$\\frac{p/(1-p)}{q/(1-q)} = \\frac{p(1-q)}{q(1-p)}$$\n",
    "\n",
    "where $p$ and $q$ are the probability of being **unemployed**."
   ]
  },
  {
   "cell_type": "code",
   "execution_count": null,
   "metadata": {
    "collapsed": false
   },
   "outputs": [],
   "source": [
    "odds = pd.Series()\n",
    "for category in filters:\n",
    "    for pivot in params[category]:\n",
    "        non_pivots = [x for x in params[category] if x != pivot]\n",
    "        \n",
    "        X_one = X[\"t1\"].copy() \n",
    "        X_one[non_pivots] = 0\n",
    "        X_one[pivot] = 1\n",
    "\n",
    "        proba_one = boost_sk.predict_proba(X_one).T[1].mean()\n",
    "        odds[pivot] = proba_one/(1-proba_one)  "
   ]
  },
  {
   "cell_type": "code",
   "execution_count": null,
   "metadata": {
    "collapsed": true
   },
   "outputs": [],
   "source": [
    "odds_ratios = pd.DataFrame(index=odds.index, columns=odds.index)\n",
    "for col in odds.index:\n",
    "    for row in odds.index:\n",
    "        odds_ratios[col][row] = odds[col]/odds[row]"
   ]
  },
  {
   "cell_type": "code",
   "execution_count": null,
   "metadata": {
    "collapsed": false
   },
   "outputs": [],
   "source": [
    "# odds_ratios     # col, row = odds[col]/odds[row]\n",
    "odds_ratios.T   # row, col = odds[row]/odds[col]  "
   ]
  },
  {
   "cell_type": "markdown",
   "metadata": {},
   "source": [
    "---\n",
    "## Odds Ratios (2)\n",
    "**TODO**: add the other Odds Ratios formula"
   ]
  },
  {
   "cell_type": "code",
   "execution_count": null,
   "metadata": {
    "collapsed": false
   },
   "outputs": [],
   "source": [
    "odds_ratios_2 = pd.DataFrame()\n",
    "for category in filters:\n",
    "    for pivot in params[category]:\n",
    "        non_pivots = [x for x in params[category] if x != pivot]\n",
    "        \n",
    "        X_one = X[\"t1\"].copy() \n",
    "        X_one[non_pivots] = 0\n",
    "        X_one[pivot] = 1\n",
    "        proba_one = boost_sk.predict_proba(X_one).T[1].mean()\n",
    "        odds_one = proba_one/(1-proba_one)\n",
    "        \n",
    "        X_zero = X[\"t1\"].copy()\n",
    "        X_zero[non_pivots] = 0\n",
    "        X_zero[pivot] = 0\n",
    "        proba_zero = boost_sk.predict_proba(X_zero).T[1].mean()\n",
    "        odds_zero = proba_zero/(1-proba_zero)\n",
    "        \n",
    "        odds_ratios_2.loc[pivot, \"ratio\"] = odds_one/odds_zero\n",
    "\n",
    "odds_ratios_2.transpose()"
   ]
  }
 ],
 "metadata": {
  "kernelspec": {
   "display_name": "Python 2",
   "language": "python",
   "name": "python2"
  },
  "language_info": {
   "codemirror_mode": {
    "name": "ipython",
    "version": 2
   },
   "file_extension": ".py",
   "mimetype": "text/x-python",
   "name": "python",
   "nbconvert_exporter": "python",
   "pygments_lexer": "ipython2",
   "version": "2.7.12"
  }
 },
 "nbformat": 4,
 "nbformat_minor": 1
}
