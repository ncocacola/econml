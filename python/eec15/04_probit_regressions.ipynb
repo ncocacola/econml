{
 "cells": [
  {
   "cell_type": "markdown",
   "metadata": {},
   "source": [
    "# Probit Regressions"
   ]
  },
  {
   "cell_type": "markdown",
   "metadata": {},
   "source": [
    "---\n",
    "## Experimental Setup"
   ]
  },
  {
   "cell_type": "markdown",
   "metadata": {},
   "source": [
    "### Libraries & Settings"
   ]
  },
  {
   "cell_type": "code",
   "execution_count": 1,
   "metadata": {
    "collapsed": true
   },
   "outputs": [],
   "source": [
    "import os              # General OS commands\n",
    "import numpy as np     # NumPy\n",
    "import pandas as pd    # Python Data Analysis Library\n",
    "import zipfile         # Compress/decompress ZIP files\n",
    "import sqlite3         # SQLite3 Database Driver\n",
    "import re              # Regular Expressions"
   ]
  },
  {
   "cell_type": "code",
   "execution_count": 2,
   "metadata": {
    "collapsed": true
   },
   "outputs": [],
   "source": [
    "import statsmodels.api as sm\n",
    "from sklearn import metrics\n",
    "import math"
   ]
  },
  {
   "cell_type": "code",
   "execution_count": 3,
   "metadata": {
    "collapsed": false
   },
   "outputs": [],
   "source": [
    "# Never truncate columns, display all the data\n",
    "from IPython.display import display, HTML\n",
    "pd.set_option('display.max_colwidth', -1)\n",
    "\n",
    "# Display floating-point numbers with 4 decimals in `pandas.DataFrame`\n",
    "pd.options.display.float_format = '{:,.4f}'.format\n",
    "\n",
    "import matplotlib.pyplot as plt\n",
    "# Display MatPlotLib stuff inline\n",
    "%matplotlib inline"
   ]
  },
  {
   "cell_type": "markdown",
   "metadata": {},
   "source": [
    "### Database"
   ]
  },
  {
   "cell_type": "code",
   "execution_count": 4,
   "metadata": {
    "collapsed": true
   },
   "outputs": [],
   "source": [
    "zip_filename = \"../../data/ee-insee-2015_custom-sqlite.zip\"\n",
    "eedb = zip_filename.replace(\"-sqlite.zip\", \".sqlite\")\n",
    "\n",
    "if not os.path.exists(eedb):\n",
    "    with zipfile.ZipFile(zip_filename) as zip_file:\n",
    "        zip_file.extractall(\"../../data/\")"
   ]
  },
  {
   "cell_type": "code",
   "execution_count": 5,
   "metadata": {
    "collapsed": true
   },
   "outputs": [],
   "source": [
    "with sqlite3.connect(eedb) as con:\n",
    "    query = \"SELECT * FROM eec15_custom\"\n",
    "    eec15 = pd.read_sql_query(query, con)"
   ]
  },
  {
   "cell_type": "code",
   "execution_count": 6,
   "metadata": {
    "collapsed": false
   },
   "outputs": [],
   "source": [
    "# Create a (\"female\" x \"enfant\") interaction variable\n",
    "bool_ = eec15[[\"enfants_\", \"female_\"]].astype(bool)\n",
    "eec15[\"female_enfants_\"] = (bool_.enfants_ & bool_.female_).astype(int)\n",
    "\n",
    "# Drop data we don't need\n",
    "eec15 = eec15[eec15.age60_ == 0]\n",
    "eec15 = eec15.drop(\"age60_\", 1)"
   ]
  },
  {
   "cell_type": "markdown",
   "metadata": {},
   "source": [
    "---\n",
    "## Regression"
   ]
  },
  {
   "cell_type": "code",
   "execution_count": 7,
   "metadata": {
    "collapsed": false
   },
   "outputs": [],
   "source": [
    "# Build a list of parameters to include in the model, using regex\n",
    "# https://www.datarobot.com/blog/multiple-regression-using-statsmodels/\n",
    "filters = {\n",
    "    \"age\": \"^age[0-9]{2}_$\",\n",
    "    \"diploma\": \"^dip[0-9]{2}_$\",\n",
    "    \"etranger\": \"^etranger_$\",\n",
    "    \"domtom\": \"^domtom_$\",\n",
    "#     \"trim\": \"^trim$\",\n",
    "    \"female\": \"^female_$\",\n",
    "    \"enfants\": \"^enfants_$\",\n",
    "#     \"female_enfants\": \"^female_enfants_$\",\n",
    "    \"region\": \"^region[1-2]_$\"\n",
    "}\n",
    "params = {k: sorted([x for x in eec15.columns if re.match(r, x)]) for (k, r) in filters.items()}\n",
    "\n",
    "# Avoid the dummy variable trap\n",
    "params = {k: (v if len(v) == 1 else v[:-1]) for (k, v) in params.items()}\n",
    "params[\"region\"] += [\"region2_\"]"
   ]
  },
  {
   "cell_type": "code",
   "execution_count": 8,
   "metadata": {
    "collapsed": false
   },
   "outputs": [],
   "source": [
    "trims = [\"t{}\".format(x) for x in sorted(eec15[\"trim\"].unique())]\n",
    "eec15_ = {t: eec15[eec15.trim == int(t[1])] for t in trims}\n",
    "X = {t: eec15_[t][sum(params.values(), [])] for t in eec15_}\n",
    "y = {t: eec15_[t][\"actop_\"] for t in eec15_}"
   ]
  },
  {
   "cell_type": "markdown",
   "metadata": {},
   "source": [
    "### Train the model using `trim=1` data"
   ]
  },
  {
   "cell_type": "code",
   "execution_count": 9,
   "metadata": {
    "collapsed": false
   },
   "outputs": [
    {
     "data": {
      "text/html": [
       "<table class=\"simpletable\">\n",
       "<caption>Probit Regression Results</caption>\n",
       "<tr>\n",
       "  <th>Dep. Variable:</th>      <td>actop_</td>      <th>  No. Observations:  </th>  <td> 72838</td> \n",
       "</tr>\n",
       "<tr>\n",
       "  <th>Model:</th>              <td>Probit</td>      <th>  Df Residuals:      </th>  <td> 72818</td> \n",
       "</tr>\n",
       "<tr>\n",
       "  <th>Method:</th>               <td>MLE</td>       <th>  Df Model:          </th>  <td>    19</td> \n",
       "</tr>\n",
       "<tr>\n",
       "  <th>Date:</th>          <td>Thu, 16 Feb 2017</td> <th>  Pseudo R-squ.:     </th>  <td>0.2213</td> \n",
       "</tr>\n",
       "<tr>\n",
       "  <th>Time:</th>              <td>22:03:28</td>     <th>  Log-Likelihood:    </th> <td> -36790.</td>\n",
       "</tr>\n",
       "<tr>\n",
       "  <th>converged:</th>           <td>True</td>       <th>  LL-Null:           </th> <td> -47245.</td>\n",
       "</tr>\n",
       "<tr>\n",
       "  <th> </th>                      <td> </td>        <th>  LLR p-value:       </th>  <td> 0.000</td> \n",
       "</tr>\n",
       "</table>\n",
       "<table class=\"simpletable\">\n",
       "<tr>\n",
       "      <td></td>         <th>coef</th>     <th>std err</th>      <th>z</th>      <th>P>|z|</th> <th>[95.0% Conf. Int.]</th> \n",
       "</tr>\n",
       "<tr>\n",
       "  <th>const</th>     <td>   -0.4084</td> <td>    0.024</td> <td>  -17.055</td> <td> 0.000</td> <td>   -0.455    -0.361</td>\n",
       "</tr>\n",
       "<tr>\n",
       "  <th>etranger_</th> <td>    0.4105</td> <td>    0.020</td> <td>   20.054</td> <td> 0.000</td> <td>    0.370     0.451</td>\n",
       "</tr>\n",
       "<tr>\n",
       "  <th>age15_</th>    <td>    0.9455</td> <td>    0.015</td> <td>   63.398</td> <td> 0.000</td> <td>    0.916     0.975</td>\n",
       "</tr>\n",
       "<tr>\n",
       "  <th>age30_</th>    <td>    0.1671</td> <td>    0.017</td> <td>    9.953</td> <td> 0.000</td> <td>    0.134     0.200</td>\n",
       "</tr>\n",
       "<tr>\n",
       "  <th>age40_</th>    <td>   -0.0488</td> <td>    0.016</td> <td>   -3.057</td> <td> 0.002</td> <td>   -0.080    -0.018</td>\n",
       "</tr>\n",
       "<tr>\n",
       "  <th>dip10_</th>    <td>   -1.1090</td> <td>    0.021</td> <td>  -52.166</td> <td> 0.000</td> <td>   -1.151    -1.067</td>\n",
       "</tr>\n",
       "<tr>\n",
       "  <th>dip11_</th>    <td>   -1.3303</td> <td>    0.038</td> <td>  -35.100</td> <td> 0.000</td> <td>   -1.405    -1.256</td>\n",
       "</tr>\n",
       "<tr>\n",
       "  <th>dip30_</th>    <td>   -0.6348</td> <td>    0.055</td> <td>  -11.518</td> <td> 0.000</td> <td>   -0.743    -0.527</td>\n",
       "</tr>\n",
       "<tr>\n",
       "  <th>dip31_</th>    <td>   -1.0496</td> <td>    0.023</td> <td>  -44.685</td> <td> 0.000</td> <td>   -1.096    -1.004</td>\n",
       "</tr>\n",
       "<tr>\n",
       "  <th>dip33_</th>    <td>   -1.2131</td> <td>    0.043</td> <td>  -28.299</td> <td> 0.000</td> <td>   -1.297    -1.129</td>\n",
       "</tr>\n",
       "<tr>\n",
       "  <th>dip41_</th>    <td>   -0.3054</td> <td>    0.023</td> <td>  -13.380</td> <td> 0.000</td> <td>   -0.350    -0.261</td>\n",
       "</tr>\n",
       "<tr>\n",
       "  <th>dip42_</th>    <td>   -0.8262</td> <td>    0.020</td> <td>  -41.726</td> <td> 0.000</td> <td>   -0.865    -0.787</td>\n",
       "</tr>\n",
       "<tr>\n",
       "  <th>dip50_</th>    <td>   -0.5785</td> <td>    0.017</td> <td>  -34.620</td> <td> 0.000</td> <td>   -0.611    -0.546</td>\n",
       "</tr>\n",
       "<tr>\n",
       "  <th>dip60_</th>    <td>    0.1148</td> <td>    0.021</td> <td>    5.483</td> <td> 0.000</td> <td>    0.074     0.156</td>\n",
       "</tr>\n",
       "<tr>\n",
       "  <th>dip70_</th>    <td>   -0.1178</td> <td>    0.042</td> <td>   -2.811</td> <td> 0.005</td> <td>   -0.200    -0.036</td>\n",
       "</tr>\n",
       "<tr>\n",
       "  <th>female_</th>   <td>    0.3049</td> <td>    0.011</td> <td>   27.981</td> <td> 0.000</td> <td>    0.284     0.326</td>\n",
       "</tr>\n",
       "<tr>\n",
       "  <th>enfants_</th>  <td>   -0.2666</td> <td>    0.012</td> <td>  -21.358</td> <td> 0.000</td> <td>   -0.291    -0.242</td>\n",
       "</tr>\n",
       "<tr>\n",
       "  <th>region1_</th>  <td>    0.1179</td> <td>    0.019</td> <td>    6.225</td> <td> 0.000</td> <td>    0.081     0.155</td>\n",
       "</tr>\n",
       "<tr>\n",
       "  <th>region2_</th>  <td>    0.1536</td> <td>    0.026</td> <td>    5.871</td> <td> 0.000</td> <td>    0.102     0.205</td>\n",
       "</tr>\n",
       "<tr>\n",
       "  <th>domtom_</th>   <td>    0.3553</td> <td>    0.016</td> <td>   21.723</td> <td> 0.000</td> <td>    0.323     0.387</td>\n",
       "</tr>\n",
       "</table>"
      ],
      "text/plain": [
       "<class 'statsmodels.iolib.summary.Summary'>\n",
       "\"\"\"\n",
       "                          Probit Regression Results                           \n",
       "==============================================================================\n",
       "Dep. Variable:                 actop_   No. Observations:                72838\n",
       "Model:                         Probit   Df Residuals:                    72818\n",
       "Method:                           MLE   Df Model:                           19\n",
       "Date:                Thu, 16 Feb 2017   Pseudo R-squ.:                  0.2213\n",
       "Time:                        22:03:28   Log-Likelihood:                -36790.\n",
       "converged:                       True   LL-Null:                       -47245.\n",
       "                                        LLR p-value:                     0.000\n",
       "==============================================================================\n",
       "                 coef    std err          z      P>|z|      [95.0% Conf. Int.]\n",
       "------------------------------------------------------------------------------\n",
       "const         -0.4084      0.024    -17.055      0.000        -0.455    -0.361\n",
       "etranger_      0.4105      0.020     20.054      0.000         0.370     0.451\n",
       "age15_         0.9455      0.015     63.398      0.000         0.916     0.975\n",
       "age30_         0.1671      0.017      9.953      0.000         0.134     0.200\n",
       "age40_        -0.0488      0.016     -3.057      0.002        -0.080    -0.018\n",
       "dip10_        -1.1090      0.021    -52.166      0.000        -1.151    -1.067\n",
       "dip11_        -1.3303      0.038    -35.100      0.000        -1.405    -1.256\n",
       "dip30_        -0.6348      0.055    -11.518      0.000        -0.743    -0.527\n",
       "dip31_        -1.0496      0.023    -44.685      0.000        -1.096    -1.004\n",
       "dip33_        -1.2131      0.043    -28.299      0.000        -1.297    -1.129\n",
       "dip41_        -0.3054      0.023    -13.380      0.000        -0.350    -0.261\n",
       "dip42_        -0.8262      0.020    -41.726      0.000        -0.865    -0.787\n",
       "dip50_        -0.5785      0.017    -34.620      0.000        -0.611    -0.546\n",
       "dip60_         0.1148      0.021      5.483      0.000         0.074     0.156\n",
       "dip70_        -0.1178      0.042     -2.811      0.005        -0.200    -0.036\n",
       "female_        0.3049      0.011     27.981      0.000         0.284     0.326\n",
       "enfants_      -0.2666      0.012    -21.358      0.000        -0.291    -0.242\n",
       "region1_       0.1179      0.019      6.225      0.000         0.081     0.155\n",
       "region2_       0.1536      0.026      5.871      0.000         0.102     0.205\n",
       "domtom_        0.3553      0.016     21.723      0.000         0.323     0.387\n",
       "==============================================================================\n",
       "\"\"\""
      ]
     },
     "execution_count": 9,
     "metadata": {},
     "output_type": "execute_result"
    }
   ],
   "source": [
    "# Fit using `statsmodels`\n",
    "reg_probit_sm = sm.Probit(y[\"t1\"], sm.add_constant(X[\"t1\"])).fit(disp=False)\n",
    "\n",
    "# Print the (`statsmodels`) model summary\n",
    "reg_probit_sm.summary()"
   ]
  },
  {
   "cell_type": "code",
   "execution_count": 10,
   "metadata": {
    "collapsed": false
   },
   "outputs": [],
   "source": [
    "# Create a DataFrame of coefficients\n",
    "regressors = list(X[\"t1\"].columns) + [\"const\"]\n",
    "coeffs = pd.DataFrame(index=regressors)\n",
    "coeffs[\"sm\"] = reg_probit_sm.params\n",
    "\n",
    "# Note: in the Logit notebook, the purpose of this DataFrame was to compare the results\n",
    "# from the `sklearn` and `statsmodels` regressions – we cannot do that here since `sklearn`\n",
    "# cannot perform Probit regressions – we keep the `coeffs` variable for consistency"
   ]
  },
  {
   "cell_type": "markdown",
   "metadata": {},
   "source": [
    "### Apply the model to test data (`trim=2/3/4`)"
   ]
  },
  {
   "cell_type": "code",
   "execution_count": 11,
   "metadata": {
    "collapsed": false
   },
   "outputs": [
    {
     "name": "stdout",
     "output_type": "stream",
     "text": [
      "Accuracy (t1): 0.761745242868\n",
      "Accuracy (t2): 0.766766416825\n",
      "Accuracy (t3): 0.759427790539\n",
      "Accuracy (t4): 0.762881767454\n"
     ]
    }
   ],
   "source": [
    "# To avoid the pitfall from the above calculation, we need to map [0, 1] -> {0, 1}\n",
    "# We define a threshold probability above which we consider an individual to be employed\n",
    "THRESHOLD = 0.5\n",
    "\n",
    "for t in trims:\n",
    "    predicted = np.where(reg_probit_sm.predict(sm.add_constant(X[t])) < THRESHOLD, 0, 1)\n",
    "    print \"Accuracy ({}): {}\".format(t, metrics.accuracy_score(y[t], predicted))"
   ]
  },
  {
   "cell_type": "code",
   "execution_count": 12,
   "metadata": {
    "collapsed": false
   },
   "outputs": [
    {
     "name": "stdout",
     "output_type": "stream",
     "text": [
      "ROC Area-Under-Curve (t1): 0.799250365035\n",
      "ROC Area-Under-Curve (t2): 0.802042228518\n",
      "ROC Area-Under-Curve (t3): 0.796118251953\n",
      "ROC Area-Under-Curve (t4): 0.80215302874\n"
     ]
    }
   ],
   "source": [
    "for t in trims:\n",
    "    predicted_proba = reg_probit_sm.predict(sm.add_constant(X[t]))\n",
    "    print \"ROC Area-Under-Curve ({}): {}\".format(t, metrics.roc_auc_score(y[t], predicted_proba))"
   ]
  },
  {
   "cell_type": "markdown",
   "metadata": {},
   "source": [
    "### Accuracy of prediction of `1` and `0`"
   ]
  },
  {
   "cell_type": "code",
   "execution_count": 13,
   "metadata": {
    "collapsed": false
   },
   "outputs": [
    {
     "name": "stdout",
     "output_type": "stream",
     "text": [
      "===== actop_ = 0 =====\n",
      "Accuracy (t1): 0.871154986866\n",
      "Accuracy (t2): 0.87201814253\n",
      "Accuracy (t3): 0.87058328349\n",
      "Accuracy (t4): 0.874132416614\n",
      "\n",
      "===== actop_ = 1 =====\n",
      "Accuracy (t1): 0.560271514395\n",
      "Accuracy (t2): 0.568164385774\n",
      "Accuracy (t3): 0.547219285261\n",
      "Accuracy (t4): 0.553907144025\n",
      "\n"
     ]
    }
   ],
   "source": [
    "for actop_ in [0, 1]:\n",
    "    print \"===== actop_ = {} =====\".format(actop_)\n",
    "    for t in trims:\n",
    "        y_zero = y[t][y[t] == actop_]\n",
    "        X_zero = X[t][X[t].index.map(lambda x: x in y_zero)]\n",
    "    \n",
    "        predicted = np.where(reg_probit_sm.predict(sm.add_constant(X_zero)) < THRESHOLD, 0, 1)\n",
    "        print \"Accuracy ({}): {}\".format(t, metrics.accuracy_score(y_zero, predicted))\n",
    "    print"
   ]
  },
  {
   "cell_type": "markdown",
   "metadata": {},
   "source": [
    "---\n",
    "## Marginal Effects"
   ]
  },
  {
   "cell_type": "code",
   "execution_count": 13,
   "metadata": {
    "collapsed": true
   },
   "outputs": [],
   "source": [
    "marginal_effects = pd.DataFrame()"
   ]
  },
  {
   "cell_type": "markdown",
   "metadata": {},
   "source": [
    "### Analytically (using the derivative formula)\n",
    "Recall that:\n",
    "$$EM(x_1) = \\frac{\\partial{\\mathbb{E}[y|x]}}{\\partial{x_1}} = \\beta_1 \\Phi'(\\beta_0 + \\beta_1 x_1 + ... ) = \\beta_1 \\phi(\\beta_0 + \\beta_1 x_1 + ... )$$\n",
    "where\n",
    "$$\\Phi(x^T\\beta) = P(y=1|x) = \\mathbb{E}[y|x]$$\n",
    "is the *cumulative distribution function* and\n",
    "$$\\Phi'(x) = \\phi(x) = \\frac{1}{\\sqrt{2\\pi}}\\, e^{-\\frac{x^2}{2}}$$\n",
    "the *probability density function* of a **standard** normal distribution ($\\mu = 0, \\sigma = 1$)\n",
    "\n",
    "**Note**: for each parameter, we calculate the *mean* marginal effect over the entire training dataset"
   ]
  },
  {
   "cell_type": "code",
   "execution_count": 14,
   "metadata": {
    "collapsed": false
   },
   "outputs": [],
   "source": [
    "def phi(x):\n",
    "    return 1/math.sqrt(2*math.pi) * math.exp(-x**2/2)"
   ]
  },
  {
   "cell_type": "code",
   "execution_count": 15,
   "metadata": {
    "collapsed": false
   },
   "outputs": [],
   "source": [
    "y_fitted = X[\"t1\"].dot(coeffs[\"sm\"][:-1])\n",
    "y_fitted += coeffs[\"sm\"][\"const\"]\n",
    "dlambda_y = y_fitted.map(phi)"
   ]
  },
  {
   "cell_type": "code",
   "execution_count": 16,
   "metadata": {
    "collapsed": true
   },
   "outputs": [],
   "source": [
    "marginal_effects[\"analytical\"] = coeffs[\"sm\"]*dlambda_y.mean()"
   ]
  },
  {
   "cell_type": "markdown",
   "metadata": {},
   "source": [
    "### By \"rule-of-thumb\"\n",
    "Note (from above) that:\n",
    "$$EM(x_1) = \\beta_1 \\phi(\\beta_0 + \\beta_1 x_1 + ... )$$\n",
    "and \n",
    "$$\\max \\phi(x) = \\phi(0) = \\frac{1}{\\sqrt{2\\pi}} \\approx \\frac{1}{2.5}$$\n",
    "Therefore, we have that:\n",
    "$$EM(x_1) \\approx \\frac{\\beta_1}{2.5}$$\n",
    "\n",
    "The \"rule-of-thumb\" thus divides all regression coefficients by 2.5 to approximate the marginal effect."
   ]
  },
  {
   "cell_type": "code",
   "execution_count": 17,
   "metadata": {
    "collapsed": true
   },
   "outputs": [],
   "source": [
    "marginal_effects[\"rule_of_thumb\"] = coeffs[\"sm\"]/2.5"
   ]
  },
  {
   "cell_type": "markdown",
   "metadata": {},
   "source": [
    "### By modifying the dataset (\"passage de tout le monde en licence\")"
   ]
  },
  {
   "cell_type": "code",
   "execution_count": 18,
   "metadata": {
    "collapsed": false
   },
   "outputs": [],
   "source": [
    "brute_force = pd.Series()\n",
    "for category in filters:\n",
    "    for pivot in params[category]:\n",
    "        non_pivots = [x for x in params[category] if x != pivot]\n",
    "        \n",
    "        X_one = X[\"t1\"].copy() \n",
    "        X_one[non_pivots] = 0\n",
    "        X_one[pivot] = 1\n",
    "\n",
    "#         proba_one = reg_logit_sk.predict_proba(X_one).T[1].mean()\n",
    "#         proba_t1 = reg_logit_sk.predict_proba(X[\"t1\"]).T[1].mean()\n",
    "        proba_one = reg_logit_sm.predict(sm.add_constant(X_one, has_constant=\"add\")).mean()\n",
    "        proba_t1 = reg_logit_sm.predict(sm.add_constant(X[\"t1\"])).mean()\n",
    "        brute_force[pivot] = proba_one - proba_t1"
   ]
  },
  {
   "cell_type": "code",
   "execution_count": 19,
   "metadata": {
    "collapsed": false
   },
   "outputs": [
    {
     "data": {
      "text/html": [
       "<div>\n",
       "<table border=\"1\" class=\"dataframe\">\n",
       "  <thead>\n",
       "    <tr style=\"text-align: right;\">\n",
       "      <th></th>\n",
       "      <th>etranger_</th>\n",
       "      <th>age15_</th>\n",
       "      <th>age30_</th>\n",
       "      <th>age40_</th>\n",
       "      <th>dip10_</th>\n",
       "      <th>dip11_</th>\n",
       "      <th>dip30_</th>\n",
       "      <th>dip31_</th>\n",
       "      <th>dip33_</th>\n",
       "      <th>dip41_</th>\n",
       "      <th>dip42_</th>\n",
       "      <th>dip50_</th>\n",
       "      <th>dip60_</th>\n",
       "      <th>dip70_</th>\n",
       "      <th>female_</th>\n",
       "      <th>enfants_</th>\n",
       "      <th>region1_</th>\n",
       "      <th>region2_</th>\n",
       "      <th>domtom_</th>\n",
       "      <th>const</th>\n",
       "    </tr>\n",
       "  </thead>\n",
       "  <tbody>\n",
       "    <tr>\n",
       "      <th>analytical</th>\n",
       "      <td>0.1169</td>\n",
       "      <td>0.2693</td>\n",
       "      <td>0.0476</td>\n",
       "      <td>-0.0139</td>\n",
       "      <td>-0.3158</td>\n",
       "      <td>-0.3788</td>\n",
       "      <td>-0.1808</td>\n",
       "      <td>-0.2989</td>\n",
       "      <td>-0.3455</td>\n",
       "      <td>-0.0870</td>\n",
       "      <td>-0.2353</td>\n",
       "      <td>-0.1648</td>\n",
       "      <td>0.0327</td>\n",
       "      <td>-0.0335</td>\n",
       "      <td>0.0868</td>\n",
       "      <td>-0.0759</td>\n",
       "      <td>0.0336</td>\n",
       "      <td>0.0438</td>\n",
       "      <td>0.1012</td>\n",
       "      <td>-0.1163</td>\n",
       "    </tr>\n",
       "    <tr>\n",
       "      <th>rule_of_thumb</th>\n",
       "      <td>0.1642</td>\n",
       "      <td>0.3782</td>\n",
       "      <td>0.0668</td>\n",
       "      <td>-0.0195</td>\n",
       "      <td>-0.4436</td>\n",
       "      <td>-0.5321</td>\n",
       "      <td>-0.2539</td>\n",
       "      <td>-0.4198</td>\n",
       "      <td>-0.4852</td>\n",
       "      <td>-0.1221</td>\n",
       "      <td>-0.3305</td>\n",
       "      <td>-0.2314</td>\n",
       "      <td>0.0459</td>\n",
       "      <td>-0.0471</td>\n",
       "      <td>0.1220</td>\n",
       "      <td>-0.1066</td>\n",
       "      <td>0.0472</td>\n",
       "      <td>0.0615</td>\n",
       "      <td>0.1421</td>\n",
       "      <td>-0.1634</td>\n",
       "    </tr>\n",
       "    <tr>\n",
       "      <th>brute_force</th>\n",
       "      <td>0.1141</td>\n",
       "      <td>0.2080</td>\n",
       "      <td>-0.0517</td>\n",
       "      <td>-0.1133</td>\n",
       "      <td>-0.1650</td>\n",
       "      <td>-0.2120</td>\n",
       "      <td>-0.0360</td>\n",
       "      <td>-0.1509</td>\n",
       "      <td>-0.1882</td>\n",
       "      <td>0.0715</td>\n",
       "      <td>-0.0924</td>\n",
       "      <td>-0.0185</td>\n",
       "      <td>0.2174</td>\n",
       "      <td>0.1364</td>\n",
       "      <td>0.0421</td>\n",
       "      <td>-0.0435</td>\n",
       "      <td>0.0022</td>\n",
       "      <td>0.0125</td>\n",
       "      <td>0.0929</td>\n",
       "      <td>nan</td>\n",
       "    </tr>\n",
       "  </tbody>\n",
       "</table>\n",
       "</div>"
      ],
      "text/plain": [
       "               etranger_  age15_  age30_  age40_  dip10_  dip11_  dip30_  \\\n",
       "analytical    0.1169     0.2693  0.0476  -0.0139 -0.3158 -0.3788 -0.1808   \n",
       "rule_of_thumb 0.1642     0.3782  0.0668  -0.0195 -0.4436 -0.5321 -0.2539   \n",
       "brute_force   0.1141     0.2080  -0.0517 -0.1133 -0.1650 -0.2120 -0.0360   \n",
       "\n",
       "               dip31_  dip33_  dip41_  dip42_  dip50_  dip60_  dip70_  \\\n",
       "analytical    -0.2989 -0.3455 -0.0870 -0.2353 -0.1648 0.0327  -0.0335   \n",
       "rule_of_thumb -0.4198 -0.4852 -0.1221 -0.3305 -0.2314 0.0459  -0.0471   \n",
       "brute_force   -0.1509 -0.1882 0.0715  -0.0924 -0.0185 0.2174  0.1364    \n",
       "\n",
       "               female_  enfants_  region1_  region2_  domtom_   const  \n",
       "analytical    0.0868   -0.0759   0.0336    0.0438    0.1012   -0.1163  \n",
       "rule_of_thumb 0.1220   -0.1066   0.0472    0.0615    0.1421   -0.1634  \n",
       "brute_force   0.0421   -0.0435   0.0022    0.0125    0.0929   nan      "
      ]
     },
     "execution_count": 19,
     "metadata": {},
     "output_type": "execute_result"
    }
   ],
   "source": [
    "marginal_effects[\"brute_force\"] = brute_force\n",
    "marginal_effects.transpose()"
   ]
  },
  {
   "cell_type": "code",
   "execution_count": 20,
   "metadata": {
    "collapsed": false
   },
   "outputs": [
    {
     "data": {
      "text/html": [
       "<div>\n",
       "<table border=\"1\" class=\"dataframe\">\n",
       "  <thead>\n",
       "    <tr style=\"text-align: right;\">\n",
       "      <th></th>\n",
       "      <th>etranger_</th>\n",
       "      <th>age15_</th>\n",
       "      <th>age30_</th>\n",
       "      <th>age40_</th>\n",
       "      <th>dip10_</th>\n",
       "      <th>dip11_</th>\n",
       "      <th>dip30_</th>\n",
       "      <th>dip31_</th>\n",
       "      <th>dip33_</th>\n",
       "      <th>dip41_</th>\n",
       "      <th>dip42_</th>\n",
       "      <th>dip50_</th>\n",
       "      <th>dip60_</th>\n",
       "      <th>dip70_</th>\n",
       "      <th>female_</th>\n",
       "      <th>enfants_</th>\n",
       "      <th>region1_</th>\n",
       "      <th>region2_</th>\n",
       "      <th>domtom_</th>\n",
       "      <th>const</th>\n",
       "    </tr>\n",
       "  </thead>\n",
       "  <tbody>\n",
       "    <tr>\n",
       "      <th>analytical</th>\n",
       "      <td>1.0000</td>\n",
       "      <td>1.0000</td>\n",
       "      <td>1.0000</td>\n",
       "      <td>1.0000</td>\n",
       "      <td>1.0000</td>\n",
       "      <td>1.0000</td>\n",
       "      <td>1.0000</td>\n",
       "      <td>1.0000</td>\n",
       "      <td>1.0000</td>\n",
       "      <td>1.0000</td>\n",
       "      <td>1.0000</td>\n",
       "      <td>1.0000</td>\n",
       "      <td>1.0000</td>\n",
       "      <td>1.0000</td>\n",
       "      <td>1.0000</td>\n",
       "      <td>1.0000</td>\n",
       "      <td>1.0000</td>\n",
       "      <td>1.0000</td>\n",
       "      <td>1.0000</td>\n",
       "      <td>1.0000</td>\n",
       "    </tr>\n",
       "    <tr>\n",
       "      <th>rule_of_thumb</th>\n",
       "      <td>1.4046</td>\n",
       "      <td>1.4046</td>\n",
       "      <td>1.4046</td>\n",
       "      <td>1.4046</td>\n",
       "      <td>1.4046</td>\n",
       "      <td>1.4046</td>\n",
       "      <td>1.4046</td>\n",
       "      <td>1.4046</td>\n",
       "      <td>1.4046</td>\n",
       "      <td>1.4046</td>\n",
       "      <td>1.4046</td>\n",
       "      <td>1.4046</td>\n",
       "      <td>1.4046</td>\n",
       "      <td>1.4046</td>\n",
       "      <td>1.4046</td>\n",
       "      <td>1.4046</td>\n",
       "      <td>1.4046</td>\n",
       "      <td>1.4046</td>\n",
       "      <td>1.4046</td>\n",
       "      <td>1.4046</td>\n",
       "    </tr>\n",
       "    <tr>\n",
       "      <th>brute_force</th>\n",
       "      <td>0.9760</td>\n",
       "      <td>0.7724</td>\n",
       "      <td>-1.0862</td>\n",
       "      <td>8.1489</td>\n",
       "      <td>0.5225</td>\n",
       "      <td>0.5597</td>\n",
       "      <td>0.1992</td>\n",
       "      <td>0.5049</td>\n",
       "      <td>0.5449</td>\n",
       "      <td>-0.8226</td>\n",
       "      <td>0.3927</td>\n",
       "      <td>0.1122</td>\n",
       "      <td>6.6504</td>\n",
       "      <td>-4.0648</td>\n",
       "      <td>0.4854</td>\n",
       "      <td>0.5728</td>\n",
       "      <td>0.0654</td>\n",
       "      <td>0.2847</td>\n",
       "      <td>0.9185</td>\n",
       "      <td>nan</td>\n",
       "    </tr>\n",
       "  </tbody>\n",
       "</table>\n",
       "</div>"
      ],
      "text/plain": [
       "               etranger_  age15_  age30_  age40_  dip10_  dip11_  dip30_  \\\n",
       "analytical    1.0000     1.0000  1.0000  1.0000  1.0000  1.0000  1.0000    \n",
       "rule_of_thumb 1.4046     1.4046  1.4046  1.4046  1.4046  1.4046  1.4046    \n",
       "brute_force   0.9760     0.7724  -1.0862 8.1489  0.5225  0.5597  0.1992    \n",
       "\n",
       "               dip31_  dip33_  dip41_  dip42_  dip50_  dip60_  dip70_  \\\n",
       "analytical    1.0000  1.0000  1.0000  1.0000  1.0000  1.0000  1.0000    \n",
       "rule_of_thumb 1.4046  1.4046  1.4046  1.4046  1.4046  1.4046  1.4046    \n",
       "brute_force   0.5049  0.5449  -0.8226 0.3927  0.1122  6.6504  -4.0648   \n",
       "\n",
       "               female_  enfants_  region1_  region2_  domtom_  const  \n",
       "analytical    1.0000   1.0000    1.0000    1.0000    1.0000   1.0000  \n",
       "rule_of_thumb 1.4046   1.4046    1.4046    1.4046    1.4046   1.4046  \n",
       "brute_force   0.4854   0.5728    0.0654    0.2847    0.9185   nan     "
      ]
     },
     "execution_count": 20,
     "metadata": {},
     "output_type": "execute_result"
    }
   ],
   "source": [
    "ratios = marginal_effects.copy()\n",
    "ratios = ratios.div(ratios[\"analytical\"], axis=0)\n",
    "ratios.transpose()"
   ]
  }
 ],
 "metadata": {
  "kernelspec": {
   "display_name": "Python 2",
   "language": "python",
   "name": "python2"
  },
  "language_info": {
   "codemirror_mode": {
    "name": "ipython",
    "version": 2
   },
   "file_extension": ".py",
   "mimetype": "text/x-python",
   "name": "python",
   "nbconvert_exporter": "python",
   "pygments_lexer": "ipython2",
   "version": "2.7.13"
  }
 },
 "nbformat": 4,
 "nbformat_minor": 1
}
