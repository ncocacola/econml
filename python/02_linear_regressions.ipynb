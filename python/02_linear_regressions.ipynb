{
 "cells": [
  {
   "cell_type": "markdown",
   "metadata": {},
   "source": [
    "# Linear Regressions"
   ]
  },
  {
   "cell_type": "markdown",
   "metadata": {},
   "source": [
    "## Experimental Setup"
   ]
  },
  {
   "cell_type": "markdown",
   "metadata": {},
   "source": [
    "### Libraries & Settings"
   ]
  },
  {
   "cell_type": "code",
   "execution_count": 1,
   "metadata": {
    "collapsed": true
   },
   "outputs": [],
   "source": [
    "import os              # General OS commands\n",
    "import numpy as np     # NumPy\n",
    "import pandas as pd    # Python Data Analysis Library\n",
    "import zipfile         # Compress/decompress ZIP files\n",
    "import sqlite3         # SQLite3 Database Driver\n",
    "import re              # Regular Expressions"
   ]
  },
  {
   "cell_type": "code",
   "execution_count": 2,
   "metadata": {
    "collapsed": true
   },
   "outputs": [],
   "source": [
    "import statsmodels.api as sm\n",
    "from sklearn import linear_model, metrics"
   ]
  },
  {
   "cell_type": "code",
   "execution_count": 3,
   "metadata": {
    "collapsed": true
   },
   "outputs": [],
   "source": [
    "# Never truncate columns, display all the data\n",
    "from IPython.display import display, HTML\n",
    "pd.set_option('display.max_colwidth', -1)\n",
    "\n",
    "# Display floating-point numbers with 4 decimals in `pandas.DataFrame`\n",
    "pd.options.display.float_format = '{:,.4f}'.format\n",
    "\n",
    "import matplotlib.pyplot as plt\n",
    "# Display MatPlotLib stuff inline\n",
    "%matplotlib inline\n",
    "\n",
    "# Temporary files to delete at the end of the experiment\n",
    "temp_files = []"
   ]
  },
  {
   "cell_type": "markdown",
   "metadata": {},
   "source": [
    "### Database"
   ]
  },
  {
   "cell_type": "code",
   "execution_count": 4,
   "metadata": {
    "collapsed": true
   },
   "outputs": [],
   "source": [
    "zip_filename = \"../data/ee-insee-2015_custom-sqlite.zip\"\n",
    "with zipfile.ZipFile(zip_filename) as zip_file:\n",
    "    zip_file.extractall(\"../data/\")\n",
    "\n",
    "eedb = zip_filename.replace(\"-sqlite.zip\", \".sqlite\")\n",
    "temp_files.append(eedb)"
   ]
  },
  {
   "cell_type": "code",
   "execution_count": 5,
   "metadata": {
    "collapsed": false
   },
   "outputs": [],
   "source": [
    "with sqlite3.connect(eedb) as con:\n",
    "    query = \"SELECT * FROM eec15_custom\"\n",
    "    eec15 = pd.read_sql_query(query, con)"
   ]
  },
  {
   "cell_type": "markdown",
   "metadata": {},
   "source": [
    "## Experiment"
   ]
  },
  {
   "cell_type": "code",
   "execution_count": 6,
   "metadata": {
    "collapsed": false
   },
   "outputs": [],
   "source": [
    "# Create a (\"female\" x \"enfant\") interaction variable\n",
    "bool_ = eec15[[\"enfants_\", \"female_\"]].astype(bool)\n",
    "eec15[\"female_enfants_\"] = (bool_.enfants_ & bool_.female_).astype(int)\n",
    "\n",
    "# Drop data we don't need\n",
    "eec15 = eec15[eec15.age60_ == 0]\n",
    "eec15 = eec15.drop(\"age60_\", 1)\n",
    "\n",
    "# TODO (not finished): Create (\"region\" x \"diplome\") interaction variables\n",
    "# parameters = [x for x in eec15.columns if (x.startswith(\"dip\") or x.startswith(\"region\")) and x.endswith(\"_\")]\n",
    "# bool_ = eec15[parameters].astype(bool)\n",
    "# bool_.head()\n",
    "\n",
    "# Merge region3 and region4 to make them significant\n",
    "# df[\"region3\"] = np.where(df[\"region4\"] == 1, 1, np.where(df[\"region3\"] == 1, 1, 0))"
   ]
  },
  {
   "cell_type": "code",
   "execution_count": 7,
   "metadata": {
    "collapsed": false
   },
   "outputs": [
    {
     "data": {
      "text/plain": [
       "<matplotlib.axes._subplots.AxesSubplot at 0x10b388d10>"
      ]
     },
     "execution_count": 7,
     "metadata": {},
     "output_type": "execute_result"
    },
    {
     "data": {
      "image/png": "[encoded data removed]",
      "text/plain": [
       "<matplotlib.figure.Figure at 0x10bb0fa90>"
      ]
     },
     "metadata": {},
     "output_type": "display_data"
    }
   ],
   "source": [
    "pd.crosstab(eec15.actop_, eec15.female_).plot(kind='bar', stacked=True)"
   ]
  },
  {
   "cell_type": "code",
   "execution_count": 8,
   "metadata": {
    "collapsed": false
   },
   "outputs": [
    {
     "name": "stdout",
     "output_type": "stream",
     "text": [
      "Probability of employment: 0.347426515966\n"
     ]
    }
   ],
   "source": [
    "print \"Probability of employment:\", eec15[\"actop_\"].mean()"
   ]
  },
  {
   "cell_type": "markdown",
   "metadata": {},
   "source": [
    "### Multiple Linear Regression"
   ]
  },
  {
   "cell_type": "code",
   "execution_count": 9,
   "metadata": {
    "collapsed": false
   },
   "outputs": [],
   "source": [
    "# Build a list of parameters to include in the model, using regex\n",
    "# https://www.datarobot.com/blog/multiple-regression-using-statsmodels/\n",
    "params = {\n",
    "    \"age\": \"^age[0-9]{2}_$\",\n",
    "    \"diploma\": \"^dip[0-9]{2}_$\",\n",
    "    \"etranger\": \"^etranger_$\",\n",
    "    \"domtom\": \"^domtom_$\",\n",
    "#     \"trim\": \"^trim$\",\n",
    "    \"female\": \"^female_$\",\n",
    "    \"enfants\": \"^enfants_$\",\n",
    "#     \"female_enfants\": \"^female_enfants_$\",\n",
    "    \"region\": \"^region[1-2]_$\"\n",
    "}\n",
    "params = {k: sorted([x for x in eec15.columns if re.match(r, x)]) for (k, r) in params.items()}\n",
    "\n",
    "# Avoid the dummy variable trap\n",
    "params = {k: (v if len(v) == 1 else v[:-1]) for (k, v) in params.items()}\n",
    "\n",
    "# Convert to a list\n",
    "params = sum(params.values(), [])\n",
    "params += [\"region2_\"]"
   ]
  },
  {
   "cell_type": "markdown",
   "metadata": {},
   "source": [
    "#### Train the model using `trim=1` data"
   ]
  },
  {
   "cell_type": "code",
   "execution_count": 10,
   "metadata": {
    "collapsed": false
   },
   "outputs": [],
   "source": [
    "eec15_t1 = eec15[eec15.trim == 1]\n",
    "X_t1 = eec15_t1[params]\n",
    "y_t1 = eec15_t1[\"actop_\"]"
   ]
  },
  {
   "cell_type": "code",
   "execution_count": 11,
   "metadata": {
    "collapsed": false
   },
   "outputs": [
    {
     "name": "stderr",
     "output_type": "stream",
     "text": [
      "/Users/nicolaskhadivi/Dropbox/Git/econml/venv/lib/python2.7/site-packages/scipy/linalg/basic.py:884: RuntimeWarning: internal gelsd driver lwork query error, required iwork dimension not returned. This is likely the result of LAPACK bug 0038, fixed in LAPACK 3.2.2 (released July 21, 2010). Falling back to 'gelss' driver.\n",
      "  warnings.warn(mesg, RuntimeWarning)\n"
     ]
    },
    {
     "data": {
      "text/html": [
       "<table class=\"simpletable\">\n",
       "<caption>OLS Regression Results</caption>\n",
       "<tr>\n",
       "  <th>Dep. Variable:</th>         <td>actop_</td>      <th>  R-squared:         </th> <td>   0.268</td> \n",
       "</tr>\n",
       "<tr>\n",
       "  <th>Model:</th>                   <td>OLS</td>       <th>  Adj. R-squared:    </th> <td>   0.267</td> \n",
       "</tr>\n",
       "<tr>\n",
       "  <th>Method:</th>             <td>Least Squares</td>  <th>  F-statistic:       </th> <td>   1400.</td> \n",
       "</tr>\n",
       "<tr>\n",
       "  <th>Date:</th>             <td>Sat, 04 Feb 2017</td> <th>  Prob (F-statistic):</th>  <td>  0.00</td>  \n",
       "</tr>\n",
       "<tr>\n",
       "  <th>Time:</th>                 <td>12:31:08</td>     <th>  Log-Likelihood:    </th> <td> -38183.</td> \n",
       "</tr>\n",
       "<tr>\n",
       "  <th>No. Observations:</th>      <td> 72838</td>      <th>  AIC:               </th> <td>7.641e+04</td>\n",
       "</tr>\n",
       "<tr>\n",
       "  <th>Df Residuals:</th>          <td> 72818</td>      <th>  BIC:               </th> <td>7.659e+04</td>\n",
       "</tr>\n",
       "<tr>\n",
       "  <th>Df Model:</th>              <td>    19</td>      <th>                     </th>     <td> </td>    \n",
       "</tr>\n",
       "<tr>\n",
       "  <th>Covariance Type:</th>      <td>nonrobust</td>    <th>                     </th>     <td> </td>    \n",
       "</tr>\n",
       "</table>\n",
       "<table class=\"simpletable\">\n",
       "<tr>\n",
       "      <td></td>         <th>coef</th>     <th>std err</th>      <th>t</th>      <th>P>|t|</th> <th>[95.0% Conf. Int.]</th> \n",
       "</tr>\n",
       "<tr>\n",
       "  <th>const</th>     <td>    0.3677</td> <td>    0.007</td> <td>   52.357</td> <td> 0.000</td> <td>    0.354     0.381</td>\n",
       "</tr>\n",
       "<tr>\n",
       "  <th>etranger_</th> <td>    0.1289</td> <td>    0.006</td> <td>   20.711</td> <td> 0.000</td> <td>    0.117     0.141</td>\n",
       "</tr>\n",
       "<tr>\n",
       "  <th>age15_</th>    <td>    0.3206</td> <td>    0.004</td> <td>   72.382</td> <td> 0.000</td> <td>    0.312     0.329</td>\n",
       "</tr>\n",
       "<tr>\n",
       "  <th>age30_</th>    <td>    0.0495</td> <td>    0.005</td> <td>   10.438</td> <td> 0.000</td> <td>    0.040     0.059</td>\n",
       "</tr>\n",
       "<tr>\n",
       "  <th>age40_</th>    <td>   -0.0073</td> <td>    0.004</td> <td>   -1.634</td> <td> 0.102</td> <td>   -0.016     0.001</td>\n",
       "</tr>\n",
       "<tr>\n",
       "  <th>dip10_</th>    <td>   -0.3453</td> <td>    0.006</td> <td>  -58.146</td> <td> 0.000</td> <td>   -0.357    -0.334</td>\n",
       "</tr>\n",
       "<tr>\n",
       "  <th>dip11_</th>    <td>   -0.3799</td> <td>    0.009</td> <td>  -41.620</td> <td> 0.000</td> <td>   -0.398    -0.362</td>\n",
       "</tr>\n",
       "<tr>\n",
       "  <th>dip30_</th>    <td>   -0.2223</td> <td>    0.016</td> <td>  -13.832</td> <td> 0.000</td> <td>   -0.254    -0.191</td>\n",
       "</tr>\n",
       "<tr>\n",
       "  <th>dip31_</th>    <td>   -0.3302</td> <td>    0.007</td> <td>  -50.711</td> <td> 0.000</td> <td>   -0.343    -0.317</td>\n",
       "</tr>\n",
       "<tr>\n",
       "  <th>dip33_</th>    <td>   -0.3673</td> <td>    0.011</td> <td>  -34.146</td> <td> 0.000</td> <td>   -0.388    -0.346</td>\n",
       "</tr>\n",
       "<tr>\n",
       "  <th>dip41_</th>    <td>   -0.0953</td> <td>    0.007</td> <td>  -13.720</td> <td> 0.000</td> <td>   -0.109    -0.082</td>\n",
       "</tr>\n",
       "<tr>\n",
       "  <th>dip42_</th>    <td>   -0.2746</td> <td>    0.006</td> <td>  -46.937</td> <td> 0.000</td> <td>   -0.286    -0.263</td>\n",
       "</tr>\n",
       "<tr>\n",
       "  <th>dip50_</th>    <td>   -0.2058</td> <td>    0.005</td> <td>  -40.387</td> <td> 0.000</td> <td>   -0.216    -0.196</td>\n",
       "</tr>\n",
       "<tr>\n",
       "  <th>dip60_</th>    <td>    0.0370</td> <td>    0.006</td> <td>    5.957</td> <td> 0.000</td> <td>    0.025     0.049</td>\n",
       "</tr>\n",
       "<tr>\n",
       "  <th>dip70_</th>    <td>   -0.0465</td> <td>    0.013</td> <td>   -3.512</td> <td> 0.000</td> <td>   -0.072    -0.021</td>\n",
       "</tr>\n",
       "<tr>\n",
       "  <th>female_</th>   <td>    0.0841</td> <td>    0.003</td> <td>   27.211</td> <td> 0.000</td> <td>    0.078     0.090</td>\n",
       "</tr>\n",
       "<tr>\n",
       "  <th>enfants_</th>  <td>   -0.0717</td> <td>    0.004</td> <td>  -20.034</td> <td> 0.000</td> <td>   -0.079    -0.065</td>\n",
       "</tr>\n",
       "<tr>\n",
       "  <th>region1_</th>  <td>    0.0348</td> <td>    0.005</td> <td>    6.500</td> <td> 0.000</td> <td>    0.024     0.045</td>\n",
       "</tr>\n",
       "<tr>\n",
       "  <th>domtom_</th>   <td>    0.1124</td> <td>    0.005</td> <td>   23.147</td> <td> 0.000</td> <td>    0.103     0.122</td>\n",
       "</tr>\n",
       "<tr>\n",
       "  <th>region2_</th>  <td>    0.0448</td> <td>    0.008</td> <td>    5.956</td> <td> 0.000</td> <td>    0.030     0.060</td>\n",
       "</tr>\n",
       "</table>\n",
       "<table class=\"simpletable\">\n",
       "<tr>\n",
       "  <th>Omnibus:</th>       <td>4664.504</td> <th>  Durbin-Watson:     </th> <td>   1.880</td>\n",
       "</tr>\n",
       "<tr>\n",
       "  <th>Prob(Omnibus):</th>  <td> 0.000</td>  <th>  Jarque-Bera (JB):  </th> <td>4251.511</td>\n",
       "</tr>\n",
       "<tr>\n",
       "  <th>Skew:</th>           <td> 0.529</td>  <th>  Prob(JB):          </th> <td>    0.00</td>\n",
       "</tr>\n",
       "<tr>\n",
       "  <th>Kurtosis:</th>       <td> 2.468</td>  <th>  Cond. No.          </th> <td>    18.3</td>\n",
       "</tr>\n",
       "</table>"
      ],
      "text/plain": [
       "<class 'statsmodels.iolib.summary.Summary'>\n",
       "\"\"\"\n",
       "                            OLS Regression Results                            \n",
       "==============================================================================\n",
       "Dep. Variable:                 actop_   R-squared:                       0.268\n",
       "Model:                            OLS   Adj. R-squared:                  0.267\n",
       "Method:                 Least Squares   F-statistic:                     1400.\n",
       "Date:                Sat, 04 Feb 2017   Prob (F-statistic):               0.00\n",
       "Time:                        12:31:08   Log-Likelihood:                -38183.\n",
       "No. Observations:               72838   AIC:                         7.641e+04\n",
       "Df Residuals:                   72818   BIC:                         7.659e+04\n",
       "Df Model:                          19                                         \n",
       "Covariance Type:            nonrobust                                         \n",
       "==============================================================================\n",
       "                 coef    std err          t      P>|t|      [95.0% Conf. Int.]\n",
       "------------------------------------------------------------------------------\n",
       "const          0.3677      0.007     52.357      0.000         0.354     0.381\n",
       "etranger_      0.1289      0.006     20.711      0.000         0.117     0.141\n",
       "age15_         0.3206      0.004     72.382      0.000         0.312     0.329\n",
       "age30_         0.0495      0.005     10.438      0.000         0.040     0.059\n",
       "age40_        -0.0073      0.004     -1.634      0.102        -0.016     0.001\n",
       "dip10_        -0.3453      0.006    -58.146      0.000        -0.357    -0.334\n",
       "dip11_        -0.3799      0.009    -41.620      0.000        -0.398    -0.362\n",
       "dip30_        -0.2223      0.016    -13.832      0.000        -0.254    -0.191\n",
       "dip31_        -0.3302      0.007    -50.711      0.000        -0.343    -0.317\n",
       "dip33_        -0.3673      0.011    -34.146      0.000        -0.388    -0.346\n",
       "dip41_        -0.0953      0.007    -13.720      0.000        -0.109    -0.082\n",
       "dip42_        -0.2746      0.006    -46.937      0.000        -0.286    -0.263\n",
       "dip50_        -0.2058      0.005    -40.387      0.000        -0.216    -0.196\n",
       "dip60_         0.0370      0.006      5.957      0.000         0.025     0.049\n",
       "dip70_        -0.0465      0.013     -3.512      0.000        -0.072    -0.021\n",
       "female_        0.0841      0.003     27.211      0.000         0.078     0.090\n",
       "enfants_      -0.0717      0.004    -20.034      0.000        -0.079    -0.065\n",
       "region1_       0.0348      0.005      6.500      0.000         0.024     0.045\n",
       "domtom_        0.1124      0.005     23.147      0.000         0.103     0.122\n",
       "region2_       0.0448      0.008      5.956      0.000         0.030     0.060\n",
       "==============================================================================\n",
       "Omnibus:                     4664.504   Durbin-Watson:                   1.880\n",
       "Prob(Omnibus):                  0.000   Jarque-Bera (JB):             4251.511\n",
       "Skew:                           0.529   Prob(JB):                         0.00\n",
       "Kurtosis:                       2.468   Cond. No.                         18.3\n",
       "==============================================================================\n",
       "\n",
       "Warnings:\n",
       "[1] Standard Errors assume that the covariance matrix of the errors is correctly specified.\n",
       "\"\"\""
      ]
     },
     "execution_count": 11,
     "metadata": {},
     "output_type": "execute_result"
    }
   ],
   "source": [
    "# Fit using `sklearn` (`fit_intercept`: whether to calculate the constant or not)\n",
    "reg_ols_sk = linear_model.LinearRegression(fit_intercept=True).fit(X_t1, y_t1)\n",
    "\n",
    "# Fit using `statsmodels`\n",
    "reg_ols_sm = sm.OLS(y_t1, sm.add_constant(X_t1)).fit(disp=False)\n",
    "\n",
    "# Print the (`statsmodels`) model summary\n",
    "reg_ols_sm.summary()"
   ]
  },
  {
   "cell_type": "code",
   "execution_count": 12,
   "metadata": {
    "collapsed": false
   },
   "outputs": [
    {
     "data": {
      "text/html": [
       "<div>\n",
       "<table border=\"1\" class=\"dataframe\">\n",
       "  <thead>\n",
       "    <tr style=\"text-align: right;\">\n",
       "      <th></th>\n",
       "      <th>age15_</th>\n",
       "      <th>age30_</th>\n",
       "      <th>age40_</th>\n",
       "      <th>const</th>\n",
       "      <th>dip10_</th>\n",
       "      <th>dip11_</th>\n",
       "      <th>dip30_</th>\n",
       "      <th>dip31_</th>\n",
       "      <th>dip33_</th>\n",
       "      <th>dip41_</th>\n",
       "      <th>dip42_</th>\n",
       "      <th>dip50_</th>\n",
       "      <th>dip60_</th>\n",
       "      <th>dip70_</th>\n",
       "      <th>domtom_</th>\n",
       "      <th>enfants_</th>\n",
       "      <th>etranger_</th>\n",
       "      <th>female_</th>\n",
       "      <th>region1_</th>\n",
       "      <th>region2_</th>\n",
       "    </tr>\n",
       "  </thead>\n",
       "  <tbody>\n",
       "    <tr>\n",
       "      <th>sm</th>\n",
       "      <td>0.3206</td>\n",
       "      <td>0.0495</td>\n",
       "      <td>-0.0073</td>\n",
       "      <td>0.3677</td>\n",
       "      <td>-0.3453</td>\n",
       "      <td>-0.3799</td>\n",
       "      <td>-0.2223</td>\n",
       "      <td>-0.3302</td>\n",
       "      <td>-0.3673</td>\n",
       "      <td>-0.0953</td>\n",
       "      <td>-0.2746</td>\n",
       "      <td>-0.2058</td>\n",
       "      <td>0.0370</td>\n",
       "      <td>-0.0465</td>\n",
       "      <td>0.1124</td>\n",
       "      <td>-0.0717</td>\n",
       "      <td>0.1289</td>\n",
       "      <td>0.0841</td>\n",
       "      <td>0.0348</td>\n",
       "      <td>0.0448</td>\n",
       "    </tr>\n",
       "    <tr>\n",
       "      <th>sk</th>\n",
       "      <td>0.3206</td>\n",
       "      <td>0.0495</td>\n",
       "      <td>-0.0073</td>\n",
       "      <td>0.3677</td>\n",
       "      <td>-0.3453</td>\n",
       "      <td>-0.3799</td>\n",
       "      <td>-0.2223</td>\n",
       "      <td>-0.3302</td>\n",
       "      <td>-0.3673</td>\n",
       "      <td>-0.0953</td>\n",
       "      <td>-0.2746</td>\n",
       "      <td>-0.2058</td>\n",
       "      <td>0.0370</td>\n",
       "      <td>-0.0465</td>\n",
       "      <td>0.1124</td>\n",
       "      <td>-0.0717</td>\n",
       "      <td>0.1289</td>\n",
       "      <td>0.0841</td>\n",
       "      <td>0.0348</td>\n",
       "      <td>0.0448</td>\n",
       "    </tr>\n",
       "    <tr>\n",
       "      <th>diff</th>\n",
       "      <td>0.0000</td>\n",
       "      <td>0.0000</td>\n",
       "      <td>0.0000</td>\n",
       "      <td>-0.0000</td>\n",
       "      <td>-0.0000</td>\n",
       "      <td>-0.0000</td>\n",
       "      <td>-0.0000</td>\n",
       "      <td>-0.0000</td>\n",
       "      <td>0.0000</td>\n",
       "      <td>-0.0000</td>\n",
       "      <td>-0.0000</td>\n",
       "      <td>-0.0000</td>\n",
       "      <td>0.0000</td>\n",
       "      <td>0.0000</td>\n",
       "      <td>0.0000</td>\n",
       "      <td>-0.0000</td>\n",
       "      <td>-0.0000</td>\n",
       "      <td>0.0000</td>\n",
       "      <td>0.0000</td>\n",
       "      <td>0.0000</td>\n",
       "    </tr>\n",
       "  </tbody>\n",
       "</table>\n",
       "</div>"
      ],
      "text/plain": [
       "      age15_  age30_  age40_   const  dip10_  dip11_  dip30_  dip31_  dip33_  \\\n",
       "sm   0.3206  0.0495  -0.0073 0.3677  -0.3453 -0.3799 -0.2223 -0.3302 -0.3673   \n",
       "sk   0.3206  0.0495  -0.0073 0.3677  -0.3453 -0.3799 -0.2223 -0.3302 -0.3673   \n",
       "diff 0.0000  0.0000  0.0000  -0.0000 -0.0000 -0.0000 -0.0000 -0.0000 0.0000    \n",
       "\n",
       "      dip41_  dip42_  dip50_  dip60_  dip70_  domtom_  enfants_  etranger_  \\\n",
       "sm   -0.0953 -0.2746 -0.2058 0.0370  -0.0465 0.1124   -0.0717   0.1289       \n",
       "sk   -0.0953 -0.2746 -0.2058 0.0370  -0.0465 0.1124   -0.0717   0.1289       \n",
       "diff -0.0000 -0.0000 -0.0000 0.0000  0.0000  0.0000   -0.0000   -0.0000      \n",
       "\n",
       "      female_  region1_  region2_  \n",
       "sm   0.0841   0.0348    0.0448     \n",
       "sk   0.0841   0.0348    0.0448     \n",
       "diff 0.0000   0.0000    0.0000     "
      ]
     },
     "execution_count": 12,
     "metadata": {},
     "output_type": "execute_result"
    }
   ],
   "source": [
    "# Compare the coefficients from both fits (they should be the same)\n",
    "regressors = list(X_t1.columns) + [\"const\"]\n",
    "\n",
    "coeffs = pd.DataFrame(index=regressors)\n",
    "coeffs[\"sm\"] = reg_ols_sm.params\n",
    "coeffs[\"sk\"] = pd.Series(np.append(reg_ols_sk.coef_, reg_ols_sk.intercept_), index=regressors)\n",
    "coeffs[\"diff\"] = coeffs[\"sm\"] - coeffs[\"sk\"]\n",
    "\n",
    "coeffs.sort_index().transpose()"
   ]
  },
  {
   "cell_type": "code",
   "execution_count": 13,
   "metadata": {
    "collapsed": false
   },
   "outputs": [
    {
     "name": "stdout",
     "output_type": "stream",
     "text": [
      "Accuracy: 0.267547086265\n"
     ]
    }
   ],
   "source": [
    "# Check the accuracy of the model on the training set\n",
    "print \"Accuracy: {}\".format(reg_ols_sk.score(X_t1, y_t1))"
   ]
  },
  {
   "cell_type": "markdown",
   "metadata": {},
   "source": [
    "#### `trim=2`"
   ]
  },
  {
   "cell_type": "code",
   "execution_count": 13,
   "metadata": {
    "collapsed": false
   },
   "outputs": [],
   "source": [
    "eec15_t2 = eec15[eec15.trim == 2]\n",
    "X_t2 = eec15_t2[params]\n",
    "y_t2 = eec15_t2[\"actop_\"]"
   ]
  },
  {
   "cell_type": "code",
   "execution_count": 14,
   "metadata": {
    "collapsed": false
   },
   "outputs": [
    {
     "name": "stdout",
     "output_type": "stream",
     "text": [
      "0.768136816199\n"
     ]
    }
   ],
   "source": [
    "# Probabilité à partir de laquelle on considère qu'un individu est au chômage\n",
    "THRESHOLD = 0.5\n",
    "\n",
    "prediction = reg_ols.predict(X_t2)\n",
    "prediction = np.where(prediction < THRESHOLD, 0, 1)\n",
    "\n",
    "print metrics.accuracy_score(y_t2, prediction)"
   ]
  },
  {
   "cell_type": "code",
   "execution_count": 15,
   "metadata": {
    "collapsed": false
   },
   "outputs": [
    {
     "data": {
      "text/html": [
       "<table class=\"simpletable\">\n",
       "<caption>OLS Regression Results</caption>\n",
       "<tr>\n",
       "  <th>Dep. Variable:</th>         <td>actop_</td>      <th>  R-squared:         </th> <td>   0.506</td> \n",
       "</tr>\n",
       "<tr>\n",
       "  <th>Model:</th>                   <td>OLS</td>       <th>  Adj. R-squared:    </th> <td>   0.506</td> \n",
       "</tr>\n",
       "<tr>\n",
       "  <th>Method:</th>             <td>Least Squares</td>  <th>  F-statistic:       </th> <td>   3858.</td> \n",
       "</tr>\n",
       "<tr>\n",
       "  <th>Date:</th>             <td>Tue, 31 Jan 2017</td> <th>  Prob (F-statistic):</th>  <td>  0.00</td>  \n",
       "</tr>\n",
       "<tr>\n",
       "  <th>Time:</th>                 <td>22:22:49</td>     <th>  Log-Likelihood:    </th> <td> -38330.</td> \n",
       "</tr>\n",
       "<tr>\n",
       "  <th>No. Observations:</th>      <td> 71512</td>      <th>  AIC:               </th> <td>7.670e+04</td>\n",
       "</tr>\n",
       "<tr>\n",
       "  <th>Df Residuals:</th>          <td> 71493</td>      <th>  BIC:               </th> <td>7.687e+04</td>\n",
       "</tr>\n",
       "<tr>\n",
       "  <th>Df Model:</th>              <td>    19</td>      <th>                     </th>     <td> </td>    \n",
       "</tr>\n",
       "<tr>\n",
       "  <th>Covariance Type:</th>      <td>nonrobust</td>    <th>                     </th>     <td> </td>    \n",
       "</tr>\n",
       "</table>\n",
       "<table class=\"simpletable\">\n",
       "<tr>\n",
       "      <td></td>         <th>coef</th>     <th>std err</th>      <th>t</th>      <th>P>|t|</th> <th>[95.0% Conf. Int.]</th> \n",
       "</tr>\n",
       "<tr>\n",
       "  <th>etranger_</th> <td>    0.1565</td> <td>    0.006</td> <td>   24.635</td> <td> 0.000</td> <td>    0.144     0.169</td>\n",
       "</tr>\n",
       "<tr>\n",
       "  <th>age15_</th>    <td>    0.3942</td> <td>    0.004</td> <td>   92.113</td> <td> 0.000</td> <td>    0.386     0.403</td>\n",
       "</tr>\n",
       "<tr>\n",
       "  <th>age30_</th>    <td>    0.0966</td> <td>    0.005</td> <td>   20.385</td> <td> 0.000</td> <td>    0.087     0.106</td>\n",
       "</tr>\n",
       "<tr>\n",
       "  <th>age40_</th>    <td>    0.0469</td> <td>    0.004</td> <td>   10.610</td> <td> 0.000</td> <td>    0.038     0.056</td>\n",
       "</tr>\n",
       "<tr>\n",
       "  <th>dip10_</th>    <td>   -0.2563</td> <td>    0.006</td> <td>  -44.738</td> <td> 0.000</td> <td>   -0.268    -0.245</td>\n",
       "</tr>\n",
       "<tr>\n",
       "  <th>dip11_</th>    <td>   -0.2759</td> <td>    0.009</td> <td>  -30.288</td> <td> 0.000</td> <td>   -0.294    -0.258</td>\n",
       "</tr>\n",
       "<tr>\n",
       "  <th>dip30_</th>    <td>   -0.1124</td> <td>    0.016</td> <td>   -6.867</td> <td> 0.000</td> <td>   -0.144    -0.080</td>\n",
       "</tr>\n",
       "<tr>\n",
       "  <th>dip31_</th>    <td>   -0.2298</td> <td>    0.006</td> <td>  -36.405</td> <td> 0.000</td> <td>   -0.242    -0.217</td>\n",
       "</tr>\n",
       "<tr>\n",
       "  <th>dip33_</th>    <td>   -0.2665</td> <td>    0.011</td> <td>  -24.615</td> <td> 0.000</td> <td>   -0.288    -0.245</td>\n",
       "</tr>\n",
       "<tr>\n",
       "  <th>dip41_</th>    <td>   -0.0145</td> <td>    0.007</td> <td>   -2.120</td> <td> 0.034</td> <td>   -0.028    -0.001</td>\n",
       "</tr>\n",
       "<tr>\n",
       "  <th>dip42_</th>    <td>   -0.1737</td> <td>    0.006</td> <td>  -31.242</td> <td> 0.000</td> <td>   -0.185    -0.163</td>\n",
       "</tr>\n",
       "<tr>\n",
       "  <th>dip50_</th>    <td>   -0.0889</td> <td>    0.005</td> <td>  -19.525</td> <td> 0.000</td> <td>   -0.098    -0.080</td>\n",
       "</tr>\n",
       "<tr>\n",
       "  <th>dip60_</th>    <td>    0.1384</td> <td>    0.006</td> <td>   23.362</td> <td> 0.000</td> <td>    0.127     0.150</td>\n",
       "</tr>\n",
       "<tr>\n",
       "  <th>dip70_</th>    <td>    0.1008</td> <td>    0.013</td> <td>    7.542</td> <td> 0.000</td> <td>    0.075     0.127</td>\n",
       "</tr>\n",
       "<tr>\n",
       "  <th>female_</th>   <td>    0.1197</td> <td>    0.003</td> <td>   38.651</td> <td> 0.000</td> <td>    0.114     0.126</td>\n",
       "</tr>\n",
       "<tr>\n",
       "  <th>enfants_</th>  <td>   -0.0401</td> <td>    0.004</td> <td>  -11.146</td> <td> 0.000</td> <td>   -0.047    -0.033</td>\n",
       "</tr>\n",
       "<tr>\n",
       "  <th>region1_</th>  <td>    0.2265</td> <td>    0.004</td> <td>   56.034</td> <td> 0.000</td> <td>    0.219     0.234</td>\n",
       "</tr>\n",
       "<tr>\n",
       "  <th>domtom_</th>   <td>    0.1538</td> <td>    0.005</td> <td>   31.371</td> <td> 0.000</td> <td>    0.144     0.163</td>\n",
       "</tr>\n",
       "<tr>\n",
       "  <th>region2_</th>  <td>    0.2351</td> <td>    0.007</td> <td>   35.146</td> <td> 0.000</td> <td>    0.222     0.248</td>\n",
       "</tr>\n",
       "</table>\n",
       "<table class=\"simpletable\">\n",
       "<tr>\n",
       "  <th>Omnibus:</th>       <td>4068.871</td> <th>  Durbin-Watson:     </th> <td>   1.848</td>\n",
       "</tr>\n",
       "<tr>\n",
       "  <th>Prob(Omnibus):</th>  <td> 0.000</td>  <th>  Jarque-Bera (JB):  </th> <td>4185.571</td>\n",
       "</tr>\n",
       "<tr>\n",
       "  <th>Skew:</th>           <td> 0.554</td>  <th>  Prob(JB):          </th> <td>    0.00</td>\n",
       "</tr>\n",
       "<tr>\n",
       "  <th>Kurtosis:</th>       <td> 2.579</td>  <th>  Cond. No.          </th> <td>    14.1</td>\n",
       "</tr>\n",
       "</table>"
      ],
      "text/plain": [
       "<class 'statsmodels.iolib.summary.Summary'>\n",
       "\"\"\"\n",
       "                            OLS Regression Results                            \n",
       "==============================================================================\n",
       "Dep. Variable:                 actop_   R-squared:                       0.506\n",
       "Model:                            OLS   Adj. R-squared:                  0.506\n",
       "Method:                 Least Squares   F-statistic:                     3858.\n",
       "Date:                Tue, 31 Jan 2017   Prob (F-statistic):               0.00\n",
       "Time:                        22:22:49   Log-Likelihood:                -38330.\n",
       "No. Observations:               71512   AIC:                         7.670e+04\n",
       "Df Residuals:                   71493   BIC:                         7.687e+04\n",
       "Df Model:                          19                                         \n",
       "Covariance Type:            nonrobust                                         \n",
       "==============================================================================\n",
       "                 coef    std err          t      P>|t|      [95.0% Conf. Int.]\n",
       "------------------------------------------------------------------------------\n",
       "etranger_      0.1565      0.006     24.635      0.000         0.144     0.169\n",
       "age15_         0.3942      0.004     92.113      0.000         0.386     0.403\n",
       "age30_         0.0966      0.005     20.385      0.000         0.087     0.106\n",
       "age40_         0.0469      0.004     10.610      0.000         0.038     0.056\n",
       "dip10_        -0.2563      0.006    -44.738      0.000        -0.268    -0.245\n",
       "dip11_        -0.2759      0.009    -30.288      0.000        -0.294    -0.258\n",
       "dip30_        -0.1124      0.016     -6.867      0.000        -0.144    -0.080\n",
       "dip31_        -0.2298      0.006    -36.405      0.000        -0.242    -0.217\n",
       "dip33_        -0.2665      0.011    -24.615      0.000        -0.288    -0.245\n",
       "dip41_        -0.0145      0.007     -2.120      0.034        -0.028    -0.001\n",
       "dip42_        -0.1737      0.006    -31.242      0.000        -0.185    -0.163\n",
       "dip50_        -0.0889      0.005    -19.525      0.000        -0.098    -0.080\n",
       "dip60_         0.1384      0.006     23.362      0.000         0.127     0.150\n",
       "dip70_         0.1008      0.013      7.542      0.000         0.075     0.127\n",
       "female_        0.1197      0.003     38.651      0.000         0.114     0.126\n",
       "enfants_      -0.0401      0.004    -11.146      0.000        -0.047    -0.033\n",
       "region1_       0.2265      0.004     56.034      0.000         0.219     0.234\n",
       "domtom_        0.1538      0.005     31.371      0.000         0.144     0.163\n",
       "region2_       0.2351      0.007     35.146      0.000         0.222     0.248\n",
       "==============================================================================\n",
       "Omnibus:                     4068.871   Durbin-Watson:                   1.848\n",
       "Prob(Omnibus):                  0.000   Jarque-Bera (JB):             4185.571\n",
       "Skew:                           0.554   Prob(JB):                         0.00\n",
       "Kurtosis:                       2.579   Cond. No.                         14.1\n",
       "==============================================================================\n",
       "\n",
       "Warnings:\n",
       "[1] Standard Errors assume that the covariance matrix of the errors is correctly specified.\n",
       "\"\"\""
      ]
     },
     "execution_count": 15,
     "metadata": {},
     "output_type": "execute_result"
    }
   ],
   "source": [
    "# Using `statsmodel`\n",
    "X_t2_const = sm.add_constant(X_t2) ## X_ est X + une cst\n",
    "reg_ols_sm = sm.OLS(y_t2, X_t2)\n",
    "\n",
    "results = reg_ols_sm.fit()\n",
    "results.summary()"
   ]
  },
  {
   "cell_type": "markdown",
   "metadata": {},
   "source": [
    "## Cleanup\n",
    "\n",
    "Now that the experiments have concluded, we delete all the \"temporary\" files."
   ]
  },
  {
   "cell_type": "code",
   "execution_count": 16,
   "metadata": {
    "collapsed": false
   },
   "outputs": [],
   "source": [
    "for temp in temp_files:\n",
    "    os.remove(temp)"
   ]
  }
 ],
 "metadata": {
  "kernelspec": {
   "display_name": "Python 2",
   "language": "python",
   "name": "python2"
  },
  "language_info": {
   "codemirror_mode": {
    "name": "ipython",
    "version": 2
   },
   "file_extension": ".py",
   "mimetype": "text/x-python",
   "name": "python",
   "nbconvert_exporter": "python",
   "pygments_lexer": "ipython2",
   "version": "2.7.13"
  }
 },
 "nbformat": 4,
 "nbformat_minor": 1
}
