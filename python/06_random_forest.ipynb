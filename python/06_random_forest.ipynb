{
 "cells": [
  {
   "cell_type": "markdown",
   "metadata": {},
   "source": [
    "# Simple Trees"
   ]
  },
  {
   "cell_type": "markdown",
   "metadata": {},
   "source": [
    "---\n",
    "## Experimental Setup"
   ]
  },
  {
   "cell_type": "markdown",
   "metadata": {},
   "source": [
    "### Libraries & Settings"
   ]
  },
  {
   "cell_type": "code",
   "execution_count": 1,
   "metadata": {
    "collapsed": true
   },
   "outputs": [],
   "source": [
    "import os              # General OS commands\n",
    "import numpy as np     # NumPy\n",
    "import pandas as pd    # Python Data Analysis Library\n",
    "import zipfile         # Compress/decompress ZIP files\n",
    "import sqlite3         # SQLite3 Database Driver\n",
    "import re              # Regular Expressions"
   ]
  },
  {
   "cell_type": "code",
   "execution_count": 2,
   "metadata": {
    "collapsed": true
   },
   "outputs": [],
   "source": [
    "from sklearn import ensemble, metrics"
   ]
  },
  {
   "cell_type": "code",
   "execution_count": 3,
   "metadata": {
    "collapsed": true
   },
   "outputs": [],
   "source": [
    "# Never truncate columns, display all the data\n",
    "from IPython.display import display, HTML\n",
    "pd.set_option('display.max_colwidth', -1)\n",
    "\n",
    "# Display floating-point numbers with 4 decimals in `pandas.DataFrame`\n",
    "pd.options.display.float_format = '{:,.4f}'.format\n",
    "\n",
    "import matplotlib.pyplot as plt\n",
    "# Display MatPlotLib stuff inline\n",
    "%matplotlib inline"
   ]
  },
  {
   "cell_type": "markdown",
   "metadata": {},
   "source": [
    "### Database"
   ]
  },
  {
   "cell_type": "code",
   "execution_count": 4,
   "metadata": {
    "collapsed": true
   },
   "outputs": [],
   "source": [
    "zip_filename = \"../data/ee-insee-2015_custom-sqlite.zip\"\n",
    "eedb = zip_filename.replace(\"-sqlite.zip\", \".sqlite\")\n",
    "\n",
    "if not os.path.exists(eedb):\n",
    "    with zipfile.ZipFile(zip_filename) as zip_file:\n",
    "        zip_file.extractall(\"../data/\")"
   ]
  },
  {
   "cell_type": "code",
   "execution_count": 5,
   "metadata": {
    "collapsed": true
   },
   "outputs": [],
   "source": [
    "with sqlite3.connect(eedb) as con:\n",
    "    query = \"SELECT * FROM eec15_custom\"\n",
    "    eec15 = pd.read_sql_query(query, con)"
   ]
  },
  {
   "cell_type": "code",
   "execution_count": 6,
   "metadata": {
    "collapsed": true
   },
   "outputs": [],
   "source": [
    "# Create a (\"female\" x \"enfant\") interaction variable\n",
    "bool_ = eec15[[\"enfants_\", \"female_\"]].astype(bool)\n",
    "eec15[\"female_enfants_\"] = (bool_.enfants_ & bool_.female_).astype(int)\n",
    "\n",
    "# Drop data we don't need\n",
    "eec15 = eec15[eec15.age60_ == 0]\n",
    "eec15 = eec15.drop(\"age60_\", 1)"
   ]
  },
  {
   "cell_type": "markdown",
   "metadata": {},
   "source": [
    "---\n",
    "## Random Forest"
   ]
  },
  {
   "cell_type": "code",
   "execution_count": 7,
   "metadata": {
    "collapsed": false
   },
   "outputs": [],
   "source": [
    "# Build a list of parameters to include in the model, using regex\n",
    "# https://www.datarobot.com/blog/multiple-regression-using-statsmodels/\n",
    "filters = {\n",
    "    \"age\": \"^age[0-9]{2}_$\",\n",
    "    \"diploma\": \"^dip[0-9]{2}_$\",\n",
    "    \"etranger\": \"^etranger_$\",\n",
    "    \"domtom\": \"^domtom_$\",\n",
    "#     \"trim\": \"^trim$\",\n",
    "    \"female\": \"^female_$\",\n",
    "    \"enfants\": \"^enfants_$\",\n",
    "#     \"female_enfants\": \"^female_enfants_$\",\n",
    "    \"region\": \"^region[1-2]_$\"\n",
    "}\n",
    "params = {k: sorted([x for x in eec15.columns if re.match(r, x)]) for (k, r) in filters.items()}\n",
    "\n",
    "# Avoid the dummy variable trap\n",
    "params = {k: (v if len(v) == 1 else v[:-1]) for (k, v) in params.items()}\n",
    "params[\"region\"] += [\"region2_\"]"
   ]
  },
  {
   "cell_type": "code",
   "execution_count": 8,
   "metadata": {
    "collapsed": false
   },
   "outputs": [],
   "source": [
    "trims = [\"t{}\".format(x) for x in sorted(eec15[\"trim\"].unique())]\n",
    "eec15_ = {t: eec15[eec15.trim == int(t[1])] for t in trims}\n",
    "X = {t: eec15_[t][sum(params.values(), [])] for t in eec15_}\n",
    "y = {t: eec15_[t][\"actop_\"] for t in eec15_}"
   ]
  },
  {
   "cell_type": "markdown",
   "metadata": {},
   "source": [
    "### Train the model using `trim=1` data"
   ]
  },
  {
   "cell_type": "code",
   "execution_count": 9,
   "metadata": {
    "collapsed": false
   },
   "outputs": [],
   "source": [
    "# Create & fit the forest\n",
    "random_forest_sk = ensemble.RandomForestClassifier(\n",
    "    criterion='gini',\n",
    "    n_estimators=100,\n",
    "    max_features=4,\n",
    "    max_depth=12,\n",
    "    random_state=1,\n",
    "    n_jobs=-1\n",
    ").fit(X[\"t1\"], y[\"t1\"])"
   ]
  },
  {
   "cell_type": "code",
   "execution_count": 10,
   "metadata": {
    "collapsed": false
   },
   "outputs": [
    {
     "name": "stdout",
     "output_type": "stream",
     "text": [
      "Accuracy: 0.773977868695\n"
     ]
    }
   ],
   "source": [
    "# Check the accuracy of the model on the training set\n",
    "print \"Accuracy: {}\".format(random_forest_sk.score(X[\"t1\"], y[\"t1\"]))"
   ]
  },
  {
   "cell_type": "markdown",
   "metadata": {},
   "source": [
    "### Apply the model to test data (`trim=2/3/4`)"
   ]
  },
  {
   "cell_type": "code",
   "execution_count": 11,
   "metadata": {
    "collapsed": false
   },
   "outputs": [
    {
     "name": "stdout",
     "output_type": "stream",
     "text": [
      "Accuracy (t1): 0.773977868695\n",
      "ROC Area-Under-Curve (t1): 0.81259853703\n",
      "Accuracy (t2): 0.778372860499\n",
      "ROC Area-Under-Curve (t2): 0.812627942292\n",
      "Accuracy (t3): 0.770331172041\n",
      "ROC Area-Under-Curve (t3): 0.805320741\n",
      "Accuracy (t4): 0.771684959321\n",
      "ROC Area-Under-Curve (t4): 0.809385186715\n"
     ]
    }
   ],
   "source": [
    "# Check the accuracy of the model on the training & test sets\n",
    "\n",
    "for t in trims:\n",
    "#     predicted = random_forest_sk.predict_proba(X[t]).T[1]\n",
    "#     predicted = np.where(predicted < 0.5, 0, 1)\n",
    "    predicted = random_forest_sk.predict(X[t])\n",
    "    print \"Accuracy ({}): {}\".format(t, metrics.accuracy_score(y[t], predicted))\n",
    "\n",
    "    predicted_proba = random_forest_sk.predict_proba(X[t]).T[1]\n",
    "    print \"ROC Area-Under-Curve ({}): {}\".format(t, metrics.roc_auc_score(y[t], predicted_proba))\n",
    "\n",
    "# Note: the two methods for computing `predicted` are equivalent (THRESHOLD = 0.5)"
   ]
  },
  {
   "cell_type": "markdown",
   "metadata": {},
   "source": [
    "---\n",
    "## Marginal Effects"
   ]
  },
  {
   "cell_type": "code",
   "execution_count": 12,
   "metadata": {
    "collapsed": true
   },
   "outputs": [],
   "source": [
    "marginal_effects = pd.DataFrame()"
   ]
  },
  {
   "cell_type": "markdown",
   "metadata": {},
   "source": [
    "### By modifying the dataset (\"passage de tout le monde en licence\")"
   ]
  },
  {
   "cell_type": "code",
   "execution_count": 13,
   "metadata": {
    "collapsed": false
   },
   "outputs": [],
   "source": [
    "brute_force = pd.Series()\n",
    "for category in filters:\n",
    "    for pivot in params[category]:\n",
    "        non_pivots = [x for x in params[category] if x != pivot]\n",
    "        \n",
    "        X_one = X[\"t1\"].copy() \n",
    "        X_one[non_pivots] = 0\n",
    "        X_one[pivot] = 1\n",
    "        \n",
    "        proba_one = random_forest_sk.predict_proba(X_one).T[1].mean()\n",
    "        proba_t1 = random_forest_sk.predict_proba(X[\"t1\"]).T[1].mean()\n",
    "        brute_force[pivot] = proba_one - proba_t1"
   ]
  },
  {
   "cell_type": "code",
   "execution_count": 14,
   "metadata": {
    "collapsed": false
   },
   "outputs": [
    {
     "data": {
      "text/html": [
       "<div>\n",
       "<table border=\"1\" class=\"dataframe\">\n",
       "  <thead>\n",
       "    <tr style=\"text-align: right;\">\n",
       "      <th></th>\n",
       "      <th>etranger_</th>\n",
       "      <th>age15_</th>\n",
       "      <th>age30_</th>\n",
       "      <th>age40_</th>\n",
       "      <th>dip10_</th>\n",
       "      <th>dip11_</th>\n",
       "      <th>dip30_</th>\n",
       "      <th>dip31_</th>\n",
       "      <th>dip33_</th>\n",
       "      <th>dip41_</th>\n",
       "      <th>dip42_</th>\n",
       "      <th>dip50_</th>\n",
       "      <th>dip60_</th>\n",
       "      <th>dip70_</th>\n",
       "      <th>female_</th>\n",
       "      <th>enfants_</th>\n",
       "      <th>region1_</th>\n",
       "      <th>region2_</th>\n",
       "      <th>domtom_</th>\n",
       "    </tr>\n",
       "  </thead>\n",
       "  <tbody>\n",
       "    <tr>\n",
       "      <th>brute_force</th>\n",
       "      <td>0.1374</td>\n",
       "      <td>0.1510</td>\n",
       "      <td>-0.0951</td>\n",
       "      <td>-0.1232</td>\n",
       "      <td>-0.1474</td>\n",
       "      <td>-0.1697</td>\n",
       "      <td>0.0181</td>\n",
       "      <td>-0.1200</td>\n",
       "      <td>-0.1555</td>\n",
       "      <td>0.0552</td>\n",
       "      <td>-0.0563</td>\n",
       "      <td>-0.0212</td>\n",
       "      <td>0.1192</td>\n",
       "      <td>0.1207</td>\n",
       "      <td>0.0334</td>\n",
       "      <td>-0.0798</td>\n",
       "      <td>0.0004</td>\n",
       "      <td>0.0124</td>\n",
       "      <td>0.0972</td>\n",
       "    </tr>\n",
       "  </tbody>\n",
       "</table>\n",
       "</div>"
      ],
      "text/plain": [
       "             etranger_  age15_  age30_  age40_  dip10_  dip11_  dip30_  \\\n",
       "brute_force 0.1374     0.1510  -0.0951 -0.1232 -0.1474 -0.1697 0.0181    \n",
       "\n",
       "             dip31_  dip33_  dip41_  dip42_  dip50_  dip60_  dip70_  female_  \\\n",
       "brute_force -0.1200 -0.1555 0.0552  -0.0563 -0.0212 0.1192  0.1207  0.0334     \n",
       "\n",
       "             enfants_  region1_  region2_  domtom_  \n",
       "brute_force -0.0798   0.0004    0.0124    0.0972    "
      ]
     },
     "execution_count": 14,
     "metadata": {},
     "output_type": "execute_result"
    }
   ],
   "source": [
    "marginal_effects[\"brute_force\"] = brute_force\n",
    "marginal_effects.transpose()"
   ]
  },
  {
   "cell_type": "markdown",
   "metadata": {},
   "source": [
    "---\n",
    "## Most important parameters\n",
    "_ranked by **entropy importance**_ (**TODO**: where did Bastien get this?!)"
   ]
  },
  {
   "cell_type": "code",
   "execution_count": 15,
   "metadata": {
    "collapsed": false
   },
   "outputs": [
    {
     "data": {
      "text/html": [
       "<div>\n",
       "<table border=\"1\" class=\"dataframe\">\n",
       "  <thead>\n",
       "    <tr style=\"text-align: right;\">\n",
       "      <th></th>\n",
       "      <th>age15_</th>\n",
       "      <th>dip60_</th>\n",
       "      <th>enfants_</th>\n",
       "      <th>dip10_</th>\n",
       "      <th>domtom_</th>\n",
       "      <th>etranger_</th>\n",
       "      <th>female_</th>\n",
       "      <th>dip31_</th>\n",
       "      <th>age40_</th>\n",
       "      <th>dip42_</th>\n",
       "      <th>dip11_</th>\n",
       "      <th>dip41_</th>\n",
       "      <th>dip50_</th>\n",
       "      <th>age30_</th>\n",
       "      <th>dip33_</th>\n",
       "      <th>region1_</th>\n",
       "      <th>region2_</th>\n",
       "      <th>dip70_</th>\n",
       "      <th>dip30_</th>\n",
       "    </tr>\n",
       "  </thead>\n",
       "  <tbody>\n",
       "    <tr>\n",
       "      <th>entropy</th>\n",
       "      <td>0.3730</td>\n",
       "      <td>0.1113</td>\n",
       "      <td>0.0830</td>\n",
       "      <td>0.0579</td>\n",
       "      <td>0.0518</td>\n",
       "      <td>0.0469</td>\n",
       "      <td>0.0403</td>\n",
       "      <td>0.0384</td>\n",
       "      <td>0.0369</td>\n",
       "      <td>0.0280</td>\n",
       "      <td>0.0267</td>\n",
       "      <td>0.0258</td>\n",
       "      <td>0.0246</td>\n",
       "      <td>0.0228</td>\n",
       "      <td>0.0151</td>\n",
       "      <td>0.0069</td>\n",
       "      <td>0.0062</td>\n",
       "      <td>0.0029</td>\n",
       "      <td>0.0015</td>\n",
       "    </tr>\n",
       "  </tbody>\n",
       "</table>\n",
       "</div>"
      ],
      "text/plain": [
       "         age15_  dip60_  enfants_  dip10_  domtom_  etranger_  female_  \\\n",
       "entropy 0.3730  0.1113  0.0830    0.0579  0.0518   0.0469     0.0403     \n",
       "\n",
       "         dip31_  age40_  dip42_  dip11_  dip41_  dip50_  age30_  dip33_  \\\n",
       "entropy 0.0384  0.0369  0.0280  0.0267  0.0258  0.0246  0.0228  0.0151    \n",
       "\n",
       "         region1_  region2_  dip70_  dip30_  \n",
       "entropy 0.0069    0.0062    0.0029  0.0015   "
      ]
     },
     "execution_count": 15,
     "metadata": {},
     "output_type": "execute_result"
    }
   ],
   "source": [
    "entropy = pd.DataFrame(random_forest_sk.feature_importances_, index=X[\"t1\"].columns, columns=[\"entropy\"])\n",
    "entropy.sort_values(by=\"entropy\", ascending=False).transpose()"
   ]
  }
 ],
 "metadata": {
  "kernelspec": {
   "display_name": "Python 2",
   "language": "python",
   "name": "python2"
  },
  "language_info": {
   "codemirror_mode": {
    "name": "ipython",
    "version": 2
   },
   "file_extension": ".py",
   "mimetype": "text/x-python",
   "name": "python",
   "nbconvert_exporter": "python",
   "pygments_lexer": "ipython2",
   "version": "2.7.13"
  }
 },
 "nbformat": 4,
 "nbformat_minor": 1
}
