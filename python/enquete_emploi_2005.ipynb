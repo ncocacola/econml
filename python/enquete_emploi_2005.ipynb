{
 "cells": [
  {
   "cell_type": "markdown",
   "metadata": {},
   "source": [
    "# New database (`eec05`)"
   ]
  },
  {
   "cell_type": "markdown",
   "metadata": {},
   "source": [
    "[Activité, emploi et chômage de 2003 à 2013](https://www.insee.fr/fr/statistiques/2415450?sommaire=2415511#titre-bloc-15)\n",
    "\n",
    "- converted all `.dbf` files to a single `.sqlite` file\n",
    "- merged the `indiv2005[1,2,3]` tables into a single `eec05` table (+ `varmod`, `varlist`)\n",
    "\n",
    "        CREATE TABLE eec05 AS SELECT * FROM indiv20051\n",
    "        JOIN indiv20052\n",
    "            ON indiv20051.ident = indiv20052.ident\n",
    "            AND indiv20051.noi = indiv20052.noi\n",
    "            AND indiv20051.trim = indiv20052.trim \n",
    "        JOIN indiv20053\n",
    "            ON indiv20051.ident = indiv20053.ident\n",
    "            AND indiv20051.noi = indiv20053.noi\n",
    "            AND indiv20051.trim = indiv20053.trim;\n",
    "\n",
    "        DROP TABLE indiv20051;\n",
    "        DROP TABLE indiv20052;\n",
    "        DROP TABLE indiv20053;\n",
    "        \n",
    "        ALTER TABLE indiv2005_varlist RENAME TO varlist;\n",
    "        ALTER TABLE indiv2005_varmod RENAME TO varmod;\n",
    "\n",
    "- zipped the resulting `.sqlite` file"
   ]
  },
  {
   "cell_type": "markdown",
   "metadata": {},
   "source": [
    "## Experimental Setup"
   ]
  },
  {
   "cell_type": "markdown",
   "metadata": {},
   "source": [
    "### Libraries & Settings"
   ]
  },
  {
   "cell_type": "code",
   "execution_count": 2,
   "metadata": {
    "collapsed": true
   },
   "outputs": [],
   "source": [
    "import os              # General OS commands\n",
    "import numpy as np     # NumPy\n",
    "import pandas as pd    # Python Data Analysis Library\n",
    "import zipfile         # Compress/decompress ZIP files\n",
    "import sqlite3         # SQLite3 Database Driver"
   ]
  },
  {
   "cell_type": "code",
   "execution_count": 3,
   "metadata": {
    "collapsed": true
   },
   "outputs": [],
   "source": [
    "# Never truncate columns, display all the data\n",
    "from IPython.display import display, HTML\n",
    "pd.set_option('display.max_colwidth', -1)\n",
    "\n",
    "# Display floating-point numbers with 4 decimals in `pandas.DataFrame`\n",
    "pd.options.display.float_format = '{:,.4f}'.format\n",
    "\n",
    "import matplotlib.pyplot as plt\n",
    "# Display MatPlotLib stuff inline\n",
    "%matplotlib inline\n",
    "\n",
    "# Temporary files to delete at the end of the experiment\n",
    "temp_files = []"
   ]
  },
  {
   "cell_type": "markdown",
   "metadata": {},
   "source": [
    "### Database"
   ]
  },
  {
   "cell_type": "code",
   "execution_count": 9,
   "metadata": {
    "collapsed": false
   },
   "outputs": [],
   "source": [
    "zip_filename = \"../data/ee-insee-2005-sqlite.zip\"\n",
    "with zipfile.ZipFile(zip_filename) as zip_file:\n",
    "    zip_file.extractall(\"../data/\")\n",
    "\n",
    "eedb = zip_filename.replace(\"-sqlite.zip\", \".sqlite\")\n",
    "temp_files.append(eedb)"
   ]
  },
  {
   "cell_type": "code",
   "execution_count": null,
   "metadata": {
    "collapsed": true
   },
   "outputs": [],
   "source": [
    "with sqlite3.connect(eedb) as con:\n",
    "    query = \"SELECT * FROM eec05\"\n",
    "    eec05 = pd.read_sql_query(query, con)"
   ]
  },
  {
   "cell_type": "markdown",
   "metadata": {},
   "source": [
    "## Experiment"
   ]
  },
  {
   "cell_type": "markdown",
   "metadata": {},
   "source": [
    "**Note pour Bastien**: la base de données 2005 n'a pas été customisée, tu vas devoir faire les conversions en binaire toi-même si besoin. Si tu le fais, n'oublie pas de toujours *créer de nouvelles variables* et de garder les originales (ajoute un `_` au nom du nouveau paramètre).\n",
    "\n",
    "Le mieux serait que tu regardes que tu me donnes la liste des variables que tu vas utiliser (dans le fichier `eec05_dictionnaire.pdf` sur GitHub), de sorte que je puisse créer une version clean/custom avec les bonnes colonnes et les bons datatypes etc."
   ]
  },
  {
   "cell_type": "code",
   "execution_count": null,
   "metadata": {
    "collapsed": false
   },
   "outputs": [],
   "source": [
    "# Experiment code goes here.\n",
    "eec05[eec05.trim == \"1\"].head()"
   ]
  },
  {
   "cell_type": "markdown",
   "metadata": {},
   "source": [
    "## Cleanup\n",
    "\n",
    "Now that the experiments have concluded, we delete all the \"temporary\" files."
   ]
  },
  {
   "cell_type": "code",
   "execution_count": 6,
   "metadata": {
    "collapsed": false
   },
   "outputs": [],
   "source": [
    "for temp in temp_files:\n",
    "    os.remove(temp)"
   ]
  }
 ],
 "metadata": {
  "kernelspec": {
   "display_name": "Python 2",
   "language": "python",
   "name": "python2"
  },
  "language_info": {
   "codemirror_mode": {
    "name": "ipython",
    "version": 2
   },
   "file_extension": ".py",
   "mimetype": "text/x-python",
   "name": "python",
   "nbconvert_exporter": "python",
   "pygments_lexer": "ipython2",
   "version": "2.7.13"
  }
 },
 "nbformat": 4,
 "nbformat_minor": 1
}
