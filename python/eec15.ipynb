{
 "cells": [
  {
   "cell_type": "markdown",
   "metadata": {},
   "source": [
    "# Enquête emploi en continu 2015"
   ]
  },
  {
   "cell_type": "markdown",
   "metadata": {},
   "source": [
    "---\n",
    "## Experimental Setup"
   ]
  },
  {
   "cell_type": "markdown",
   "metadata": {},
   "source": [
    "### Libraries & Settings"
   ]
  },
  {
   "cell_type": "code",
   "execution_count": 1,
   "metadata": {
    "collapsed": true
   },
   "outputs": [],
   "source": [
    "import os              # General OS commands\n",
    "import numpy as np     # NumPy\n",
    "import pandas as pd    # Python Data Analysis Library\n",
    "import zipfile         # Compress/decompress ZIP files\n",
    "import sqlite3         # SQLite3 Database Driver\n",
    "import re              # Regular Expressions"
   ]
  },
  {
   "cell_type": "code",
   "execution_count": 2,
   "metadata": {
    "collapsed": true
   },
   "outputs": [],
   "source": [
    "# Never truncate columns, display all the data\n",
    "from IPython.display import display, HTML\n",
    "pd.set_option('display.max_colwidth', -1)\n",
    "\n",
    "# Display floating-point numbers with 4 decimals in `pandas.DataFrame`\n",
    "pd.options.display.float_format = '{:,.4f}'.format\n",
    "\n",
    "import matplotlib.pyplot as plt\n",
    "# Display MatPlotLib stuff inline\n",
    "%matplotlib inline"
   ]
  },
  {
   "cell_type": "markdown",
   "metadata": {},
   "source": [
    "### Database"
   ]
  },
  {
   "cell_type": "code",
   "execution_count": 3,
   "metadata": {
    "collapsed": true
   },
   "outputs": [],
   "source": [
    "zip_filename = \"../data/ee-insee-2015_custom-sqlite.zip\"\n",
    "eedb = zip_filename.replace(\"-sqlite.zip\", \".sqlite\")\n",
    "\n",
    "if not os.path.exists(eedb):\n",
    "    with zipfile.ZipFile(zip_filename) as zip_file:\n",
    "        zip_file.extractall(\"../data/\")"
   ]
  },
  {
   "cell_type": "code",
   "execution_count": 4,
   "metadata": {
    "collapsed": true
   },
   "outputs": [],
   "source": [
    "with sqlite3.connect(eedb) as con:\n",
    "    query = \"SELECT * FROM eec15_custom\"\n",
    "    eec15 = pd.read_sql_query(query, con)"
   ]
  },
  {
   "cell_type": "code",
   "execution_count": 5,
   "metadata": {
    "collapsed": true
   },
   "outputs": [],
   "source": [
    "# Create a (\"female\" x \"enfant\") interaction variable\n",
    "bool_ = eec15[[\"enfants_\", \"female_\"]].astype(bool)\n",
    "eec15[\"female_enfants_\"] = (bool_.enfants_ & bool_.female_).astype(int)\n",
    "\n",
    "# Drop data we don't need\n",
    "eec15 = eec15[eec15.age60_ == 0]\n",
    "eec15 = eec15.drop(\"age60_\", 1)"
   ]
  },
  {
   "cell_type": "markdown",
   "metadata": {},
   "source": [
    "### Parameters"
   ]
  },
  {
   "cell_type": "code",
   "execution_count": 9,
   "metadata": {
    "collapsed": true
   },
   "outputs": [],
   "source": [
    "# Build a list of parameters to include in the model, using regex\n",
    "# https://www.datarobot.com/blog/multiple-regression-using-statsmodels/\n",
    "filters = {\n",
    "    \"age\": \"^age[0-9]{2}_$\",\n",
    "    \"diploma\": \"^dip[0-9]{2}_$\",\n",
    "    \"etranger\": \"^etranger_$\",\n",
    "    \"domtom\": \"^domtom_$\",\n",
    "#     \"trim\": \"^trim$\",\n",
    "    \"female\": \"^female_$\",\n",
    "    \"enfants\": \"^enfants_$\",\n",
    "#     \"female_enfants\": \"^female_enfants_$\",\n",
    "    \"region\": \"^region[1-2]_$\"\n",
    "}\n",
    "params = {k: sorted([x for x in eec15.columns if re.match(r, x)]) for (k, r) in filters.items()}\n",
    "\n",
    "# Avoid the dummy variable trap\n",
    "params = {k: (v if len(v) == 1 else v[:-1]) for (k, v) in params.items()}\n",
    "params[\"region\"] += [\"region2_\"]"
   ]
  },
  {
   "cell_type": "code",
   "execution_count": 10,
   "metadata": {
    "collapsed": true
   },
   "outputs": [],
   "source": [
    "trims = [\"t{}\".format(x) for x in sorted(eec15[\"trim\"].unique())]\n",
    "eec15_ = {t: eec15[eec15.trim == int(t[1])] for t in trims}\n",
    "X = {t: eec15_[t][sum(params.values(), [])] for t in eec15_}\n",
    "y = {t: eec15_[t][\"actop_\"] for t in eec15_}"
   ]
  },
  {
   "cell_type": "markdown",
   "metadata": {},
   "source": [
    "### Data"
   ]
  },
  {
   "cell_type": "code",
   "execution_count": 6,
   "metadata": {
    "collapsed": false
   },
   "outputs": [
    {
     "data": {
      "text/plain": [
       "<matplotlib.axes._subplots.AxesSubplot at 0x7f76e7b93850>"
      ]
     },
     "execution_count": 6,
     "metadata": {},
     "output_type": "execute_result"
    },
    {
     "data": {
      "image/png": "[encoded data removed]",
      "text/plain": [
       "<matplotlib.figure.Figure at 0x7f76f08fcd50>"
      ]
     },
     "metadata": {},
     "output_type": "display_data"
    }
   ],
   "source": [
    "pd.crosstab(eec15.actop_, eec15.female_).plot(kind='bar', stacked=True)"
   ]
  },
  {
   "cell_type": "code",
   "execution_count": 7,
   "metadata": {
    "collapsed": false
   },
   "outputs": [
    {
     "name": "stdout",
     "output_type": "stream",
     "text": [
      "Probability of employment: 0.347426515966\n"
     ]
    }
   ],
   "source": [
    "print \"Probability of employment:\", eec15[\"actop_\"].mean()"
   ]
  },
  {
   "cell_type": "markdown",
   "metadata": {},
   "source": [
    "---\n",
    "## Experiment"
   ]
  },
  {
   "cell_type": "code",
   "execution_count": 8,
   "metadata": {
    "collapsed": true
   },
   "outputs": [],
   "source": [
    "# Experiment code goes here."
   ]
  }
 ],
 "metadata": {
  "kernelspec": {
   "display_name": "Python 2",
   "language": "python",
   "name": "python2"
  },
  "language_info": {
   "codemirror_mode": {
    "name": "ipython",
    "version": 2
   },
   "file_extension": ".py",
   "mimetype": "text/x-python",
   "name": "python",
   "nbconvert_exporter": "python",
   "pygments_lexer": "ipython2",
   "version": "2.7.12"
  }
 },
 "nbformat": 4,
 "nbformat_minor": 1
}
