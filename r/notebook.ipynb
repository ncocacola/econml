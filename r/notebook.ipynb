{
 "cells": [
  {
   "cell_type": "markdown",
   "metadata": {},
   "source": [
    "# R Notebook"
   ]
  },
  {
   "cell_type": "markdown",
   "metadata": {},
   "source": [
    "## Libraries"
   ]
  },
  {
   "cell_type": "code",
   "execution_count": 1,
   "metadata": {
    "collapsed": true
   },
   "outputs": [],
   "source": [
    "library(\"DBI\")\n",
    "library(\"RSQLite\")"
   ]
  },
  {
   "cell_type": "code",
   "execution_count": 2,
   "metadata": {
    "collapsed": false
   },
   "outputs": [
    {
     "data": {
      "text/html": [
       "<table>\n",
       "<thead><tr><th scope=col>actop</th><th scope=col>age5</th><th scope=col>dip11</th><th scope=col>sexe</th><th scope=col>trim</th><th scope=col>nfrred</th><th scope=col>metrodom</th><th scope=col>enfred</th><th scope=col>catau2010r</th><th scope=col>actop_</th><th scope=col>⋯</th><th scope=col>male_</th><th scope=col>etranger_</th><th scope=col>francais_</th><th scope=col>metropole_</th><th scope=col>domtom_</th><th scope=col>enfants_</th><th scope=col>region1_</th><th scope=col>region2_</th><th scope=col>region3_</th><th scope=col>region4_</th></tr></thead>\n",
       "<tbody>\n",
       "\t<tr><td>1 </td><td>30</td><td>71</td><td>2 </td><td>2 </td><td>1 </td><td>1 </td><td>1 </td><td>1 </td><td>0 </td><td>⋯ </td><td>0 </td><td>0 </td><td>1 </td><td>1 </td><td>0 </td><td>1 </td><td>1 </td><td>0 </td><td>0 </td><td>0 </td></tr>\n",
       "\t<tr><td>2 </td><td>15</td><td>42</td><td>1 </td><td>2 </td><td>1 </td><td>1 </td><td>1 </td><td>1 </td><td>1 </td><td>⋯ </td><td>1 </td><td>0 </td><td>1 </td><td>1 </td><td>0 </td><td>1 </td><td>1 </td><td>0 </td><td>0 </td><td>0 </td></tr>\n",
       "\t<tr><td>1 </td><td>15</td><td>10</td><td>1 </td><td>2 </td><td>1 </td><td>1 </td><td>2 </td><td>1 </td><td>0 </td><td>⋯ </td><td>1 </td><td>0 </td><td>1 </td><td>1 </td><td>0 </td><td>0 </td><td>1 </td><td>0 </td><td>0 </td><td>0 </td></tr>\n",
       "\t<tr><td>1 </td><td>15</td><td>10</td><td>1 </td><td>3 </td><td>1 </td><td>1 </td><td>2 </td><td>1 </td><td>0 </td><td>⋯ </td><td>1 </td><td>0 </td><td>1 </td><td>1 </td><td>0 </td><td>0 </td><td>1 </td><td>0 </td><td>0 </td><td>0 </td></tr>\n",
       "\t<tr><td>1 </td><td>15</td><td>10</td><td>1 </td><td>4 </td><td>1 </td><td>1 </td><td>2 </td><td>1 </td><td>0 </td><td>⋯ </td><td>1 </td><td>0 </td><td>1 </td><td>1 </td><td>0 </td><td>0 </td><td>1 </td><td>0 </td><td>0 </td><td>0 </td></tr>\n",
       "\t<tr><td>1 </td><td>30</td><td>10</td><td>2 </td><td>1 </td><td>1 </td><td>1 </td><td>2 </td><td>1 </td><td>0 </td><td>⋯ </td><td>0 </td><td>0 </td><td>1 </td><td>1 </td><td>0 </td><td>0 </td><td>1 </td><td>0 </td><td>0 </td><td>0 </td></tr>\n",
       "</tbody>\n",
       "</table>\n"
      ],
      "text/latex": [
       "\\begin{tabular}{r|lllllllllllllllllllllllllllllllllllll}\n",
       " actop & age5 & dip11 & sexe & trim & nfrred & metrodom & enfred & catau2010r & actop\\_ & ⋯ & male\\_ & etranger\\_ & francais\\_ & metropole\\_ & domtom\\_ & enfants\\_ & region1\\_ & region2\\_ & region3\\_ & region4\\_\\\\\n",
       "\\hline\n",
       "\t 1  & 30 & 71 & 2  & 2  & 1  & 1  & 1  & 1  & 0  & ⋯  & 0  & 0  & 1  & 1  & 0  & 1  & 1  & 0  & 0  & 0 \\\\\n",
       "\t 2  & 15 & 42 & 1  & 2  & 1  & 1  & 1  & 1  & 1  & ⋯  & 1  & 0  & 1  & 1  & 0  & 1  & 1  & 0  & 0  & 0 \\\\\n",
       "\t 1  & 15 & 10 & 1  & 2  & 1  & 1  & 2  & 1  & 0  & ⋯  & 1  & 0  & 1  & 1  & 0  & 0  & 1  & 0  & 0  & 0 \\\\\n",
       "\t 1  & 15 & 10 & 1  & 3  & 1  & 1  & 2  & 1  & 0  & ⋯  & 1  & 0  & 1  & 1  & 0  & 0  & 1  & 0  & 0  & 0 \\\\\n",
       "\t 1  & 15 & 10 & 1  & 4  & 1  & 1  & 2  & 1  & 0  & ⋯  & 1  & 0  & 1  & 1  & 0  & 0  & 1  & 0  & 0  & 0 \\\\\n",
       "\t 1  & 30 & 10 & 2  & 1  & 1  & 1  & 2  & 1  & 0  & ⋯  & 0  & 0  & 1  & 1  & 0  & 0  & 1  & 0  & 0  & 0 \\\\\n",
       "\\end{tabular}\n"
      ],
      "text/markdown": [
       "\n",
       "actop | age5 | dip11 | sexe | trim | nfrred | metrodom | enfred | catau2010r | actop_ | ⋯ | male_ | etranger_ | francais_ | metropole_ | domtom_ | enfants_ | region1_ | region2_ | region3_ | region4_ | \n",
       "|---|---|---|---|---|---|\n",
       "| 1  | 30 | 71 | 2  | 2  | 1  | 1  | 1  | 1  | 0  | ⋯  | 0  | 0  | 1  | 1  | 0  | 1  | 1  | 0  | 0  | 0  | \n",
       "| 2  | 15 | 42 | 1  | 2  | 1  | 1  | 1  | 1  | 1  | ⋯  | 1  | 0  | 1  | 1  | 0  | 1  | 1  | 0  | 0  | 0  | \n",
       "| 1  | 15 | 10 | 1  | 2  | 1  | 1  | 2  | 1  | 0  | ⋯  | 1  | 0  | 1  | 1  | 0  | 0  | 1  | 0  | 0  | 0  | \n",
       "| 1  | 15 | 10 | 1  | 3  | 1  | 1  | 2  | 1  | 0  | ⋯  | 1  | 0  | 1  | 1  | 0  | 0  | 1  | 0  | 0  | 0  | \n",
       "| 1  | 15 | 10 | 1  | 4  | 1  | 1  | 2  | 1  | 0  | ⋯  | 1  | 0  | 1  | 1  | 0  | 0  | 1  | 0  | 0  | 0  | \n",
       "| 1  | 30 | 10 | 2  | 1  | 1  | 1  | 2  | 1  | 0  | ⋯  | 0  | 0  | 1  | 1  | 0  | 0  | 1  | 0  | 0  | 0  | \n",
       "\n",
       "\n"
      ],
      "text/plain": [
       "  actop age5 dip11 sexe trim nfrred metrodom enfred catau2010r actop_ ⋯ male_\n",
       "1 1     30   71    2    2    1      1        1      1          0      ⋯ 0    \n",
       "2 2     15   42    1    2    1      1        1      1          1      ⋯ 1    \n",
       "3 1     15   10    1    2    1      1        2      1          0      ⋯ 1    \n",
       "4 1     15   10    1    3    1      1        2      1          0      ⋯ 1    \n",
       "5 1     15   10    1    4    1      1        2      1          0      ⋯ 1    \n",
       "6 1     30   10    2    1    1      1        2      1          0      ⋯ 0    \n",
       "  etranger_ francais_ metropole_ domtom_ enfants_ region1_ region2_ region3_\n",
       "1 0         1         1          0       1        1        0        0       \n",
       "2 0         1         1          0       1        1        0        0       \n",
       "3 0         1         1          0       0        1        0        0       \n",
       "4 0         1         1          0       0        1        0        0       \n",
       "5 0         1         1          0       0        1        0        0       \n",
       "6 0         1         1          0       0        1        0        0       \n",
       "  region4_\n",
       "1 0       \n",
       "2 0       \n",
       "3 0       \n",
       "4 0       \n",
       "5 0       \n",
       "6 0       "
      ]
     },
     "metadata": {},
     "output_type": "display_data"
    },
    {
     "data": {
      "text/html": [
       "TRUE"
      ],
      "text/latex": [
       "TRUE"
      ],
      "text/markdown": [
       "TRUE"
      ],
      "text/plain": [
       "[1] TRUE"
      ]
     },
     "metadata": {},
     "output_type": "display_data"
    }
   ],
   "source": [
    "# Unzip the custom database\n",
    "zipfile <- \"../data/ee-insee-2015_custom-sqlite.zip\"\n",
    "unzip(zipfile, exdir=\"../data/\")\n",
    "\n",
    "# Connect to the SQLite database\n",
    "eedb_custom <- \"../data/ee-insee-2015_custom.sqlite\"\n",
    "con <- dbConnect(RSQLite::SQLite(), dbname=eedb_custom)\n",
    "\n",
    "# Load the database into an R dataframe\n",
    "query <- \"SELECT * FROM eec15_custom\"\n",
    "eec15_custom <- dbGetQuery(con, query)\n",
    "\n",
    "# Take a look at the dataframe\n",
    "head(eec15_custom)\n",
    "\n",
    "# Disconnect\n",
    "dbDisconnect(con)"
   ]
  }
 ],
 "metadata": {
  "kernelspec": {
   "display_name": "R",
   "language": "R",
   "name": "ir"
  },
  "language_info": {
   "codemirror_mode": "r",
   "file_extension": ".r",
   "mimetype": "text/x-r-source",
   "name": "R",
   "pygments_lexer": "r",
   "version": "3.3.2"
  }
 },
 "nbformat": 4,
 "nbformat_minor": 1
}
