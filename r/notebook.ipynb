{
 "cells": [
  {
   "cell_type": "markdown",
   "metadata": {},
   "source": [
    "# R Notebook"
   ]
  },
  {
   "cell_type": "markdown",
   "metadata": {},
   "source": [
    "## Libraries"
   ]
  },
  {
   "cell_type": "code",
   "execution_count": 1,
   "metadata": {
    "collapsed": true
   },
   "outputs": [],
   "source": [
    "library(\"DBI\")\n",
    "library(\"RSQLite\")"
   ]
  },
  {
   "cell_type": "code",
   "execution_count": 2,
   "metadata": {
    "collapsed": false
   },
   "outputs": [
    {
     "data": {
      "text/html": [
       "<table>\n",
       "<thead><tr><th scope=col>actop</th><th scope=col>age5</th><th scope=col>dip11</th><th scope=col>sexe</th><th scope=col>actop_</th><th scope=col>age40_</th><th scope=col>age50_</th><th scope=col>age60_</th><th scope=col>age30_</th><th scope=col>age15_</th><th scope=col>⋯</th><th scope=col>dip41_</th><th scope=col>dip42_</th><th scope=col>dip11_</th><th scope=col>dip50_</th><th scope=col>dip60_</th><th scope=col>dip10_</th><th scope=col>dip30_</th><th scope=col>dip31_</th><th scope=col>female_</th><th scope=col>male_</th></tr></thead>\n",
       "<tbody>\n",
       "\t<tr><td>1 </td><td>30</td><td>71</td><td>2 </td><td>0 </td><td>0 </td><td>0 </td><td>0 </td><td>1 </td><td>0 </td><td>⋯ </td><td>0 </td><td>0 </td><td>0 </td><td>0 </td><td>0 </td><td>0 </td><td>0 </td><td>0 </td><td>1 </td><td>0 </td></tr>\n",
       "\t<tr><td>2 </td><td>15</td><td>42</td><td>1 </td><td>1 </td><td>0 </td><td>0 </td><td>0 </td><td>0 </td><td>1 </td><td>⋯ </td><td>0 </td><td>1 </td><td>0 </td><td>0 </td><td>0 </td><td>0 </td><td>0 </td><td>0 </td><td>0 </td><td>1 </td></tr>\n",
       "\t<tr><td>1 </td><td>15</td><td>10</td><td>1 </td><td>0 </td><td>0 </td><td>0 </td><td>0 </td><td>0 </td><td>1 </td><td>⋯ </td><td>0 </td><td>0 </td><td>0 </td><td>0 </td><td>0 </td><td>1 </td><td>0 </td><td>0 </td><td>0 </td><td>1 </td></tr>\n",
       "\t<tr><td>1 </td><td>15</td><td>10</td><td>1 </td><td>0 </td><td>0 </td><td>0 </td><td>0 </td><td>0 </td><td>1 </td><td>⋯ </td><td>0 </td><td>0 </td><td>0 </td><td>0 </td><td>0 </td><td>1 </td><td>0 </td><td>0 </td><td>0 </td><td>1 </td></tr>\n",
       "\t<tr><td>1 </td><td>15</td><td>10</td><td>1 </td><td>0 </td><td>0 </td><td>0 </td><td>0 </td><td>0 </td><td>1 </td><td>⋯ </td><td>0 </td><td>0 </td><td>0 </td><td>0 </td><td>0 </td><td>1 </td><td>0 </td><td>0 </td><td>0 </td><td>1 </td></tr>\n",
       "\t<tr><td>1 </td><td>30</td><td>10</td><td>2 </td><td>0 </td><td>0 </td><td>0 </td><td>0 </td><td>1 </td><td>0 </td><td>⋯ </td><td>0 </td><td>0 </td><td>0 </td><td>0 </td><td>0 </td><td>1 </td><td>0 </td><td>0 </td><td>1 </td><td>0 </td></tr>\n",
       "</tbody>\n",
       "</table>\n"
      ],
      "text/latex": [
       "\\begin{tabular}{r|lllllllllllllllllllllll}\n",
       " actop & age5 & dip11 & sexe & actop\\_ & age40\\_ & age50\\_ & age60\\_ & age30\\_ & age15\\_ & ⋯ & dip41\\_ & dip42\\_ & dip11\\_ & dip50\\_ & dip60\\_ & dip10\\_ & dip30\\_ & dip31\\_ & female\\_ & male\\_\\\\\n",
       "\\hline\n",
       "\t 1  & 30 & 71 & 2  & 0  & 0  & 0  & 0  & 1  & 0  & ⋯  & 0  & 0  & 0  & 0  & 0  & 0  & 0  & 0  & 1  & 0 \\\\\n",
       "\t 2  & 15 & 42 & 1  & 1  & 0  & 0  & 0  & 0  & 1  & ⋯  & 0  & 1  & 0  & 0  & 0  & 0  & 0  & 0  & 0  & 1 \\\\\n",
       "\t 1  & 15 & 10 & 1  & 0  & 0  & 0  & 0  & 0  & 1  & ⋯  & 0  & 0  & 0  & 0  & 0  & 1  & 0  & 0  & 0  & 1 \\\\\n",
       "\t 1  & 15 & 10 & 1  & 0  & 0  & 0  & 0  & 0  & 1  & ⋯  & 0  & 0  & 0  & 0  & 0  & 1  & 0  & 0  & 0  & 1 \\\\\n",
       "\t 1  & 15 & 10 & 1  & 0  & 0  & 0  & 0  & 0  & 1  & ⋯  & 0  & 0  & 0  & 0  & 0  & 1  & 0  & 0  & 0  & 1 \\\\\n",
       "\t 1  & 30 & 10 & 2  & 0  & 0  & 0  & 0  & 1  & 0  & ⋯  & 0  & 0  & 0  & 0  & 0  & 1  & 0  & 0  & 1  & 0 \\\\\n",
       "\\end{tabular}\n"
      ],
      "text/markdown": [
       "\n",
       "actop | age5 | dip11 | sexe | actop_ | age40_ | age50_ | age60_ | age30_ | age15_ | ⋯ | dip41_ | dip42_ | dip11_ | dip50_ | dip60_ | dip10_ | dip30_ | dip31_ | female_ | male_ | \n",
       "|---|---|---|---|---|---|\n",
       "| 1  | 30 | 71 | 2  | 0  | 0  | 0  | 0  | 1  | 0  | ⋯  | 0  | 0  | 0  | 0  | 0  | 0  | 0  | 0  | 1  | 0  | \n",
       "| 2  | 15 | 42 | 1  | 1  | 0  | 0  | 0  | 0  | 1  | ⋯  | 0  | 1  | 0  | 0  | 0  | 0  | 0  | 0  | 0  | 1  | \n",
       "| 1  | 15 | 10 | 1  | 0  | 0  | 0  | 0  | 0  | 1  | ⋯  | 0  | 0  | 0  | 0  | 0  | 1  | 0  | 0  | 0  | 1  | \n",
       "| 1  | 15 | 10 | 1  | 0  | 0  | 0  | 0  | 0  | 1  | ⋯  | 0  | 0  | 0  | 0  | 0  | 1  | 0  | 0  | 0  | 1  | \n",
       "| 1  | 15 | 10 | 1  | 0  | 0  | 0  | 0  | 0  | 1  | ⋯  | 0  | 0  | 0  | 0  | 0  | 1  | 0  | 0  | 0  | 1  | \n",
       "| 1  | 30 | 10 | 2  | 0  | 0  | 0  | 0  | 1  | 0  | ⋯  | 0  | 0  | 0  | 0  | 0  | 1  | 0  | 0  | 1  | 0  | \n",
       "\n",
       "\n"
      ],
      "text/plain": [
       "  actop age5 dip11 sexe actop_ age40_ age50_ age60_ age30_ age15_ ⋯ dip41_\n",
       "1 1     30   71    2    0      0      0      0      1      0      ⋯ 0     \n",
       "2 2     15   42    1    1      0      0      0      0      1      ⋯ 0     \n",
       "3 1     15   10    1    0      0      0      0      0      1      ⋯ 0     \n",
       "4 1     15   10    1    0      0      0      0      0      1      ⋯ 0     \n",
       "5 1     15   10    1    0      0      0      0      0      1      ⋯ 0     \n",
       "6 1     30   10    2    0      0      0      0      1      0      ⋯ 0     \n",
       "  dip42_ dip11_ dip50_ dip60_ dip10_ dip30_ dip31_ female_ male_\n",
       "1 0      0      0      0      0      0      0      1       0    \n",
       "2 1      0      0      0      0      0      0      0       1    \n",
       "3 0      0      0      0      1      0      0      0       1    \n",
       "4 0      0      0      0      1      0      0      0       1    \n",
       "5 0      0      0      0      1      0      0      0       1    \n",
       "6 0      0      0      0      1      0      0      1       0    "
      ]
     },
     "metadata": {},
     "output_type": "display_data"
    },
    {
     "data": {
      "text/html": [
       "TRUE"
      ],
      "text/latex": [
       "TRUE"
      ],
      "text/markdown": [
       "TRUE"
      ],
      "text/plain": [
       "[1] TRUE"
      ]
     },
     "metadata": {},
     "output_type": "display_data"
    }
   ],
   "source": [
    "# Unzip the custom database\n",
    "zipfile <- \"../data/ee-insee-2015_custom-sqlite.zip\"\n",
    "unzip(zipfile, exdir=\"../\")\n",
    "\n",
    "# Connect to the SQLite database\n",
    "eedb_custom <- \"../data/ee-insee-2015_custom.sqlite\"\n",
    "con <- dbConnect(RSQLite::SQLite(), dbname=eedb_custom)\n",
    "\n",
    "# Load the database into an R dataframe\n",
    "query <- \"SELECT * FROM eec15_custom\"\n",
    "eec15_custom <- dbGetQuery(con, query)\n",
    "\n",
    "# Take a look at the dataframe\n",
    "head(eec15_custom)\n",
    "\n",
    "# Disconnect\n",
    "dbDisconnect(con)"
   ]
  }
 ],
 "metadata": {
  "kernelspec": {
   "display_name": "R",
   "language": "R",
   "name": "ir"
  },
  "language_info": {
   "codemirror_mode": "r",
   "file_extension": ".r",
   "mimetype": "text/x-r-source",
   "name": "R",
   "pygments_lexer": "r",
   "version": "3.3.2"
  }
 },
 "nbformat": 4,
 "nbformat_minor": 1
}
