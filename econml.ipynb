{
 "cells": [
  {
   "cell_type": "markdown",
   "metadata": {},
   "source": [
    "# EconML"
   ]
  },
  {
   "cell_type": "markdown",
   "metadata": {},
   "source": [
    "Welcome to our Jupyter Notebook."
   ]
  },
  {
   "cell_type": "markdown",
   "metadata": {},
   "source": [
    "## Database\n",
    "We have downloaded the ***Enquête Emploi 2015 - Fichier détail*** database from the [INSEE website](https://www.insee.fr/fr/statistiques/2388681). The database is in dBASE format (`.dbf`, 80mb), compressed into a ZIP file (`.zip`, 9mb).\n",
    "\n",
    "The `.zip` file contains three dBASE files:\n",
    "   - `eec15.dbf` (77MB)\n",
    "   - `varlist.dbf` (33KB)\n",
    "   - `varmod.dbf` (33KB)\n",
    "\n",
    "Because the dBASE format is inconvenient to work with, we import the contents of these three files into an SQLite databases using the [`dbf2sqlite`](https://github.com/olemb/dbfread/blob/master/examples/dbf2sqlite) script, with the following command:\n",
    "\n",
    "    ./dbf2sqlite --encoding=cp850 -o ee-insee-2015.sqlite eec15.dbf varlist.dbf varmod.dbf"
   ]
  },
  {
   "cell_type": "markdown",
   "metadata": {
    "collapsed": false
   },
   "source": [
    "## Setup\n",
    "\n",
    "The resulting SQLite database weighs about 88MB, which is too large for GitHub (our version control repository), so we compressed the database and decompress it on-the-fly before each experiment."
   ]
  },
  {
   "cell_type": "code",
   "execution_count": null,
   "metadata": {
    "collapsed": true
   },
   "outputs": [],
   "source": [
    "from zipfile import ZipFile\n",
    "with ZipFile(\"data/ee-insee-2015-sqlite.zip\") as zip_file:\n",
    "    zip_file.extractall(\"data/\")"
   ]
  },
  {
   "cell_type": "markdown",
   "metadata": {},
   "source": [
    "## First look"
   ]
  },
  {
   "cell_type": "markdown",
   "metadata": {},
   "source": [
    "### Variables\n",
    "We first look at the list of variables to find out what kind of data we have access to. The variables (i.e. the columns of the main table `eec15`) and their labels are stored in the `varlist` table."
   ]
  },
  {
   "cell_type": "code",
   "execution_count": null,
   "metadata": {
    "collapsed": false,
    "scrolled": false
   },
   "outputs": [],
   "source": [
    "import pandas as pd\n",
    "import sqlite3\n",
    "\n",
    "from IPython.display import display, HTML\n",
    "pd.set_option('display.max_colwidth', -1)\n",
    "\n",
    "with sqlite3.connect(\"data/ee-insee-2015.sqlite\") as con:\n",
    "    query = \"SELECT * FROM varlist\"\n",
    "    df = pd.read_sql_query(query, con)\n",
    "\n",
    "df.columns = [\"Variable\", \"Libellé\"]\n",
    "HTML(df.to_html(index=False))"
   ]
  },
  {
   "cell_type": "markdown",
   "metadata": {},
   "source": [
    "### Survey Data\n",
    "We also look at the actual survey data to get an idea of how much data we are dealing with, and what this data looks like."
   ]
  },
  {
   "cell_type": "code",
   "execution_count": null,
   "metadata": {
    "collapsed": false
   },
   "outputs": [],
   "source": [
    "import pandas as pd\n",
    "import sqlite3\n",
    "\n",
    "from IPython.display import display, HTML\n",
    "pd.set_option('display.max_colwidth', -1)\n",
    "\n",
    "with sqlite3.connect(\"data/ee-insee-2015.sqlite\") as con:\n",
    "    cur = con.cursor()\n",
    "    \n",
    "    # Total number of rows/observations\n",
    "    cur.execute(\"SELECT count(*) FROM eec15\")\n",
    "    total = cur.fetchone()[0]\n",
    "    \n",
    "    # Number of men\n",
    "    cur.execute(\"SELECT count(*) FROM eec15 WHERE sexe=1\")\n",
    "    men = cur.fetchone()[0]\n",
    "    \n",
    "    # Number of women\n",
    "    cur.execute(\"SELECT count(*) FROM eec15 WHERE sexe=2\")\n",
    "    women = cur.fetchone()[0]\n",
    "\n",
    "print \"Total: {}\".format(total)\n",
    "print \"    Men: {}\".format(men)\n",
    "print \"    Women: {}\".format(women)"
   ]
  },
  {
   "cell_type": "code",
   "execution_count": null,
   "metadata": {
    "collapsed": false
   },
   "outputs": [],
   "source": [
    "import pandas as pd\n",
    "import sqlite3\n",
    "\n",
    "from IPython.display import display, HTML\n",
    "pd.set_option('display.max_colwidth', -1)\n",
    "\n",
    "with sqlite3.connect(\"data/ee-insee-2015.sqlite\") as con:\n",
    "    query = \"SELECT * FROM eec15 LIMIT 10\"\n",
    "    df = pd.read_sql_query(query, con)\n",
    "\n",
    "HTML(df.to_html(index=False))"
   ]
  },
  {
   "cell_type": "markdown",
   "metadata": {},
   "source": [
    "## Cleanup\n",
    "\n",
    "Now that the experiment has concluded, we delete all the \"temporary\" files."
   ]
  },
  {
   "cell_type": "code",
   "execution_count": null,
   "metadata": {
    "collapsed": false
   },
   "outputs": [],
   "source": [
    "import os\n",
    "os.remove(\"data/ee-insee-2015.sqlite\")"
   ]
  }
 ],
 "metadata": {
  "kernelspec": {
   "display_name": "Python 2",
   "language": "python",
   "name": "python2"
  },
  "language_info": {
   "codemirror_mode": {
    "name": "ipython",
    "version": 2
   },
   "file_extension": ".py",
   "mimetype": "text/x-python",
   "name": "python",
   "nbconvert_exporter": "python",
   "pygments_lexer": "ipython2",
   "version": "2.7.12"
  }
 },
 "nbformat": 4,
 "nbformat_minor": 1
}
