{
 "cells": [
  {
   "cell_type": "markdown",
   "metadata": {},
   "source": [
    "# EconML"
   ]
  },
  {
   "cell_type": "markdown",
   "metadata": {},
   "source": [
    "## Python\n",
    "### Enquête Emploi en Continu 2015\n",
    "\n",
    "1. [Experimental Setup](python/eec15/01_experimental_setup.ipynb)\n",
    "2. [Linear Regressions](python/eec15/02_linear_regressions.ipynb)\n",
    "3. [Logit Regressions](python/eec15/03_logit_regressions.ipynb)\n",
    "4. [Probit Regressions](python/eec15/04_probit_regressions.ipynb)\n",
    "5. [Simple Tree](python/eec15/05_simple_tree.ipynb)\n",
    "6. [Random Forest](python/eec15/06_random_forest.ipynb)\n",
    "\n",
    "\n",
    "*Use this **[template notebook](python/eec15/template.ipynb)** for additional experiments.*"
   ]
  },
  {
   "cell_type": "markdown",
   "metadata": {},
   "source": [
    "## R\n",
    "- [Notebook](r/notebook.ipynb)"
   ]
  }
 ],
 "metadata": {
  "kernelspec": {
   "display_name": "Python 2",
   "language": "python",
   "name": "python2"
  },
  "language_info": {
   "codemirror_mode": {
    "name": "ipython",
    "version": 2
   },
   "file_extension": ".py",
   "mimetype": "text/x-python",
   "name": "python",
   "nbconvert_exporter": "python",
   "pygments_lexer": "ipython2",
   "version": "2.7.13"
  }
 },
 "nbformat": 4,
 "nbformat_minor": 1
}
