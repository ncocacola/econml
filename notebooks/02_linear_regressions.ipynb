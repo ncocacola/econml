{
 "cells": [
  {
   "cell_type": "markdown",
   "metadata": {},
   "source": [
    "# Linear Regressions"
   ]
  },
  {
   "cell_type": "markdown",
   "metadata": {},
   "source": [
    "## Basic Linear Regressions\n",
    "We now turn to basic linear regressions:\n",
    "- **dependent variable**: `ACTOP`\n",
    "- **independent variables**: `AGE5`, `DIP11`, `SEXE`"
   ]
  },
  {
   "cell_type": "code",
   "execution_count": null,
   "metadata": {
    "collapsed": false
   },
   "outputs": [],
   "source": [
    "# Connect to database and load the data we need into a DataFrame\n",
    "with sqlite3.connect(eedb) as con:\n",
    "    query = \"SELECT actop, age5, dip11, sexe FROM eec15\"\n",
    "    df = pd.read_sql_query(query, con)\n",
    "    \n",
    "# Refactor the data in the format we need for regressions\n",
    "# In particular, convert categorical variables into dummy variables\n",
    "\n",
    "## ACTOP: drop NULL, map ('1', '2') -> (0, 1)\n",
    "df = df[df.actop != \"\"]\n",
    "df[\"actop\"] = df[\"actop\"].map({'1': 0, '2': 1})\n",
    "\n",
    "## AGE5: split into AGE{15,30,40,50} columns (ignore \"00\" and \"60\")\n",
    "df = df[df.age5 != \"\"]\n",
    "df.age5 = df.age5.astype(int)\n",
    "for x in list(set(df[\"age5\"].get_values())):\n",
    "    df[\"age{}\".format(x)] = np.where(df[\"age5\"] == x, 1, 0)\n",
    "    \n",
    "## DIP11: group/split into DIP{0,1,3,4,5,6,7}\n",
    "df = df[df.dip11 != \"\"]\n",
    "df.dip11 = df.dip11.astype(int)\n",
    "for x in list(set(df[\"dip11\"].get_values())):\n",
    "    df[\"dip{}\".format(x)] = np.where(df[\"dip11\"] == x, 1, 0)\n",
    "\n",
    "## SEXE\n",
    "df[\"female\"] = df[\"sexe\"].map({'1': 0, '2': 1})\n",
    "\n",
    "df.head()"
   ]
  },
  {
   "cell_type": "code",
   "execution_count": null,
   "metadata": {
    "collapsed": false
   },
   "outputs": [],
   "source": [
    "import statsmodels.api as sm\n",
    "\n",
    "# Get rid of data we don't need in the regression\n",
    "df = df[df.age60 == 0]\n",
    "\n",
    "# https://www.datarobot.com/blog/multiple-regression-using-statsmodels/\n",
    "female = [\"female\"]\n",
    "age = [\"age{}\".format(x) for x in [\"15\", \"30\", \"40\", \"50\"][:-1]] # ignore 50 (dummy variable trap) and 60 (no data)\n",
    "# diploma = [\"dip{}\".format(x) for x in [\"10\", \"11\", \"30\", \"31\", \"33\", \"41\", \"42\", \"50\", \"60\", \"70\", \"71\"][:-1]] # careful with dip11 (same name as original column)\n",
    "X = female + age #+ diploma\n",
    "X = df[X]\n",
    "y = df[\"actop\"]\n",
    "X = sm.add_constant(X)\n",
    "est = sm.OLS(y, X).fit()\n",
    "est.summary()\n",
    "\n",
    "# TODO:\n",
    "    # talk about the \"dummy variable\" trap\n",
    "    # fix the DIP11 bug\n",
    "    # give an example of the model and what the dummies represent (for reference)\n",
    "        # see \"specification du modele\" in your notes"
   ]
  }
 ],
 "metadata": {
  "kernelspec": {
   "display_name": "Python 2",
   "language": "python",
   "name": "python2"
  },
  "language_info": {
   "codemirror_mode": {
    "name": "ipython",
    "version": 2
   },
   "file_extension": ".py",
   "mimetype": "text/x-python",
   "name": "python",
   "nbconvert_exporter": "python",
   "pygments_lexer": "ipython2",
   "version": "2.7.13"
  }
 },
 "nbformat": 4,
 "nbformat_minor": 1
}
